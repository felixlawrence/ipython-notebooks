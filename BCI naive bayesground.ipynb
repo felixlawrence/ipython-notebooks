{
 "metadata": {
  "name": "BCI naive bayesground"
 },
 "nbformat": 3,
 "nbformat_minor": 0,
 "worksheets": [
  {
   "cells": [
    {
     "cell_type": "code",
     "collapsed": false,
     "input": [
      "import numpy as np\n",
      "import pandas as pd\n",
      "from matplotlib import pyplot as plt\n",
      "from sklearn.gaussian_process import GaussianProcess\n",
      "\n",
      "\n",
      "import warnings\n",
      "warnings.filterwarnings(\"ignore\", category=DeprecationWarning,\n",
      "                        module=\"pandas\", lineno=570)\n",
      "\n",
      "#%pylab inline\n",
      "\n",
      "#import sys\n",
      "#sys.path.append(\"/home/felix/Code/BCI/\")"
     ],
     "language": "python",
     "metadata": {},
     "outputs": [],
     "prompt_number": 1
    },
    {
     "cell_type": "code",
     "collapsed": false,
     "input": [
      "%run \"/home/felix/Code/BCI/load_full.py\""
     ],
     "language": "python",
     "metadata": {},
     "outputs": [],
     "prompt_number": 2
    },
    {
     "cell_type": "code",
     "collapsed": false,
     "input": [
      "%time census_data = pd.read_pickle(\"/home/felix/Data/data_BCI/census_data.pickle\")"
     ],
     "language": "python",
     "metadata": {},
     "outputs": [
      {
       "output_type": "stream",
       "stream": "stdout",
       "text": [
        "CPU times: user 3.17 s, sys: 0.41 s, total: 3.57 s\n",
        "Wall time: 3.57 s\n"
       ]
      }
     ],
     "prompt_number": 3
    },
    {
     "cell_type": "code",
     "collapsed": false,
     "input": [
      "one_species_all = census_data[(census_data.sp == 'faraoc')]\n",
      "one_species = one_species_all.loc[3:] # Ignore first two censuses (bigger error margins)\n",
      "one_species.index = pd.MultiIndex.from_tuples(one_species.index, names=one_species.index.names) # Annoyance in pandas; reset index\n",
      "# Move 'growth' one census later, for comparison with death\n",
      "growth = one_species.growth.unstack('CensusID').T.iloc[:-1]\n",
      "growth.index = one_species.index.levels[0][1:]\n",
      "one_species['prev_growth'] = stack_w_censusid(growth.T)"
     ],
     "language": "python",
     "metadata": {},
     "outputs": [],
     "prompt_number": 156
    },
    {
     "cell_type": "code",
     "collapsed": false,
     "input": [
      "one_species_all.loc[:2].dbh.dropna().hist(bins=np.arange(10,60)-0.5)"
     ],
     "language": "python",
     "metadata": {},
     "outputs": [
      {
       "output_type": "pyout",
       "prompt_number": 5,
       "text": [
        "<matplotlib.axes.AxesSubplot at 0x701f290>"
       ]
      }
     ],
     "prompt_number": 5
    },
    {
     "cell_type": "code",
     "collapsed": false,
     "input": [
      "one_species_all.loc[3:].dbh.dropna().hist(bins=np.arange(10,60)-0.5)"
     ],
     "language": "python",
     "metadata": {},
     "outputs": [
      {
       "output_type": "pyout",
       "prompt_number": 6,
       "text": [
        "<matplotlib.axes.AxesSubplot at 0x13e12990>"
       ]
      }
     ],
     "prompt_number": 6
    },
    {
     "cell_type": "code",
     "collapsed": false,
     "input": [
      "figure()\n",
      "one_species.dbh[one_species.survives.fillna(False)].dropna().hist(bins=np.arange(10,90)-0.5)\n",
      "figure()\n",
      "one_species.dbh[one_species.dies.fillna(False)].dropna().hist(bins=np.arange(10,90)-0.5)"
     ],
     "language": "python",
     "metadata": {},
     "outputs": [
      {
       "output_type": "pyout",
       "prompt_number": 7,
       "text": [
        "<matplotlib.axes.AxesSubplot at 0xfc1ac10>"
       ]
      }
     ],
     "prompt_number": 7
    },
    {
     "cell_type": "code",
     "collapsed": false,
     "input": [
      "figure(1)\n",
      "dbh_bins = np.arange(10,90)-0.5\n",
      "surv_dbhs = plt.hist(one_species.dbh[one_species.survives.fillna(False)].dropna(), bins=dbh_bins, normed=True, alpha=0.8)[0]\n",
      "dies_dbhs = plt.hist(one_species.dbh[one_species.dies.fillna(False)].dropna(), bins=dbh_bins, normed=True, alpha=0.6)[0]"
     ],
     "language": "python",
     "metadata": {},
     "outputs": [],
     "prompt_number": 39
    },
    {
     "cell_type": "code",
     "collapsed": false,
     "input": [
      "figure(2)\n",
      "growth_bins = np.arange(-0.4, 2.3, 0.2)-0.1\n",
      "surv_growths = plt.hist(365.25*one_species.prev_growth[one_species.survives.fillna(False)].dropna(), \n",
      "         bins=growth_bins, normed=True, alpha=0.8)[0]\n",
      "dies_growths = plt.hist(365.25*one_species.prev_growth[one_species.dies.fillna(False)].dropna(), \n",
      "             bins=growth_bins, normed=True, alpha=0.5)[0]"
     ],
     "language": "python",
     "metadata": {},
     "outputs": [],
     "prompt_number": 40
    },
    {
     "cell_type": "code",
     "collapsed": false,
     "input": [
      "surv_growths"
     ],
     "language": "python",
     "metadata": {},
     "outputs": [
      {
       "output_type": "pyout",
       "prompt_number": 19,
       "text": [
        "array([ 0.06944596,  0.33694963,  1.22432687,  1.26096371,  0.85730222,\n",
        "        0.51663422,  0.29517269,  0.1745445 ,  0.11089481,  0.06211859,\n",
        "        0.04199567,  0.02843457,  0.02121656])"
       ]
      }
     ],
     "prompt_number": 19
    },
    {
     "cell_type": "code",
     "collapsed": false,
     "input": [
      "prior_survives, prior_dies = [1.*y/(one_species.survives.sum()+one_species.dies.sum())\n",
      "                              for y in (one_species.survives.sum(), one_species.dies.sum())]\n",
      "surv_mat = np.outer(surv_dbhs, surv_growths) * prior_survives\n",
      "dies_mat = np.outer(dies_dbhs, dies_growths) * prior_dies"
     ],
     "language": "python",
     "metadata": {},
     "outputs": [],
     "prompt_number": 41
    },
    {
     "cell_type": "code",
     "collapsed": false,
     "input": [
      "prior_survives, prior_dies"
     ],
     "language": "python",
     "metadata": {},
     "outputs": [
      {
       "output_type": "pyout",
       "prompt_number": 42,
       "text": [
        "(0.794233792125139, 0.20576620787486102)"
       ]
      }
     ],
     "prompt_number": 42
    },
    {
     "cell_type": "code",
     "collapsed": false,
     "input": [
      "(surv_mat >= dies_mat).sum(), surv_mat.size, 1.*(surv_mat >= dies_mat).sum() / surv_mat.size"
     ],
     "language": "python",
     "metadata": {},
     "outputs": [
      {
       "output_type": "pyout",
       "prompt_number": 43,
       "text": [
        "(883, 1027, 0.85978578383641679)"
       ]
      }
     ],
     "prompt_number": 43
    },
    {
     "cell_type": "code",
     "collapsed": false,
     "input": [
      "def pred_survives(r):\n",
      "    return (surv_mat > dies_mat)[(r.dbh > dbh_bins[:-1]) & (r.dbh < dbh_bins[1:]),\n",
      "                                 (r.growth > growth_bins[:-1]) & (r.growth < growth_bins[1:])]"
     ],
     "language": "python",
     "metadata": {},
     "outputs": [],
     "prompt_number": 44
    },
    {
     "cell_type": "code",
     "collapsed": false,
     "input": [
      "one_stem = one_species.xs(1, level='stemID').swaplevel('CensusID','treeID')\n",
      "one_stem = one_stem.ix[one_stem.survives.fillna(False) | one_stem.dies.fillna(False)]"
     ],
     "language": "python",
     "metadata": {},
     "outputs": [],
     "prompt_number": 157
    },
    {
     "cell_type": "code",
     "collapsed": false,
     "input": [
      "tree_ids = one_stem.index.get_level_values('treeID').unique()"
     ],
     "language": "python",
     "metadata": {},
     "outputs": [],
     "prompt_number": 158
    },
    {
     "cell_type": "code",
     "collapsed": false,
     "input": [
      "np.random.shuffle(tree_ids)"
     ],
     "language": "python",
     "metadata": {},
     "outputs": [],
     "prompt_number": 159
    },
    {
     "cell_type": "code",
     "collapsed": false,
     "input": [
      "train, test = tree_ids[:tree_ids.size/2], tree_ids[tree_ids.size/2:]"
     ],
     "language": "python",
     "metadata": {},
     "outputs": [],
     "prompt_number": 160
    },
    {
     "cell_type": "code",
     "collapsed": false,
     "input": [
      "%time training_data = pd.DataFrame({col : one_stem[col].unstack().loc[train].stack() for col in one_stem.columns})"
     ],
     "language": "python",
     "metadata": {},
     "outputs": [
      {
       "output_type": "stream",
       "stream": "stdout",
       "text": [
        "CPU times: user 4.91 s, sys: 0.00 s, total: 4.91 s\n",
        "Wall time: 4.89 s\n"
       ]
      }
     ],
     "prompt_number": 161
    },
    {
     "cell_type": "code",
     "collapsed": false,
     "input": [
      "%time test_data = pd.DataFrame({col : one_stem[col].unstack().loc[test].stack() for col in one_stem.columns})"
     ],
     "language": "python",
     "metadata": {},
     "outputs": [
      {
       "output_type": "stream",
       "stream": "stdout",
       "text": [
        "CPU times: user 4.93 s, sys: 0.00 s, total: 4.93 s\n",
        "Wall time: 4.91 s\n"
       ]
      }
     ],
     "prompt_number": 162
    },
    {
     "cell_type": "code",
     "collapsed": false,
     "input": [
      "%run \"/home/felix/Code/BCI/naive_bayes.py\"\n",
      "nbtrained = NaiveBayes(training_data)"
     ],
     "language": "python",
     "metadata": {},
     "outputs": [],
     "prompt_number": 163
    },
    {
     "cell_type": "code",
     "collapsed": false,
     "input": [
      "%time pred = nbtrained.predict(test_data)"
     ],
     "language": "python",
     "metadata": {},
     "outputs": [
      {
       "output_type": "stream",
       "stream": "stdout",
       "text": [
        "CPU times: user 0.04 s, sys: 0.00 s, total: 0.04 s\n",
        "Wall time: 0.04 s\n"
       ]
      }
     ],
     "prompt_number": 164
    },
    {
     "cell_type": "code",
     "collapsed": false,
     "input": [
      "summary = pd.DataFrame(np.zeros((3,3)), columns=('act surv', 'act dies', 'total'), index=('pred surv', 'pred dies', 'total'))\n",
      "summary.ix['pred surv', 'act surv'] = pred.survives[pred.pred_surv].sum()\n",
      "summary.ix['pred dies', 'act surv'] = pred.survives[~pred.pred_surv].sum()\n",
      "summary.ix['pred surv', 'act dies'] = pred.dies[pred.pred_surv].sum()\n",
      "summary.ix['pred dies', 'act dies'] = pred.dies[~pred.pred_surv].sum()\n",
      "summary.ix['total'] = summary.sum(axis=0)\n",
      "summary['total'] = summary.sum(axis=1)\n",
      "summary"
     ],
     "language": "python",
     "metadata": {},
     "outputs": [
      {
       "html": [
        "<div style=\"max-height:1000px;max-width:1500px;overflow:auto;\">\n",
        "<table border=\"1\" class=\"dataframe\">\n",
        "  <thead>\n",
        "    <tr style=\"text-align: right;\">\n",
        "      <th></th>\n",
        "      <th>act surv</th>\n",
        "      <th>act dies</th>\n",
        "      <th>total</th>\n",
        "    </tr>\n",
        "  </thead>\n",
        "  <tbody>\n",
        "    <tr>\n",
        "      <th>pred surv</th>\n",
        "      <td> 24636</td>\n",
        "      <td> 1854</td>\n",
        "      <td> 26490</td>\n",
        "    </tr>\n",
        "    <tr>\n",
        "      <th>pred dies</th>\n",
        "      <td>     0</td>\n",
        "      <td>    0</td>\n",
        "      <td>     0</td>\n",
        "    </tr>\n",
        "    <tr>\n",
        "      <th>total</th>\n",
        "      <td> 24636</td>\n",
        "      <td> 1854</td>\n",
        "      <td> 26490</td>\n",
        "    </tr>\n",
        "  </tbody>\n",
        "</table>\n",
        "</div>"
       ],
       "output_type": "pyout",
       "prompt_number": 165,
       "text": [
        "           act surv  act dies  total\n",
        "pred surv     24636      1854  26490\n",
        "pred dies         0         0      0\n",
        "total         24636      1854  26490"
       ]
      }
     ],
     "prompt_number": 165
    },
    {
     "cell_type": "code",
     "collapsed": false,
     "input": [
      "print \"precision: \", summary.ix['pred surv', 'act surv']/summary.ix['pred surv', 'total']\n",
      "print \"neg predict val: \" , summary.ix['pred dies', 'act dies']/summary.ix['pred dies', 'total']"
     ],
     "language": "python",
     "metadata": {},
     "outputs": [
      {
       "output_type": "stream",
       "stream": "stdout",
       "text": [
        "precision:  0.846675500818\n",
        "neg predict val:  0.290322580645\n"
       ]
      }
     ],
     "prompt_number": 89
    },
    {
     "cell_type": "code",
     "collapsed": false,
     "input": [
      "print \"sensitivity: \", summary.ix['pred surv', 'act surv']/summary.ix['total', 'act surv']\n",
      "print \"specificity: \" , summary.ix['pred dies', 'act dies']/summary.ix['total', 'act dies']"
     ],
     "language": "python",
     "metadata": {},
     "outputs": [
      {
       "output_type": "stream",
       "stream": "stdout",
       "text": [
        "sensitivity:  0.998988319691\n",
        "specificity:  0.00228252599543\n"
       ]
      }
     ],
     "prompt_number": 90
    },
    {
     "cell_type": "code",
     "collapsed": false,
     "input": [
      "thresholds = np.linspace(0.5,1,100)\n",
      "tpr = np.zeros_like(thresholds)\n",
      "fpr = np.zeros_like(thresholds)\n",
      "for i, t in enumerate(thresholds):\n",
      "    d = nbtrained.predict(test_data, thres=t)\n",
      "    tpr[i] = 1.* d.survives.ix[d.pred_surv].sum() / d.survives.sum()\n",
      "    fpr[i] = 1.*d.dies.ix[d.pred_surv].sum() / d.dies.sum()"
     ],
     "language": "python",
     "metadata": {},
     "outputs": [],
     "prompt_number": 166
    },
    {
     "cell_type": "code",
     "collapsed": false,
     "input": [
      "figure()\n",
      "ylabel(\"TPR\")\n",
      "xlabel(\"FPR\")\n",
      "title(\"ROC for %s\" % one_stem.sp.iloc[0])\n",
      "plot(fpr, tpr, '.-')\n",
      "plot((0,1),(0,1), 'k--')"
     ],
     "language": "python",
     "metadata": {},
     "outputs": [
      {
       "output_type": "pyout",
       "prompt_number": 173,
       "text": [
        "[<matplotlib.lines.Line2D at 0x1c0dc590>]"
       ]
      }
     ],
     "prompt_number": 173
    },
    {
     "cell_type": "code",
     "collapsed": false,
     "input": [
      "nbtrained.predict(test_data).pred_surv.sum() / nbtrained.predict(test_data).survives.sum()"
     ],
     "language": "python",
     "metadata": {},
     "outputs": [
      {
       "output_type": "pyout",
       "prompt_number": 109,
       "text": [
        "1"
       ]
      }
     ],
     "prompt_number": 109
    },
    {
     "cell_type": "code",
     "collapsed": false,
     "input": [
      "nbtrained.surv_mat > 0.5"
     ],
     "language": "python",
     "metadata": {},
     "outputs": [
      {
       "output_type": "pyout",
       "prompt_number": 103,
       "text": [
        "array([[False, False,  True, ..., False, False, False],\n",
        "       [False, False,  True, ..., False, False, False],\n",
        "       [False, False,  True, ..., False, False, False],\n",
        "       ..., \n",
        "       [False, False, False, ..., False, False, False],\n",
        "       [False, False, False, ..., False, False, False],\n",
        "       [False, False,  True, ..., False, False, False]], dtype=bool)"
       ]
      }
     ],
     "prompt_number": 103
    },
    {
     "cell_type": "code",
     "collapsed": false,
     "input": [
      "pred.ix[~pred.pred_surv][['status', 'dbh', 'prev_growth', 'dies', 'survives']]"
     ],
     "language": "python",
     "metadata": {},
     "outputs": [
      {
       "html": [
        "<div style=\"max-height:1000px;max-width:1500px;overflow:auto;\">\n",
        "<table border=\"1\" class=\"dataframe\">\n",
        "  <thead>\n",
        "    <tr style=\"text-align: right;\">\n",
        "      <th></th>\n",
        "      <th></th>\n",
        "      <th>status</th>\n",
        "      <th>dbh</th>\n",
        "      <th>prev_growth</th>\n",
        "      <th>dies</th>\n",
        "      <th>survives</th>\n",
        "    </tr>\n",
        "    <tr>\n",
        "      <th></th>\n",
        "      <th>CensusID</th>\n",
        "      <th></th>\n",
        "      <th></th>\n",
        "      <th></th>\n",
        "      <th></th>\n",
        "      <th></th>\n",
        "    </tr>\n",
        "  </thead>\n",
        "  <tbody>\n",
        "    <tr>\n",
        "      <th>37050 </th>\n",
        "      <th>3</th>\n",
        "      <td> A</td>\n",
        "      <td> 71</td>\n",
        "      <td> 0.001036</td>\n",
        "      <td>  True</td>\n",
        "      <td> False</td>\n",
        "    </tr>\n",
        "    <tr>\n",
        "      <th>42987 </th>\n",
        "      <th>2</th>\n",
        "      <td> A</td>\n",
        "      <td> 88</td>\n",
        "      <td> 0.004459</td>\n",
        "      <td>  True</td>\n",
        "      <td> False</td>\n",
        "    </tr>\n",
        "    <tr>\n",
        "      <th>45789 </th>\n",
        "      <th>2</th>\n",
        "      <td> A</td>\n",
        "      <td> 71</td>\n",
        "      <td> 0.004060</td>\n",
        "      <td> False</td>\n",
        "      <td>   NaN</td>\n",
        "    </tr>\n",
        "    <tr>\n",
        "      <th rowspan=\"2\" valign=\"top\">72570 </th>\n",
        "      <th>4</th>\n",
        "      <td> A</td>\n",
        "      <td> 71</td>\n",
        "      <td> 0.003548</td>\n",
        "      <td> False</td>\n",
        "      <td>  True</td>\n",
        "    </tr>\n",
        "    <tr>\n",
        "      <th>5</th>\n",
        "      <td> A</td>\n",
        "      <td> 71</td>\n",
        "      <td> 0.000000</td>\n",
        "      <td>  True</td>\n",
        "      <td> False</td>\n",
        "    </tr>\n",
        "    <tr>\n",
        "      <th>92367 </th>\n",
        "      <th>6</th>\n",
        "      <td> A</td>\n",
        "      <td> 88</td>\n",
        "      <td> 0.005365</td>\n",
        "      <td> False</td>\n",
        "      <td>  True</td>\n",
        "    </tr>\n",
        "    <tr>\n",
        "      <th>124047</th>\n",
        "      <th>3</th>\n",
        "      <td> A</td>\n",
        "      <td> 86</td>\n",
        "      <td> 0.003093</td>\n",
        "      <td>  True</td>\n",
        "      <td> False</td>\n",
        "    </tr>\n",
        "    <tr>\n",
        "      <th>124799</th>\n",
        "      <th>2</th>\n",
        "      <td> A</td>\n",
        "      <td> 71</td>\n",
        "      <td> 0.000806</td>\n",
        "      <td>  True</td>\n",
        "      <td> False</td>\n",
        "    </tr>\n",
        "    <tr>\n",
        "      <th>131651</th>\n",
        "      <th>2</th>\n",
        "      <td> A</td>\n",
        "      <td> 71</td>\n",
        "      <td> 0.007937</td>\n",
        "      <td> False</td>\n",
        "      <td>  True</td>\n",
        "    </tr>\n",
        "    <tr>\n",
        "      <th>143446</th>\n",
        "      <th>4</th>\n",
        "      <td> A</td>\n",
        "      <td> 71</td>\n",
        "      <td> 0.001763</td>\n",
        "      <td> False</td>\n",
        "      <td>  True</td>\n",
        "    </tr>\n",
        "    <tr>\n",
        "      <th rowspan=\"2\" valign=\"top\">160622</th>\n",
        "      <th>2</th>\n",
        "      <td> A</td>\n",
        "      <td> 77</td>\n",
        "      <td> 0.009027</td>\n",
        "      <td> False</td>\n",
        "      <td>  True</td>\n",
        "    </tr>\n",
        "    <tr>\n",
        "      <th>4</th>\n",
        "      <td> A</td>\n",
        "      <td> 86</td>\n",
        "      <td> 0.004499</td>\n",
        "      <td> False</td>\n",
        "      <td>  True</td>\n",
        "    </tr>\n",
        "    <tr>\n",
        "      <th>164933</th>\n",
        "      <th>2</th>\n",
        "      <td> A</td>\n",
        "      <td> 71</td>\n",
        "      <td> 0.001854</td>\n",
        "      <td>  True</td>\n",
        "      <td> False</td>\n",
        "    </tr>\n",
        "    <tr>\n",
        "      <th>172054</th>\n",
        "      <th>2</th>\n",
        "      <td> A</td>\n",
        "      <td> 77</td>\n",
        "      <td> 0.000971</td>\n",
        "      <td>  True</td>\n",
        "      <td> False</td>\n",
        "    </tr>\n",
        "    <tr>\n",
        "      <th>188357</th>\n",
        "      <th>2</th>\n",
        "      <td> A</td>\n",
        "      <td> 71</td>\n",
        "      <td> 0.011399</td>\n",
        "      <td>  True</td>\n",
        "      <td> False</td>\n",
        "    </tr>\n",
        "    <tr>\n",
        "      <th>208954</th>\n",
        "      <th>3</th>\n",
        "      <td> A</td>\n",
        "      <td> 71</td>\n",
        "      <td> 0.004310</td>\n",
        "      <td> False</td>\n",
        "      <td>  True</td>\n",
        "    </tr>\n",
        "    <tr>\n",
        "      <th>226022</th>\n",
        "      <th>7</th>\n",
        "      <td> A</td>\n",
        "      <td> 77</td>\n",
        "      <td> 0.002188</td>\n",
        "      <td>   NaN</td>\n",
        "      <td>   NaN</td>\n",
        "    </tr>\n",
        "  </tbody>\n",
        "</table>\n",
        "</div>"
       ],
       "output_type": "pyout",
       "prompt_number": 28,
       "text": [
        "                status  dbh  prev_growth   dies survives\n",
        "       CensusID                                         \n",
        "37050  3             A   71     0.001036   True    False\n",
        "42987  2             A   88     0.004459   True    False\n",
        "45789  2             A   71     0.004060  False      NaN\n",
        "72570  4             A   71     0.003548  False     True\n",
        "       5             A   71     0.000000   True    False\n",
        "92367  6             A   88     0.005365  False     True\n",
        "124047 3             A   86     0.003093   True    False\n",
        "124799 2             A   71     0.000806   True    False\n",
        "131651 2             A   71     0.007937  False     True\n",
        "143446 4             A   71     0.001763  False     True\n",
        "160622 2             A   77     0.009027  False     True\n",
        "       4             A   86     0.004499  False     True\n",
        "164933 2             A   71     0.001854   True    False\n",
        "172054 2             A   77     0.000971   True    False\n",
        "188357 2             A   71     0.011399   True    False\n",
        "208954 3             A   71     0.004310  False     True\n",
        "226022 7             A   77     0.002188    NaN      NaN"
       ]
      }
     ],
     "prompt_number": 28
    },
    {
     "cell_type": "code",
     "collapsed": false,
     "input": [
      "pred.ix[~pred.pred_surv].dies.sum(), pred.ix[~pred.pred_surv].survives.sum()"
     ],
     "language": "python",
     "metadata": {},
     "outputs": [
      {
       "output_type": "pyout",
       "prompt_number": 29,
       "text": [
        "(8, 7)"
       ]
      }
     ],
     "prompt_number": 29
    },
    {
     "cell_type": "code",
     "collapsed": false,
     "input": [
      "(nbtrained.dies_mat >= nbtrained.surv_mat).sum(), nbtrained.dies_mat.size"
     ],
     "language": "python",
     "metadata": {},
     "outputs": [
      {
       "output_type": "pyout",
       "prompt_number": 30,
       "text": [
        "(954, 1027)"
       ]
      }
     ],
     "prompt_number": 30
    },
    {
     "cell_type": "code",
     "collapsed": false,
     "input": [
      "nbtrained.dies_mat / (nbtrained."
     ],
     "language": "python",
     "metadata": {},
     "outputs": []
    },
    {
     "cell_type": "code",
     "collapsed": false,
     "input": [
      "nbtrained.dies_mat"
     ],
     "language": "python",
     "metadata": {},
     "outputs": [
      {
       "output_type": "pyout",
       "prompt_number": 79,
       "text": [
        "array([[ 0.        ,  0.        ,  0.02588541, ...,  0.        ,\n",
        "         0.        ,  0.        ],\n",
        "       [ 0.        ,  0.        ,  0.04241319, ...,  0.        ,\n",
        "         0.        ,  0.        ],\n",
        "       [ 0.        ,  0.        ,  0.04144097, ...,  0.        ,\n",
        "         0.        ,  0.        ],\n",
        "       ..., \n",
        "       [ 0.        ,  0.        ,  0.00012153, ...,  0.        ,\n",
        "         0.        ,  0.        ],\n",
        "       [ 0.        ,  0.        ,  0.        , ...,  0.        ,\n",
        "         0.        ,  0.        ],\n",
        "       [ 0.        ,  0.        ,  0.        , ...,  0.        ,\n",
        "         0.        ,  0.        ]])"
       ]
      }
     ],
     "prompt_number": 79
    },
    {
     "cell_type": "code",
     "collapsed": false,
     "input": [
      "a = (np.array([3,1,5,2]).reshape(-1,1) < np.array([3,5,6]).reshape(1,-1)) & (np.array([3,1,5,2]).reshape(-1,1) >= np.array([1,3,5]).reshape(1,-1))"
     ],
     "language": "python",
     "metadata": {},
     "outputs": [],
     "prompt_number": 31
    },
    {
     "cell_type": "code",
     "collapsed": false,
     "input": [
      "a"
     ],
     "language": "python",
     "metadata": {},
     "outputs": [
      {
       "output_type": "pyout",
       "prompt_number": 32,
       "text": [
        "array([[False,  True, False],\n",
        "       [ True, False, False],\n",
        "       [False, False,  True],\n",
        "       [ True, False, False]], dtype=bool)"
       ]
      }
     ],
     "prompt_number": 32
    },
    {
     "cell_type": "code",
     "collapsed": false,
     "input": [
      "a.nonzero()"
     ],
     "language": "python",
     "metadata": {},
     "outputs": [
      {
       "output_type": "pyout",
       "prompt_number": 33,
       "text": [
        "(array([0, 1, 2, 3]), array([1, 0, 2, 0]))"
       ]
      }
     ],
     "prompt_number": 33
    },
    {
     "cell_type": "code",
     "collapsed": false,
     "input": [],
     "language": "python",
     "metadata": {},
     "outputs": []
    }
   ],
   "metadata": {}
  }
 ]
}