{
 "metadata": {
  "name": "BCI playground"
 },
 "nbformat": 3,
 "nbformat_minor": 0,
 "worksheets": [
  {
   "cells": [
    {
     "cell_type": "code",
     "collapsed": false,
     "input": [
      "import numpy as np\n",
      "import pandas as pd\n",
      "from matplotlib import pyplot as plt\n",
      "from sklearn.gaussian_process import GaussianProcess\n",
      "\n",
      "\n",
      "import warnings\n",
      "warnings.filterwarnings(\"ignore\", category=DeprecationWarning,\n",
      "                        module=\"pandas\", lineno=570)\n",
      "\n",
      "#%pylab inline\n",
      "\n",
      "#import sys\n",
      "#sys.path.append(\"/home/felix/Code/BCI/\")"
     ],
     "language": "python",
     "metadata": {},
     "outputs": [],
     "prompt_number": 1
    },
    {
     "cell_type": "code",
     "collapsed": false,
     "input": [
      "%run \"/home/felix/Code/BCI/load_full.py\""
     ],
     "language": "python",
     "metadata": {},
     "outputs": [],
     "prompt_number": 2
    },
    {
     "cell_type": "code",
     "collapsed": false,
     "input": [
      "#%time census_data = load_all_censuses()\n",
      "#census_data.to_pickle(\"/home/felix/Data/data_BCI/census_data.pickle\")\n",
      "%time census_data = refresh_data_pickle()"
     ],
     "language": "python",
     "metadata": {},
     "outputs": [
      {
       "output_type": "stream",
       "stream": "stdout",
       "text": [
        "loading censuses\n",
        "calc_dt_days"
       ]
      },
      {
       "output_type": "stream",
       "stream": "stdout",
       "text": [
        "\n",
        "forgot name of CensusID"
       ]
      },
      {
       "output_type": "stream",
       "stream": "stdout",
       "text": [
        " ['treeID', 'stemID', None]\n",
        "calc_growth"
       ]
      },
      {
       "output_type": "stream",
       "stream": "stdout",
       "text": [
        "\n",
        "forgot name of CensusID"
       ]
      },
      {
       "output_type": "stream",
       "stream": "stdout",
       "text": [
        " ['treeID', 'stemID', None]\n",
        "calc death"
       ]
      },
      {
       "output_type": "stream",
       "stream": "stdout",
       "text": [
        "\n",
        "forgot name of CensusID"
       ]
      },
      {
       "output_type": "stream",
       "stream": "stdout",
       "text": [
        " ['treeID', 'stemID', None]\n",
        "forgot name of CensusID"
       ]
      },
      {
       "output_type": "stream",
       "stream": "stdout",
       "text": [
        " ['treeID', 'stemID', None]\n",
        "saving pickle..."
       ]
      },
      {
       "output_type": "stream",
       "stream": "stdout",
       "text": [
        "\n",
        "CPU times: user 152.00 s, sys: 3.69 s, total: 155.69 s"
       ]
      },
      {
       "output_type": "stream",
       "stream": "stdout",
       "text": [
        "\n",
        "Wall time: 156.26 s\n"
       ]
      }
     ],
     "prompt_number": 3
    },
    {
     "cell_type": "code",
     "collapsed": false,
     "input": [
      "%time census_data = pd.read_pickle(\"/home/felix/Data/data_BCI/census_data.pickle\")"
     ],
     "language": "python",
     "metadata": {},
     "outputs": [
      {
       "output_type": "stream",
       "stream": "stdout",
       "text": [
        "CPU times: user 3.15 s, sys: 1.07 s, total: 4.22 s\n",
        "Wall time: 5.79 s\n"
       ]
      }
     ],
     "prompt_number": 3
    },
    {
     "cell_type": "code",
     "collapsed": false,
     "input": [
      "%time sab = calc_species_abundance(census_data)"
     ],
     "language": "python",
     "metadata": {},
     "outputs": [
      {
       "output_type": "stream",
       "stream": "stdout",
       "text": [
        "CPU times: user 1.59 s, sys: 0.40 s, total: 1.99 s\n",
        "Wall time: 2.03 s\n"
       ]
      }
     ],
     "prompt_number": 4
    },
    {
     "cell_type": "code",
     "collapsed": false,
     "input": [
      "sab.sort(ascending=False)\n",
      "sab.index[:5]"
     ],
     "language": "python",
     "metadata": {},
     "outputs": [
      {
       "output_type": "pyout",
       "prompt_number": 6,
       "text": [
        "Index([u'hybapr', u'faraoc', u'tri2tu', u'des2pa', u'alsebl'], dtype=object)"
       ]
      }
     ],
     "prompt_number": 6
    },
    {
     "cell_type": "code",
     "collapsed": false,
     "input": [
      "# Vital statistics:\n",
      "print \"%i species.\" % len(census_data.groupby('sp'))\n",
      "print \"%i stems in largest census.\" % max([len(census_data.loc[i+1]) for i in xrange(7)])\n",
      "print \"%i samples.\" % len(census_data)"
     ],
     "language": "python",
     "metadata": {},
     "outputs": [
      {
       "output_type": "stream",
       "stream": "stdout",
       "text": [
        "326 species.\n",
        "394660 stems in largest census.\n",
        "2242742 samples.\n"
       ]
      }
     ],
     "prompt_number": 143
    },
    {
     "cell_type": "code",
     "collapsed": false,
     "input": [
      "one_species_one_year = census_data[census_data['sp'] == sab.index[0]].ix[1]"
     ],
     "language": "python",
     "metadata": {},
     "outputs": [],
     "prompt_number": 7
    },
    {
     "cell_type": "code",
     "collapsed": false,
     "input": [
      "plot(one_species_one_year['gx'], one_species_one_year['gy'], '.')"
     ],
     "language": "python",
     "metadata": {},
     "outputs": [
      {
       "output_type": "pyout",
       "prompt_number": 8,
       "text": [
        "[<matplotlib.lines.Line2D at 0xc518c90>]"
       ]
      }
     ],
     "prompt_number": 8
    },
    {
     "cell_type": "code",
     "collapsed": false,
     "input": [
      "one_species_one_year['gx'], one_species_one_year['gy']"
     ],
     "language": "python",
     "metadata": {},
     "outputs": [
      {
       "output_type": "pyout",
       "prompt_number": 9,
       "text": [
        "(1       151.500000\n",
        "5        50.099998\n",
        "11      437.200012\n",
        "8409    961.400024\n",
        "8410    961.799988\n",
        "8411    962.200012\n",
        "8412    963.200012\n",
        "8413    964.400024\n",
        "8415    961.500000\n",
        "8425    962.700012\n",
        "8444    968.900024\n",
        "8445    968.500000\n",
        "8447    966.500000\n",
        "8448    965.799988\n",
        "8449    965.299988\n",
        "...\n",
        "394431    985.929993\n",
        "394433    994.109985\n",
        "394443    992.599976\n",
        "394458    997.510010\n",
        "394462    980.659973\n",
        "394473    985.609985\n",
        "394525    998.280029\n",
        "394538    982.690002\n",
        "394565    987.570007\n",
        "394594    987.190002\n",
        "394614    994.169983\n",
        "394646    997.659973\n",
        "394650    987.880005\n",
        "394657    995.200012\n",
        "394659    997.880005\n",
        "Name: gx, Length: 61547, dtype: float64,\n",
        " 1       378.799988\n",
        "5       215.399994\n",
        "11      134.300003\n",
        "8409    200.899994\n",
        "8410    200.899994\n",
        "8411    200.899994\n",
        "8412    199.800003\n",
        "8413    200.100006\n",
        "8415    204.699997\n",
        "8425    207.899994\n",
        "8444    215.399994\n",
        "8445    214.699997\n",
        "8447    216.000000\n",
        "8448    216.199997\n",
        "8449    215.399994\n",
        "...\n",
        "394431    242.020004\n",
        "394433    240.779999\n",
        "394443    276.980011\n",
        "394458    315.480011\n",
        "394462    320.970001\n",
        "394473    346.649994\n",
        "394525    415.440002\n",
        "394538    429.850006\n",
        "394565    433.109985\n",
        "394594    453.190002\n",
        "394614    451.480011\n",
        "394646    468.399994\n",
        "394650    493.420013\n",
        "394657    490.859985\n",
        "394659    483.239990\n",
        "Name: gy, Length: 61547, dtype: float64)"
       ]
      }
     ],
     "prompt_number": 9
    },
    {
     "cell_type": "code",
     "collapsed": false,
     "input": [
      "len(census_data.pddate.index.get_duplicates())"
     ],
     "language": "python",
     "metadata": {},
     "outputs": [
      {
       "output_type": "pyout",
       "prompt_number": 55,
       "text": [
        "0"
       ]
      }
     ],
     "prompt_number": 55
    },
    {
     "cell_type": "code",
     "collapsed": false,
     "input": [
      "len(census_data)"
     ],
     "language": "python",
     "metadata": {},
     "outputs": [
      {
       "output_type": "pyout",
       "prompt_number": 56,
       "text": [
        "1880183"
       ]
      }
     ],
     "prompt_number": 56
    },
    {
     "cell_type": "code",
     "collapsed": false,
     "input": [
      "for i in np.arange(1,8):\n",
      "    c = load_one_census(i)\n",
      "    print i, c.index.has_duplicates"
     ],
     "language": "python",
     "metadata": {},
     "outputs": [
      {
       "output_type": "stream",
       "stream": "stdout",
       "text": [
        "1 False\n",
        "2"
       ]
      },
      {
       "output_type": "stream",
       "stream": "stdout",
       "text": [
        " False\n",
        "3"
       ]
      },
      {
       "output_type": "stream",
       "stream": "stdout",
       "text": [
        " False\n",
        "4"
       ]
      },
      {
       "output_type": "stream",
       "stream": "stdout",
       "text": [
        " False\n",
        "5"
       ]
      },
      {
       "output_type": "stream",
       "stream": "stdout",
       "text": [
        " False\n",
        "6"
       ]
      },
      {
       "output_type": "stream",
       "stream": "stdout",
       "text": [
        " False\n",
        "7"
       ]
      },
      {
       "output_type": "stream",
       "stream": "stdout",
       "text": [
        " False\n"
       ]
      }
     ],
     "prompt_number": 53
    },
    {
     "cell_type": "code",
     "collapsed": false,
     "input": [
      "c.index.has_duplicates"
     ],
     "language": "python",
     "metadata": {},
     "outputs": [
      {
       "output_type": "pyout",
       "prompt_number": 10,
       "text": [
        "False"
       ]
      }
     ],
     "prompt_number": 10
    },
    {
     "cell_type": "code",
     "collapsed": false,
     "input": [
      "c[np.logical_not(c.origCensusID.isnull())]"
     ],
     "language": "python",
     "metadata": {},
     "outputs": [
      {
       "html": [
        "<pre>\n",
        "&lt;class 'pandas.core.frame.DataFrame'&gt;\n",
        "MultiIndex: 285784 entries, (1, 1.0) to (455028, 1.0)\n",
        "Data columns (total 19 columns):\n",
        "tag             285784  non-null values\n",
        "StemTag         0  non-null values\n",
        "sp              285784  non-null values\n",
        "quadrat         285732  non-null values\n",
        "gx              285713  non-null values\n",
        "gy              285713  non-null values\n",
        "MeasureID       285784  non-null values\n",
        "origCensusID    285784  non-null values\n",
        "dbh             244060  non-null values\n",
        "pom             244060  non-null values\n",
        "hom             244060  non-null values\n",
        "ExactDate       285775  non-null values\n",
        "DFstatus        285784  non-null values\n",
        "codes           82012  non-null values\n",
        "nostems         285784  non-null values\n",
        "status          285784  non-null values\n",
        "date            285775  non-null values\n",
        "agb             285784  non-null values\n",
        "pddate          285775  non-null values\n",
        "dtypes: datetime64[ns](1), float64(12), int64(1), object(5)\n",
        "</pre>"
       ],
       "output_type": "pyout",
       "prompt_number": 6,
       "text": [
        "<class 'pandas.core.frame.DataFrame'>\n",
        "MultiIndex: 285784 entries, (1, 1.0) to (455028, 1.0)\n",
        "Data columns (total 19 columns):\n",
        "tag             285784  non-null values\n",
        "StemTag         0  non-null values\n",
        "sp              285784  non-null values\n",
        "quadrat         285732  non-null values\n",
        "gx              285713  non-null values\n",
        "gy              285713  non-null values\n",
        "MeasureID       285784  non-null values\n",
        "origCensusID    285784  non-null values\n",
        "dbh             244060  non-null values\n",
        "pom             244060  non-null values\n",
        "hom             244060  non-null values\n",
        "ExactDate       285775  non-null values\n",
        "DFstatus        285784  non-null values\n",
        "codes           82012  non-null values\n",
        "nostems         285784  non-null values\n",
        "status          285784  non-null values\n",
        "date            285775  non-null values\n",
        "agb             285784  non-null values\n",
        "pddate          285775  non-null values\n",
        "dtypes: datetime64[ns](1), float64(12), int64(1), object(5)"
       ]
      }
     ],
     "prompt_number": 6
    },
    {
     "cell_type": "code",
     "collapsed": false,
     "input": [
      "len(c), len(c.dropna(how='all'))"
     ],
     "language": "python",
     "metadata": {},
     "outputs": [
      {
       "output_type": "pyout",
       "prompt_number": 48,
       "text": [
        "(325629, 325629)"
       ]
      }
     ],
     "prompt_number": 48
    },
    {
     "cell_type": "code",
     "collapsed": false,
     "input": [
      "calc_dt_days(census_data)"
     ],
     "language": "python",
     "metadata": {},
     "outputs": [],
     "prompt_number": 62
    },
    {
     "cell_type": "code",
     "collapsed": false,
     "input": [
      "census_data.dt_days"
     ],
     "language": "python",
     "metadata": {},
     "outputs": [
      {
       "output_type": "pyout",
       "prompt_number": 63,
       "text": [
        "CensusID  treeID  stemID\n",
        "1         1       1        NaN\n",
        "          2       1        NaN\n",
        "          3       1        NaN\n",
        "          18      1        NaN\n",
        "          19      1        NaN\n",
        "          20      1        NaN\n",
        "          21      1        NaN\n",
        "          22      1        NaN\n",
        "          23      1        NaN\n",
        "          24      1        NaN\n",
        "          25      1        NaN\n",
        "          26      1        NaN\n",
        "          27      1        NaN\n",
        "          28      1        NaN\n",
        "          29      1        NaN\n",
        "...\n",
        "7         481554  1        NaN\n",
        "          481555  1        NaN\n",
        "          481556  1        NaN\n",
        "          481557  1        NaN\n",
        "          481558  1        NaN\n",
        "          481559  1        NaN\n",
        "          481560  1        NaN\n",
        "          481561  1        NaN\n",
        "          481562  1        NaN\n",
        "          481563  1        NaN\n",
        "          481564  1        NaN\n",
        "          481565  1        NaN\n",
        "          481566  1        NaN\n",
        "          481567  1        NaN\n",
        "          481568  1        NaN\n",
        "Name: dt_days, Length: 2242742, dtype: float64"
       ]
      }
     ],
     "prompt_number": 63
    },
    {
     "cell_type": "code",
     "collapsed": false,
     "input": [
      "data_subset = census_data.ix[census_data['sp'] == 'hybapr'].xs(1, level='stemID')"
     ],
     "language": "python",
     "metadata": {},
     "outputs": [],
     "prompt_number": 128
    },
    {
     "cell_type": "code",
     "collapsed": false,
     "input": [
      "dates = data_subset.pddate.unstack(level='CensusID')\n",
      "# Bug in pandas: https://github.com/pydata/pandas/issues/4533\n",
      "dt = dates.apply(pd.Series.diff, axis=1)\n",
      "# Annoyance in numpy: http://stackoverflow.com/questions/18215317/extracting-days-from-a-numpy-timedelta64-value\n",
      "dt_days = dt/np.timedelta64(1, 'D')\n",
      "\n",
      "# store t_{i+1} - t_i with data point i\n",
      "dt_days = dt_days[1:]\n",
      "dt_days.index = dt.index[:-1]\n",
      "data_subset['dt_days'] = dt_days.stack().swaplevel('CensusID','treeID')\n"
     ],
     "language": "python",
     "metadata": {},
     "outputs": [],
     "prompt_number": 145
    },
    {
     "cell_type": "code",
     "collapsed": false,
     "input": [
      "data_subset['dt_days'].dropna()"
     ],
     "language": "python",
     "metadata": {},
     "outputs": [
      {
       "output_type": "pyout",
       "prompt_number": 147,
       "text": [
        "CensusID  treeID\n",
        "2         12        1631\n",
        "          8410      1631\n",
        "          8411      1631\n",
        "          8412      1485\n",
        "          8416      1631\n",
        "          8426      1631\n",
        "          8445      1631\n",
        "          8446      1631\n",
        "          8448      1631\n",
        "          8449      1631\n",
        "          8450      1631\n",
        "          8452      1631\n",
        "          8454      1631\n",
        "          8471      1631\n",
        "          8481      1631\n",
        "...\n",
        "7         367538    1785\n",
        "          367861    1809\n",
        "          367897    1804\n",
        "          367898    1804\n",
        "          367900    1804\n",
        "          367902    1805\n",
        "          367927    1802\n",
        "          367937    1802\n",
        "          367940    1802\n",
        "          367965    1803\n",
        "          368011    1803\n",
        "          368013    1803\n",
        "          368016    1805\n",
        "          368022    1805\n",
        "          368034    1805\n",
        "Name: dt_days, Length: 84752, dtype: float64"
       ]
      }
     ],
     "prompt_number": 147
    },
    {
     "cell_type": "code",
     "collapsed": false,
     "input": [
      "len(onestemdates)/1000.*0.105"
     ],
     "language": "python",
     "metadata": {},
     "outputs": [
      {
       "output_type": "pyout",
       "prompt_number": 91,
       "text": [
        "41.394255"
       ]
      }
     ],
     "prompt_number": 91
    },
    {
     "cell_type": "code",
     "collapsed": false,
     "input": [],
     "language": "python",
     "metadata": {},
     "outputs": []
    },
    {
     "cell_type": "code",
     "collapsed": false,
     "input": [
      "len(dates) / 4. * 1.67"
     ],
     "language": "python",
     "metadata": {},
     "outputs": [
      {
       "output_type": "pyout",
       "prompt_number": 84,
       "text": [
        "310592.445"
       ]
      }
     ],
     "prompt_number": 84
    },
    {
     "cell_type": "code",
     "collapsed": false,
     "input": [
      "dt.loc[:4]"
     ],
     "language": "python",
     "metadata": {},
     "outputs": [
      {
       "html": [
        "<div style=\"max-height:1000px;max-width:1500px;overflow:auto;\">\n",
        "<table border=\"1\" class=\"dataframe\">\n",
        "  <thead>\n",
        "    <tr style=\"text-align: right;\">\n",
        "      <th></th>\n",
        "      <th></th>\n",
        "      <th>1</th>\n",
        "      <th>2</th>\n",
        "      <th>3</th>\n",
        "      <th>4</th>\n",
        "      <th>5</th>\n",
        "      <th>6</th>\n",
        "      <th>7</th>\n",
        "    </tr>\n",
        "    <tr>\n",
        "      <th>treeID</th>\n",
        "      <th>stemID</th>\n",
        "      <th></th>\n",
        "      <th></th>\n",
        "      <th></th>\n",
        "      <th></th>\n",
        "      <th></th>\n",
        "      <th></th>\n",
        "      <th></th>\n",
        "    </tr>\n",
        "  </thead>\n",
        "  <tbody>\n",
        "    <tr>\n",
        "      <th rowspan=\"2\" valign=\"top\">1</th>\n",
        "      <th>0</th>\n",
        "      <td>NaT</td>\n",
        "      <td>NaT</td>\n",
        "      <td>NaT</td>\n",
        "      <td>NaT</td>\n",
        "      <td>NaT</td>\n",
        "      <td>NaT</td>\n",
        "      <td>NaT</td>\n",
        "    </tr>\n",
        "    <tr>\n",
        "      <th>1</th>\n",
        "      <td>NaT</td>\n",
        "      <td>NaT</td>\n",
        "      <td>NaT</td>\n",
        "      <td>NaT</td>\n",
        "      <td>NaT</td>\n",
        "      <td>NaT</td>\n",
        "      <td>NaT</td>\n",
        "    </tr>\n",
        "    <tr>\n",
        "      <th rowspan=\"2\" valign=\"top\">2</th>\n",
        "      <th>0</th>\n",
        "      <td>NaT</td>\n",
        "      <td>NaT</td>\n",
        "      <td>NaT</td>\n",
        "      <td>NaT</td>\n",
        "      <td>NaT</td>\n",
        "      <td>NaT</td>\n",
        "      <td>NaT</td>\n",
        "    </tr>\n",
        "    <tr>\n",
        "      <th>1</th>\n",
        "      <td>NaT</td>\n",
        "      <td>NaT</td>\n",
        "      <td>NaT</td>\n",
        "      <td>NaT</td>\n",
        "      <td>NaT</td>\n",
        "      <td>NaT</td>\n",
        "      <td>NaT</td>\n",
        "    </tr>\n",
        "    <tr>\n",
        "      <th rowspan=\"2\" valign=\"top\">3</th>\n",
        "      <th>0</th>\n",
        "      <td>NaT</td>\n",
        "      <td>NaT</td>\n",
        "      <td>NaT</td>\n",
        "      <td>NaT</td>\n",
        "      <td>NaT</td>\n",
        "      <td>NaT</td>\n",
        "      <td>NaT</td>\n",
        "    </tr>\n",
        "    <tr>\n",
        "      <th>1</th>\n",
        "      <td>NaT</td>\n",
        "      <td>NaT</td>\n",
        "      <td>NaT</td>\n",
        "      <td>NaT</td>\n",
        "      <td>NaT</td>\n",
        "      <td>NaT</td>\n",
        "      <td>NaT</td>\n",
        "    </tr>\n",
        "    <tr>\n",
        "      <th rowspan=\"2\" valign=\"top\">4</th>\n",
        "      <th>0</th>\n",
        "      <td>NaT</td>\n",
        "      <td>NaT</td>\n",
        "      <td>NaT</td>\n",
        "      <td>NaT</td>\n",
        "      <td>NaT</td>\n",
        "      <td>NaT</td>\n",
        "      <td>NaT</td>\n",
        "    </tr>\n",
        "    <tr>\n",
        "      <th>1</th>\n",
        "      <td>NaT</td>\n",
        "      <td>NaT</td>\n",
        "      <td>NaT</td>\n",
        "      <td>NaT</td>\n",
        "      <td>NaT</td>\n",
        "      <td>NaT</td>\n",
        "      <td>NaT</td>\n",
        "    </tr>\n",
        "  </tbody>\n",
        "</table>\n",
        "</div>"
       ],
       "output_type": "pyout",
       "prompt_number": 74,
       "text": [
        "                1   2   3   4   5   6   7\n",
        "treeID stemID                            \n",
        "1      0      NaT NaT NaT NaT NaT NaT NaT\n",
        "       1      NaT NaT NaT NaT NaT NaT NaT\n",
        "2      0      NaT NaT NaT NaT NaT NaT NaT\n",
        "       1      NaT NaT NaT NaT NaT NaT NaT\n",
        "3      0      NaT NaT NaT NaT NaT NaT NaT\n",
        "       1      NaT NaT NaT NaT NaT NaT NaT\n",
        "4      0      NaT NaT NaT NaT NaT NaT NaT\n",
        "       1      NaT NaT NaT NaT NaT NaT NaT"
       ]
      }
     ],
     "prompt_number": 74
    },
    {
     "cell_type": "code",
     "collapsed": false,
     "input": [
      "%run \"/home/felix/Code/BCI/load_full.py\"\n",
      "d =load_one_census(4)"
     ],
     "language": "python",
     "metadata": {},
     "outputs": [],
     "prompt_number": 57
    },
    {
     "cell_type": "code",
     "collapsed": false,
     "input": [
      "d.index.has_duplicates"
     ],
     "language": "python",
     "metadata": {},
     "outputs": [
      {
       "output_type": "pyout",
       "prompt_number": 58,
       "text": [
        "False"
       ]
      }
     ],
     "prompt_number": 58
    },
    {
     "cell_type": "code",
     "collapsed": false,
     "input": [
      "d = d.drop('treeID', axis=1)"
     ],
     "language": "python",
     "metadata": {},
     "outputs": [],
     "prompt_number": 44
    },
    {
     "cell_type": "code",
     "collapsed": false,
     "input": [
      "x = pd.MultiIndex.from_arrays((d.treeID, d.stemID), names=('treeID', 'stemID'))"
     ],
     "language": "python",
     "metadata": {},
     "outputs": [],
     "prompt_number": 36
    },
    {
     "cell_type": "code",
     "collapsed": false,
     "input": [
      "census_data.pddate.unstack(level='CensusID')"
     ],
     "language": "python",
     "metadata": {},
     "outputs": [
      {
       "ename": "ReshapeError",
       "evalue": "Index contains duplicate entries, cannot reshape",
       "output_type": "pyerr",
       "traceback": [
        "\u001b[0;31m---------------------------------------------------------------------------\u001b[0m\n\u001b[0;31mReshapeError\u001b[0m                              Traceback (most recent call last)",
        "\u001b[0;32m<ipython-input-64-783b06bd4786>\u001b[0m in \u001b[0;36m<module>\u001b[0;34m()\u001b[0m\n\u001b[0;32m----> 1\u001b[0;31m \u001b[0mcensus_data\u001b[0m\u001b[0;34m.\u001b[0m\u001b[0mpddate\u001b[0m\u001b[0;34m.\u001b[0m\u001b[0munstack\u001b[0m\u001b[0;34m(\u001b[0m\u001b[0mlevel\u001b[0m\u001b[0;34m=\u001b[0m\u001b[0;34m'CensusID'\u001b[0m\u001b[0;34m)\u001b[0m\u001b[0;34m\u001b[0m\u001b[0m\n\u001b[0m",
        "\u001b[0;32m/usr/lib/python2.7/dist-packages/pandas/core/series.pyc\u001b[0m in \u001b[0;36munstack\u001b[0;34m(self, level)\u001b[0m\n\u001b[1;32m   2437\u001b[0m         \"\"\"\n\u001b[1;32m   2438\u001b[0m         \u001b[0;32mfrom\u001b[0m \u001b[0mpandas\u001b[0m\u001b[0;34m.\u001b[0m\u001b[0mcore\u001b[0m\u001b[0;34m.\u001b[0m\u001b[0mreshape\u001b[0m \u001b[0;32mimport\u001b[0m \u001b[0munstack\u001b[0m\u001b[0;34m\u001b[0m\u001b[0m\n\u001b[0;32m-> 2439\u001b[0;31m         \u001b[0;32mreturn\u001b[0m \u001b[0munstack\u001b[0m\u001b[0;34m(\u001b[0m\u001b[0mself\u001b[0m\u001b[0;34m,\u001b[0m \u001b[0mlevel\u001b[0m\u001b[0;34m)\u001b[0m\u001b[0;34m\u001b[0m\u001b[0m\n\u001b[0m\u001b[1;32m   2440\u001b[0m \u001b[0;34m\u001b[0m\u001b[0m\n\u001b[1;32m   2441\u001b[0m     \u001b[0;31m#----------------------------------------------------------------------\u001b[0m\u001b[0;34m\u001b[0m\u001b[0;34m\u001b[0m\u001b[0m\n",
        "\u001b[0;32m/usr/lib/python2.7/dist-packages/pandas/core/reshape.pyc\u001b[0m in \u001b[0;36munstack\u001b[0;34m(obj, level)\u001b[0m\n\u001b[1;32m    417\u001b[0m             \u001b[0;32mreturn\u001b[0m \u001b[0mobj\u001b[0m\u001b[0;34m.\u001b[0m\u001b[0mT\u001b[0m\u001b[0;34m.\u001b[0m\u001b[0mstack\u001b[0m\u001b[0;34m(\u001b[0m\u001b[0mdropna\u001b[0m\u001b[0;34m=\u001b[0m\u001b[0mFalse\u001b[0m\u001b[0;34m)\u001b[0m\u001b[0;34m\u001b[0m\u001b[0m\n\u001b[1;32m    418\u001b[0m     \u001b[0;32melse\u001b[0m\u001b[0;34m:\u001b[0m\u001b[0;34m\u001b[0m\u001b[0m\n\u001b[0;32m--> 419\u001b[0;31m         \u001b[0munstacker\u001b[0m \u001b[0;34m=\u001b[0m \u001b[0m_Unstacker\u001b[0m\u001b[0;34m(\u001b[0m\u001b[0mobj\u001b[0m\u001b[0;34m.\u001b[0m\u001b[0mvalues\u001b[0m\u001b[0;34m,\u001b[0m \u001b[0mobj\u001b[0m\u001b[0;34m.\u001b[0m\u001b[0mindex\u001b[0m\u001b[0;34m,\u001b[0m \u001b[0mlevel\u001b[0m\u001b[0;34m=\u001b[0m\u001b[0mlevel\u001b[0m\u001b[0;34m)\u001b[0m\u001b[0;34m\u001b[0m\u001b[0m\n\u001b[0m\u001b[1;32m    420\u001b[0m         \u001b[0;32mreturn\u001b[0m \u001b[0munstacker\u001b[0m\u001b[0;34m.\u001b[0m\u001b[0mget_result\u001b[0m\u001b[0;34m(\u001b[0m\u001b[0;34m)\u001b[0m\u001b[0;34m\u001b[0m\u001b[0m\n\u001b[1;32m    421\u001b[0m \u001b[0;34m\u001b[0m\u001b[0m\n",
        "\u001b[0;32m/usr/lib/python2.7/dist-packages/pandas/core/reshape.pyc\u001b[0m in \u001b[0;36m__init__\u001b[0;34m(self, values, index, level, value_columns)\u001b[0m\n\u001b[1;32m     86\u001b[0m \u001b[0;34m\u001b[0m\u001b[0m\n\u001b[1;32m     87\u001b[0m         \u001b[0mself\u001b[0m\u001b[0;34m.\u001b[0m\u001b[0m_make_sorted_values_labels\u001b[0m\u001b[0;34m(\u001b[0m\u001b[0;34m)\u001b[0m\u001b[0;34m\u001b[0m\u001b[0m\n\u001b[0;32m---> 88\u001b[0;31m         \u001b[0mself\u001b[0m\u001b[0;34m.\u001b[0m\u001b[0m_make_selectors\u001b[0m\u001b[0;34m(\u001b[0m\u001b[0;34m)\u001b[0m\u001b[0;34m\u001b[0m\u001b[0m\n\u001b[0m\u001b[1;32m     89\u001b[0m \u001b[0;34m\u001b[0m\u001b[0m\n\u001b[1;32m     90\u001b[0m     \u001b[0;32mdef\u001b[0m \u001b[0m_make_sorted_values_labels\u001b[0m\u001b[0;34m(\u001b[0m\u001b[0mself\u001b[0m\u001b[0;34m)\u001b[0m\u001b[0;34m:\u001b[0m\u001b[0;34m\u001b[0m\u001b[0m\n",
        "\u001b[0;32m/usr/lib/python2.7/dist-packages/pandas/core/reshape.pyc\u001b[0m in \u001b[0;36m_make_selectors\u001b[0;34m(self)\u001b[0m\n\u001b[1;32m    128\u001b[0m \u001b[0;34m\u001b[0m\u001b[0m\n\u001b[1;32m    129\u001b[0m         \u001b[0;32mif\u001b[0m \u001b[0mmask\u001b[0m\u001b[0;34m.\u001b[0m\u001b[0msum\u001b[0m\u001b[0;34m(\u001b[0m\u001b[0;34m)\u001b[0m \u001b[0;34m<\u001b[0m \u001b[0mlen\u001b[0m\u001b[0;34m(\u001b[0m\u001b[0mself\u001b[0m\u001b[0;34m.\u001b[0m\u001b[0mindex\u001b[0m\u001b[0;34m)\u001b[0m\u001b[0;34m:\u001b[0m\u001b[0;34m\u001b[0m\u001b[0m\n\u001b[0;32m--> 130\u001b[0;31m             raise ReshapeError('Index contains duplicate entries, '\n\u001b[0m\u001b[1;32m    131\u001b[0m                                'cannot reshape')\n\u001b[1;32m    132\u001b[0m \u001b[0;34m\u001b[0m\u001b[0m\n",
        "\u001b[0;31mReshapeError\u001b[0m: Index contains duplicate entries, cannot reshape"
       ]
      }
     ],
     "prompt_number": 64
    },
    {
     "cell_type": "code",
     "collapsed": false,
     "input": [
      "census_data.pddate.index."
     ],
     "language": "python",
     "metadata": {},
     "outputs": [
      {
       "output_type": "pyout",
       "prompt_number": 62,
       "text": [
        "True"
       ]
      }
     ],
     "prompt_number": 62
    },
    {
     "cell_type": "code",
     "collapsed": false,
     "input": [
      "np.zeros((5,3)).put?"
     ],
     "language": "python",
     "metadata": {},
     "outputs": [],
     "prompt_number": 66
    },
    {
     "cell_type": "code",
     "collapsed": false,
     "input": [
      "1860314/7"
     ],
     "language": "python",
     "metadata": {},
     "outputs": [
      {
       "output_type": "pyout",
       "prompt_number": 67,
       "text": [
        "265759"
       ]
      }
     ],
     "prompt_number": 67
    },
    {
     "cell_type": "code",
     "collapsed": false,
     "input": [
      "2**63"
     ],
     "language": "python",
     "metadata": {},
     "outputs": [
      {
       "output_type": "pyout",
       "prompt_number": 68,
       "text": [
        "9223372036854775808L"
       ]
      }
     ],
     "prompt_number": 68
    },
    {
     "cell_type": "code",
     "collapsed": false,
     "input": [
      "census_data.index.get_level_values(level=2).min()"
     ],
     "language": "python",
     "metadata": {},
     "outputs": [
      {
       "output_type": "stream",
       "stream": "stderr",
       "text": [
        "ERROR:IPKernelApp:KeyboardInterrupt caught in kernel\n"
       ]
      }
     ],
     "prompt_number": 7
    },
    {
     "cell_type": "code",
     "collapsed": false,
     "input": [
      "census_data.index.labels"
     ],
     "language": "python",
     "metadata": {},
     "outputs": [
      {
       "output_type": "pyout",
       "prompt_number": 6,
       "text": [
        "[array([0, 0, 0, ..., 6, 6, 6]),\n",
        " array([     0,      1,      2, ..., 394657, 394658, 394659]),\n",
        " array([0, 0, 0, ..., 0, 0, 0])]"
       ]
      }
     ],
     "prompt_number": 6
    },
    {
     "cell_type": "code",
     "collapsed": false,
     "input": [
      "census_data.index.labels[2].argmin()"
     ],
     "language": "python",
     "metadata": {},
     "outputs": [
      {
       "output_type": "pyout",
       "prompt_number": 18,
       "text": [
        "503847"
       ]
      }
     ],
     "prompt_number": 18
    },
    {
     "cell_type": "code",
     "collapsed": false,
     "input": [
      "l2 = census_data.index.labels[2]\n",
      "print type(l2), l2\n",
      "print l2.min()\n",
      "print l2.argmin()\n",
      "print l2[l2.argmin()]\n",
      "print census_data.index[l2.argmin()]"
     ],
     "language": "python",
     "metadata": {},
     "outputs": [
      {
       "output_type": "stream",
       "stream": "stdout",
       "text": [
        "<type 'numpy.ndarray'> [0 0 0 ..., 0 0 0]\n",
        "-1\n",
        "503847\n",
        "-1\n",
        "(3, 2, nan)\n"
       ]
      }
     ],
     "prompt_number": 27
    },
    {
     "cell_type": "code",
     "collapsed": false,
     "input": [],
     "language": "python",
     "metadata": {},
     "outputs": []
    },
    {
     "cell_type": "code",
     "collapsed": false,
     "input": [
      "dt = census_data.dt_days.unstack(level='CensusID')\n",
      "day = census_data.pddate.unstack(level='CensusID')"
     ],
     "language": "python",
     "metadata": {},
     "outputs": [],
     "prompt_number": 21
    },
    {
     "cell_type": "code",
     "collapsed": false,
     "input": [
      "dt, day"
     ],
     "language": "python",
     "metadata": {},
     "outputs": [
      {
       "output_type": "pyout",
       "prompt_number": 22,
       "text": [
        "(<class 'pandas.core.frame.DataFrame'>\n",
        "MultiIndex: 743934 entries, (1, 0.0) to (481568, 1.0)\n",
        "Data columns (total 7 columns):\n",
        "1    206476  non-null values\n",
        "2    204397  non-null values\n",
        "3    214834  non-null values\n",
        "4    207564  non-null values\n",
        "5    191098  non-null values\n",
        "6    208911  non-null values\n",
        "7    0  non-null values\n",
        "dtypes: float64(7),\n",
        " <class 'pandas.core.frame.DataFrame'>\n",
        "MultiIndex: 743934 entries, (1, 0.0) to (481568, 1.0)\n",
        "Data columns (total 7 columns):\n",
        "1    235377  non-null values\n",
        "2    268457  non-null values\n",
        "3    285775  non-null values\n",
        "4    278899  non-null values\n",
        "5    263011  non-null values\n",
        "6    251034  non-null values\n",
        "7    277583  non-null values\n",
        "dtypes: datetime64[ns](7))"
       ]
      }
     ],
     "prompt_number": 22
    },
    {
     "cell_type": "code",
     "collapsed": false,
     "input": [
      "dt.mean(), (day/np.timedelta64(1, 'D')).mean()"
     ],
     "language": "python",
     "metadata": {},
     "outputs": [
      {
       "output_type": "pyout",
       "prompt_number": 23,
       "text": [
        "(1    1214.098191\n",
        "2    1924.900488\n",
        "3    1743.702082\n",
        "4    1821.395757\n",
        "5    1840.923992\n",
        "6    1814.243190\n",
        "7            NaN\n",
        "dtype: float64,\n",
        " Series([], dtype: float64))"
       ]
      }
     ],
     "prompt_number": 23
    },
    {
     "cell_type": "code",
     "collapsed": false,
     "input": [
      "dt.std()"
     ],
     "language": "python",
     "metadata": {},
     "outputs": [
      {
       "output_type": "pyout",
       "prompt_number": 24,
       "text": [
        "1    229.995857\n",
        "2     42.018654\n",
        "3     33.410179\n",
        "4     19.137861\n",
        "5     20.457818\n",
        "6     21.874749\n",
        "7           NaN\n",
        "dtype: float64"
       ]
      }
     ],
     "prompt_number": 24
    },
    {
     "cell_type": "code",
     "collapsed": false,
     "input": [
      "(day-day.ix[(1,1),1]).dtypes"
     ],
     "language": "python",
     "metadata": {},
     "outputs": [
      {
       "output_type": "pyout",
       "prompt_number": 38,
       "text": [
        "1    datetime64[ns]\n",
        "2    datetime64[ns]\n",
        "3    datetime64[ns]\n",
        "4    datetime64[ns]\n",
        "5    datetime64[ns]\n",
        "6    datetime64[ns]\n",
        "7    datetime64[ns]\n",
        "dtype: object"
       ]
      }
     ],
     "prompt_number": 38
    },
    {
     "cell_type": "code",
     "collapsed": false,
     "input": [
      "((day-day.ix[(1,1),1])/np.timedelta64(1, 'D')).head()"
     ],
     "language": "python",
     "metadata": {},
     "outputs": [
      {
       "html": [
        "<div style=\"max-height:1000px;max-width:1500px;overflow:auto;\">\n",
        "<table border=\"1\" class=\"dataframe\">\n",
        "  <thead>\n",
        "    <tr style=\"text-align: right;\">\n",
        "      <th></th>\n",
        "      <th></th>\n",
        "      <th>1</th>\n",
        "      <th>2</th>\n",
        "      <th>3</th>\n",
        "      <th>4</th>\n",
        "      <th>5</th>\n",
        "      <th>6</th>\n",
        "      <th>7</th>\n",
        "    </tr>\n",
        "    <tr>\n",
        "      <th>treeID</th>\n",
        "      <th>stemID</th>\n",
        "      <th></th>\n",
        "      <th></th>\n",
        "      <th></th>\n",
        "      <th></th>\n",
        "      <th></th>\n",
        "      <th></th>\n",
        "      <th></th>\n",
        "    </tr>\n",
        "  </thead>\n",
        "  <tbody>\n",
        "    <tr>\n",
        "      <th rowspan=\"2\" valign=\"top\">1</th>\n",
        "      <th>0</th>\n",
        "      <td>2250-10-31 23:47:16.854775808</td>\n",
        "      <td>2250-10-31 23:47:16.854775808</td>\n",
        "      <td>2250-10-31 23:47:16.854775808</td>\n",
        "      <td>2250-10-31 23:47:16.854775808</td>\n",
        "      <td>2250-10-31 23:47:16.854775808</td>\n",
        "      <td>2250-10-31 23:47:16.854775808</td>\n",
        "      <td>2250-10-31 23:47:16.854775808</td>\n",
        "    </tr>\n",
        "    <tr>\n",
        "      <th>1</th>\n",
        "      <td>          1970-01-01 00:00:00</td>\n",
        "      <td>          1974-01-17 00:00:00</td>\n",
        "      <td>          1979-05-11 00:00:00</td>\n",
        "      <td>2250-10-31 23:47:16.854775808</td>\n",
        "      <td>2250-10-31 23:47:16.854775808</td>\n",
        "      <td>2250-10-31 23:47:16.854775808</td>\n",
        "      <td>2250-10-31 23:47:16.854775808</td>\n",
        "    </tr>\n",
        "    <tr>\n",
        "      <th rowspan=\"2\" valign=\"top\">2</th>\n",
        "      <th>0</th>\n",
        "      <td>2250-10-31 23:47:16.854775808</td>\n",
        "      <td>2250-10-31 23:47:16.854775808</td>\n",
        "      <td>2250-10-31 23:47:16.854775808</td>\n",
        "      <td>2250-10-31 23:47:16.854775808</td>\n",
        "      <td>2250-10-31 23:47:16.854775808</td>\n",
        "      <td>2250-10-31 23:47:16.854775808</td>\n",
        "      <td>2250-10-31 23:47:16.854775808</td>\n",
        "    </tr>\n",
        "    <tr>\n",
        "      <th>1</th>\n",
        "      <td>          1971-01-20 00:00:00</td>\n",
        "      <td>          1973-09-25 00:00:00</td>\n",
        "      <td>2250-10-31 23:47:16.854775808</td>\n",
        "      <td>2250-10-31 23:47:16.854775808</td>\n",
        "      <td>2250-10-31 23:47:16.854775808</td>\n",
        "      <td>2250-10-31 23:47:16.854775808</td>\n",
        "      <td>2250-10-31 23:47:16.854775808</td>\n",
        "    </tr>\n",
        "    <tr>\n",
        "      <th>3</th>\n",
        "      <th>0</th>\n",
        "      <td>2250-10-31 23:47:16.854775808</td>\n",
        "      <td>2250-10-31 23:47:16.854775808</td>\n",
        "      <td>2250-10-31 23:47:16.854775808</td>\n",
        "      <td>2250-10-31 23:47:16.854775808</td>\n",
        "      <td>2250-10-31 23:47:16.854775808</td>\n",
        "      <td>2250-10-31 23:47:16.854775808</td>\n",
        "      <td>2250-10-31 23:47:16.854775808</td>\n",
        "    </tr>\n",
        "  </tbody>\n",
        "</table>\n",
        "</div>"
       ],
       "output_type": "pyout",
       "prompt_number": 35,
       "text": [
        "                                          1                             2  \\\n",
        "treeID stemID                                                               \n",
        "1      0      2250-10-31 23:47:16.854775808 2250-10-31 23:47:16.854775808   \n",
        "       1                1970-01-01 00:00:00           1974-01-17 00:00:00   \n",
        "2      0      2250-10-31 23:47:16.854775808 2250-10-31 23:47:16.854775808   \n",
        "       1                1971-01-20 00:00:00           1973-09-25 00:00:00   \n",
        "3      0      2250-10-31 23:47:16.854775808 2250-10-31 23:47:16.854775808   \n",
        "\n",
        "                                          3                             4  \\\n",
        "treeID stemID                                                               \n",
        "1      0      2250-10-31 23:47:16.854775808 2250-10-31 23:47:16.854775808   \n",
        "       1                1979-05-11 00:00:00 2250-10-31 23:47:16.854775808   \n",
        "2      0      2250-10-31 23:47:16.854775808 2250-10-31 23:47:16.854775808   \n",
        "       1      2250-10-31 23:47:16.854775808 2250-10-31 23:47:16.854775808   \n",
        "3      0      2250-10-31 23:47:16.854775808 2250-10-31 23:47:16.854775808   \n",
        "\n",
        "                                          5                             6  \\\n",
        "treeID stemID                                                               \n",
        "1      0      2250-10-31 23:47:16.854775808 2250-10-31 23:47:16.854775808   \n",
        "       1      2250-10-31 23:47:16.854775808 2250-10-31 23:47:16.854775808   \n",
        "2      0      2250-10-31 23:47:16.854775808 2250-10-31 23:47:16.854775808   \n",
        "       1      2250-10-31 23:47:16.854775808 2250-10-31 23:47:16.854775808   \n",
        "3      0      2250-10-31 23:47:16.854775808 2250-10-31 23:47:16.854775808   \n",
        "\n",
        "                                          7  \n",
        "treeID stemID                                \n",
        "1      0      2250-10-31 23:47:16.854775808  \n",
        "       1      2250-10-31 23:47:16.854775808  \n",
        "2      0      2250-10-31 23:47:16.854775808  \n",
        "       1      2250-10-31 23:47:16.854775808  \n",
        "3      0      2250-10-31 23:47:16.854775808  "
       ]
      }
     ],
     "prompt_number": 35
    },
    {
     "cell_type": "code",
     "collapsed": false,
     "input": [
      "day.apply(lambda x: x - day.ix[(1,1),1]).head()"
     ],
     "language": "python",
     "metadata": {},
     "outputs": [
      {
       "html": [
        "<div style=\"max-height:1000px;max-width:1500px;overflow:auto;\">\n",
        "<table border=\"1\" class=\"dataframe\">\n",
        "  <thead>\n",
        "    <tr style=\"text-align: right;\">\n",
        "      <th></th>\n",
        "      <th></th>\n",
        "      <th>1</th>\n",
        "      <th>2</th>\n",
        "      <th>3</th>\n",
        "      <th>4</th>\n",
        "      <th>5</th>\n",
        "      <th>6</th>\n",
        "      <th>7</th>\n",
        "    </tr>\n",
        "    <tr>\n",
        "      <th>treeID</th>\n",
        "      <th>stemID</th>\n",
        "      <th></th>\n",
        "      <th></th>\n",
        "      <th></th>\n",
        "      <th></th>\n",
        "      <th></th>\n",
        "      <th></th>\n",
        "      <th></th>\n",
        "    </tr>\n",
        "  </thead>\n",
        "  <tbody>\n",
        "    <tr>\n",
        "      <th rowspan=\"2\" valign=\"top\">1</th>\n",
        "      <th>0</th>\n",
        "      <td>               NaT</td>\n",
        "      <td>                NaT</td>\n",
        "      <td>                NaT</td>\n",
        "      <td>NaT</td>\n",
        "      <td>NaT</td>\n",
        "      <td>NaT</td>\n",
        "      <td>NaT</td>\n",
        "    </tr>\n",
        "    <tr>\n",
        "      <th>1</th>\n",
        "      <td>          00:00:00</td>\n",
        "      <td>1477 days, 00:00:00</td>\n",
        "      <td>3417 days, 00:00:00</td>\n",
        "      <td>NaT</td>\n",
        "      <td>NaT</td>\n",
        "      <td>NaT</td>\n",
        "      <td>NaT</td>\n",
        "    </tr>\n",
        "    <tr>\n",
        "      <th rowspan=\"2\" valign=\"top\">2</th>\n",
        "      <th>0</th>\n",
        "      <td>               NaT</td>\n",
        "      <td>                NaT</td>\n",
        "      <td>                NaT</td>\n",
        "      <td>NaT</td>\n",
        "      <td>NaT</td>\n",
        "      <td>NaT</td>\n",
        "      <td>NaT</td>\n",
        "    </tr>\n",
        "    <tr>\n",
        "      <th>1</th>\n",
        "      <td>384 days, 00:00:00</td>\n",
        "      <td>1363 days, 00:00:00</td>\n",
        "      <td>                NaT</td>\n",
        "      <td>NaT</td>\n",
        "      <td>NaT</td>\n",
        "      <td>NaT</td>\n",
        "      <td>NaT</td>\n",
        "    </tr>\n",
        "    <tr>\n",
        "      <th>3</th>\n",
        "      <th>0</th>\n",
        "      <td>               NaT</td>\n",
        "      <td>                NaT</td>\n",
        "      <td>                NaT</td>\n",
        "      <td>NaT</td>\n",
        "      <td>NaT</td>\n",
        "      <td>NaT</td>\n",
        "      <td>NaT</td>\n",
        "    </tr>\n",
        "  </tbody>\n",
        "</table>\n",
        "</div>"
       ],
       "output_type": "pyout",
       "prompt_number": 69,
       "text": [
        "                               1                   2                   3   4   5   6   7\n",
        "treeID stemID                                                                           \n",
        "1      0                     NaT                 NaT                 NaT NaT NaT NaT NaT\n",
        "       1                00:00:00 1477 days, 00:00:00 3417 days, 00:00:00 NaT NaT NaT NaT\n",
        "2      0                     NaT                 NaT                 NaT NaT NaT NaT NaT\n",
        "       1      384 days, 00:00:00 1363 days, 00:00:00                 NaT NaT NaT NaT NaT\n",
        "3      0                     NaT                 NaT                 NaT NaT NaT NaT NaT"
       ]
      }
     ],
     "prompt_number": 69
    },
    {
     "cell_type": "code",
     "collapsed": false,
     "input": [
      "(day.apply(lambda x: x - day.ix[(1,1),1])/np.timedelta64(1, 'D')).mean()"
     ],
     "language": "python",
     "metadata": {},
     "outputs": [
      {
       "output_type": "pyout",
       "prompt_number": 73,
       "text": [
        "1      207.431402\n",
        "2     1419.934716\n",
        "3     3343.635010\n",
        "4     5087.309133\n",
        "5     6909.060207\n",
        "6     8750.596103\n",
        "7    10564.855319\n",
        "dtype: float64"
       ]
      }
     ],
     "prompt_number": 73
    },
    {
     "cell_type": "code",
     "collapsed": false,
     "input": [
      "(day.apply(lambda x: x - day.ix[(1,1),1])/np.timedelta64(1, 'D')).std()"
     ],
     "language": "python",
     "metadata": {},
     "outputs": [
      {
       "output_type": "pyout",
       "prompt_number": 75,
       "text": [
        "1    174.569523\n",
        "2     66.193442\n",
        "3     92.252399\n",
        "4     78.386068\n",
        "5     73.712637\n",
        "6     78.435351\n",
        "7     70.700398\n",
        "dtype: float64"
       ]
      }
     ],
     "prompt_number": 75
    },
    {
     "cell_type": "code",
     "collapsed": false,
     "input": [
      "dt.std()"
     ],
     "language": "python",
     "metadata": {},
     "outputs": [
      {
       "output_type": "pyout",
       "prompt_number": 76,
       "text": [
        "1    229.995857\n",
        "2     42.018654\n",
        "3     33.410179\n",
        "4     19.137861\n",
        "5     20.457818\n",
        "6     21.874749\n",
        "7           NaN\n",
        "dtype: float64"
       ]
      }
     ],
     "prompt_number": 76
    },
    {
     "cell_type": "code",
     "collapsed": false,
     "input": [
      "is_alive = (census_data.status[census_data.sp == 'gar2in'] == 'A').unstack(level='CensusID')"
     ],
     "language": "python",
     "metadata": {},
     "outputs": [],
     "prompt_number": 108
    },
    {
     "cell_type": "code",
     "collapsed": false,
     "input": [
      "is_alive.head()"
     ],
     "language": "python",
     "metadata": {},
     "outputs": [
      {
       "html": [
        "<div style=\"max-height:1000px;max-width:1500px;overflow:auto;\">\n",
        "<table border=\"1\" class=\"dataframe\">\n",
        "  <thead>\n",
        "    <tr style=\"text-align: right;\">\n",
        "      <th></th>\n",
        "      <th></th>\n",
        "      <th>1</th>\n",
        "      <th>2</th>\n",
        "      <th>3</th>\n",
        "      <th>4</th>\n",
        "      <th>5</th>\n",
        "      <th>6</th>\n",
        "      <th>7</th>\n",
        "    </tr>\n",
        "    <tr>\n",
        "      <th>treeID</th>\n",
        "      <th>stemID</th>\n",
        "      <th></th>\n",
        "      <th></th>\n",
        "      <th></th>\n",
        "      <th></th>\n",
        "      <th></th>\n",
        "      <th></th>\n",
        "      <th></th>\n",
        "    </tr>\n",
        "  </thead>\n",
        "  <tbody>\n",
        "    <tr>\n",
        "      <th>177 </th>\n",
        "      <th>1</th>\n",
        "      <td> True</td>\n",
        "      <td>  True</td>\n",
        "      <td>  True</td>\n",
        "      <td>  True</td>\n",
        "      <td>  True</td>\n",
        "      <td>  True</td>\n",
        "      <td> False</td>\n",
        "    </tr>\n",
        "    <tr>\n",
        "      <th rowspan=\"2\" valign=\"top\">212 </th>\n",
        "      <th>0</th>\n",
        "      <td>  NaN</td>\n",
        "      <td>   NaN</td>\n",
        "      <td> False</td>\n",
        "      <td> False</td>\n",
        "      <td> False</td>\n",
        "      <td> False</td>\n",
        "      <td> False</td>\n",
        "    </tr>\n",
        "    <tr>\n",
        "      <th>1</th>\n",
        "      <td> True</td>\n",
        "      <td> False</td>\n",
        "      <td>   NaN</td>\n",
        "      <td>   NaN</td>\n",
        "      <td>   NaN</td>\n",
        "      <td>   NaN</td>\n",
        "      <td>   NaN</td>\n",
        "    </tr>\n",
        "    <tr>\n",
        "      <th>458 </th>\n",
        "      <th>1</th>\n",
        "      <td> True</td>\n",
        "      <td>  True</td>\n",
        "      <td>  True</td>\n",
        "      <td>  True</td>\n",
        "      <td>  True</td>\n",
        "      <td>  True</td>\n",
        "      <td>  True</td>\n",
        "    </tr>\n",
        "    <tr>\n",
        "      <th>1050</th>\n",
        "      <th>1</th>\n",
        "      <td> True</td>\n",
        "      <td>  True</td>\n",
        "      <td>  True</td>\n",
        "      <td>  True</td>\n",
        "      <td>  True</td>\n",
        "      <td>  True</td>\n",
        "      <td>  True</td>\n",
        "    </tr>\n",
        "  </tbody>\n",
        "</table>\n",
        "</div>"
       ],
       "output_type": "pyout",
       "prompt_number": 109,
       "text": [
        "                  1      2      3      4      5      6      7\n",
        "treeID stemID                                                \n",
        "177    1       True   True   True   True   True   True  False\n",
        "212    0        NaN    NaN  False  False  False  False  False\n",
        "       1       True  False    NaN    NaN    NaN    NaN    NaN\n",
        "458    1       True   True   True   True   True   True   True\n",
        "1050   1       True   True   True   True   True   True   True"
       ]
      }
     ],
     "prompt_number": 109
    },
    {
     "cell_type": "code",
     "collapsed": false,
     "input": [
      "(is_alive.iloc[:,:-1] & is_alive.iloc[:,1:].values).head()"
     ],
     "language": "python",
     "metadata": {},
     "outputs": [
      {
       "html": [
        "<div style=\"max-height:1000px;max-width:1500px;overflow:auto;\">\n",
        "<table border=\"1\" class=\"dataframe\">\n",
        "  <thead>\n",
        "    <tr style=\"text-align: right;\">\n",
        "      <th></th>\n",
        "      <th></th>\n",
        "      <th>1</th>\n",
        "      <th>2</th>\n",
        "      <th>3</th>\n",
        "      <th>4</th>\n",
        "      <th>5</th>\n",
        "      <th>6</th>\n",
        "    </tr>\n",
        "    <tr>\n",
        "      <th>treeID</th>\n",
        "      <th>stemID</th>\n",
        "      <th></th>\n",
        "      <th></th>\n",
        "      <th></th>\n",
        "      <th></th>\n",
        "      <th></th>\n",
        "      <th></th>\n",
        "    </tr>\n",
        "  </thead>\n",
        "  <tbody>\n",
        "    <tr>\n",
        "      <th>177 </th>\n",
        "      <th>1</th>\n",
        "      <td>  True</td>\n",
        "      <td> True</td>\n",
        "      <td>  True</td>\n",
        "      <td>  True</td>\n",
        "      <td>  True</td>\n",
        "      <td> False</td>\n",
        "    </tr>\n",
        "    <tr>\n",
        "      <th rowspan=\"2\" valign=\"top\">212 </th>\n",
        "      <th>0</th>\n",
        "      <td>   NaN</td>\n",
        "      <td>  NaN</td>\n",
        "      <td> False</td>\n",
        "      <td> False</td>\n",
        "      <td> False</td>\n",
        "      <td> False</td>\n",
        "    </tr>\n",
        "    <tr>\n",
        "      <th>1</th>\n",
        "      <td> False</td>\n",
        "      <td>  NaN</td>\n",
        "      <td>   NaN</td>\n",
        "      <td>   NaN</td>\n",
        "      <td>   NaN</td>\n",
        "      <td>   NaN</td>\n",
        "    </tr>\n",
        "    <tr>\n",
        "      <th>458 </th>\n",
        "      <th>1</th>\n",
        "      <td>  True</td>\n",
        "      <td> True</td>\n",
        "      <td>  True</td>\n",
        "      <td>  True</td>\n",
        "      <td>  True</td>\n",
        "      <td>  True</td>\n",
        "    </tr>\n",
        "    <tr>\n",
        "      <th>1050</th>\n",
        "      <th>1</th>\n",
        "      <td>  True</td>\n",
        "      <td> True</td>\n",
        "      <td>  True</td>\n",
        "      <td>  True</td>\n",
        "      <td>  True</td>\n",
        "      <td>  True</td>\n",
        "    </tr>\n",
        "  </tbody>\n",
        "</table>\n",
        "</div>"
       ],
       "output_type": "pyout",
       "prompt_number": 111,
       "text": [
        "                   1     2      3      4      5      6\n",
        "treeID stemID                                         \n",
        "177    1        True  True   True   True   True  False\n",
        "212    0         NaN   NaN  False  False  False  False\n",
        "       1       False   NaN    NaN    NaN    NaN    NaN\n",
        "458    1        True  True   True   True   True   True\n",
        "1050   1        True  True   True   True   True   True"
       ]
      }
     ],
     "prompt_number": 111
    },
    {
     "cell_type": "code",
     "collapsed": false,
     "input": [
      "(is_alive.iloc[:,:-1] & np.logical_not(is_alive.iloc[:,1:].values)).head()"
     ],
     "language": "python",
     "metadata": {},
     "outputs": [
      {
       "html": [
        "<div style=\"max-height:1000px;max-width:1500px;overflow:auto;\">\n",
        "<table border=\"1\" class=\"dataframe\">\n",
        "  <thead>\n",
        "    <tr style=\"text-align: right;\">\n",
        "      <th></th>\n",
        "      <th></th>\n",
        "      <th>1</th>\n",
        "      <th>2</th>\n",
        "      <th>3</th>\n",
        "      <th>4</th>\n",
        "      <th>5</th>\n",
        "      <th>6</th>\n",
        "    </tr>\n",
        "    <tr>\n",
        "      <th>treeID</th>\n",
        "      <th>stemID</th>\n",
        "      <th></th>\n",
        "      <th></th>\n",
        "      <th></th>\n",
        "      <th></th>\n",
        "      <th></th>\n",
        "      <th></th>\n",
        "    </tr>\n",
        "  </thead>\n",
        "  <tbody>\n",
        "    <tr>\n",
        "      <th>177 </th>\n",
        "      <th>1</th>\n",
        "      <td> False</td>\n",
        "      <td> False</td>\n",
        "      <td> False</td>\n",
        "      <td> False</td>\n",
        "      <td> False</td>\n",
        "      <td>  True</td>\n",
        "    </tr>\n",
        "    <tr>\n",
        "      <th rowspan=\"2\" valign=\"top\">212 </th>\n",
        "      <th>0</th>\n",
        "      <td>   NaN</td>\n",
        "      <td>   NaN</td>\n",
        "      <td> False</td>\n",
        "      <td> False</td>\n",
        "      <td> False</td>\n",
        "      <td> False</td>\n",
        "    </tr>\n",
        "    <tr>\n",
        "      <th>1</th>\n",
        "      <td>  True</td>\n",
        "      <td> False</td>\n",
        "      <td>   NaN</td>\n",
        "      <td>   NaN</td>\n",
        "      <td>   NaN</td>\n",
        "      <td>   NaN</td>\n",
        "    </tr>\n",
        "    <tr>\n",
        "      <th>458 </th>\n",
        "      <th>1</th>\n",
        "      <td> False</td>\n",
        "      <td> False</td>\n",
        "      <td> False</td>\n",
        "      <td> False</td>\n",
        "      <td> False</td>\n",
        "      <td> False</td>\n",
        "    </tr>\n",
        "    <tr>\n",
        "      <th>1050</th>\n",
        "      <th>1</th>\n",
        "      <td> False</td>\n",
        "      <td> False</td>\n",
        "      <td> False</td>\n",
        "      <td> False</td>\n",
        "      <td> False</td>\n",
        "      <td> False</td>\n",
        "    </tr>\n",
        "  </tbody>\n",
        "</table>\n",
        "</div>"
       ],
       "output_type": "pyout",
       "prompt_number": 113,
       "text": [
        "                   1      2      3      4      5      6\n",
        "treeID stemID                                          \n",
        "177    1       False  False  False  False  False   True\n",
        "212    0         NaN    NaN  False  False  False  False\n",
        "       1        True  False    NaN    NaN    NaN    NaN\n",
        "458    1       False  False  False  False  False  False\n",
        "1050   1       False  False  False  False  False  False"
       ]
      }
     ],
     "prompt_number": 113
    },
    {
     "cell_type": "code",
     "collapsed": false,
     "input": [
      "type(is_alive)"
     ],
     "language": "python",
     "metadata": {},
     "outputs": [
      {
       "output_type": "pyout",
       "prompt_number": 87,
       "text": [
        "pandas.core.frame.DataFrame"
       ]
      }
     ],
     "prompt_number": 87
    },
    {
     "cell_type": "code",
     "collapsed": false,
     "input": [
      "one_species = census_data[(census_data.sp == 'hybapr')]"
     ],
     "language": "python",
     "metadata": {},
     "outputs": [],
     "prompt_number": 5
    },
    {
     "cell_type": "code",
     "collapsed": false,
     "input": [
      "one_species.loc[:2].dbh.dropna().hist(bins=np.arange(10,60)-0.5)"
     ],
     "language": "python",
     "metadata": {},
     "outputs": [
      {
       "output_type": "pyout",
       "prompt_number": 285,
       "text": [
        "<matplotlib.axes.AxesSubplot at 0x37bbf650>"
       ]
      }
     ],
     "prompt_number": 285
    },
    {
     "cell_type": "code",
     "collapsed": false,
     "input": [
      "one_species.loc[3:].dbh.dropna().hist(bins=np.arange(10,60)-0.5)"
     ],
     "language": "python",
     "metadata": {},
     "outputs": [
      {
       "output_type": "pyout",
       "prompt_number": 287,
       "text": [
        "<matplotlib.axes.AxesSubplot at 0x2c8ebed0>"
       ]
      }
     ],
     "prompt_number": 287
    },
    {
     "cell_type": "code",
     "collapsed": false,
     "input": [
      "figure()\n",
      "one_species.dbh[one_species.survives.fillna(False)].loc[3:].dropna().hist(bins=np.arange(10,90)-0.5)\n",
      "figure()\n",
      "one_species.dbh[one_species.dies.fillna(False)].loc[3:].dropna().hist(bins=np.arange(10,90)-0.5)"
     ],
     "language": "python",
     "metadata": {},
     "outputs": [
      {
       "output_type": "pyout",
       "prompt_number": 288,
       "text": [
        "<matplotlib.axes.AxesSubplot at 0x425a83d0>"
       ]
      }
     ],
     "prompt_number": 288
    },
    {
     "cell_type": "code",
     "collapsed": false,
     "input": [
      "fig, axes = subplot"
     ],
     "language": "python",
     "metadata": {},
     "outputs": []
    },
    {
     "cell_type": "code",
     "collapsed": false,
     "input": [
      "figure(1)\n",
      "dbh_bins = np.arange(10,90)-0.5\n",
      "surv_dbhs = plt.hist(one_species.dbh[one_species.survives.fillna(False)].loc[3:].dropna(), bins=dbh_bins, normed=True, alpha=0.8)[0]\n",
      "dies_dbhs = plt.hist(one_species.dbh[one_species.dies.fillna(False)].loc[3:].dropna(), bins=dbh_bins, normed=True, alpha=0.6)[0]"
     ],
     "language": "python",
     "metadata": {},
     "outputs": [],
     "prompt_number": 291
    },
    {
     "cell_type": "code",
     "collapsed": false,
     "input": [
      "# Move 'growth' one census later, for comparison with death\n",
      "growth = one_species.growth.unstack('CensusID').T.iloc[:-1]\n",
      "growth.index = one_species.index.levels[0][1:]\n",
      "one_species['prev_growth'] = stack_w_censusid(growth.T)"
     ],
     "language": "python",
     "metadata": {},
     "outputs": [],
     "prompt_number": 65
    },
    {
     "cell_type": "code",
     "collapsed": false,
     "input": [
      "figure(2)\n",
      "growth_bins = np.arange(-0.4, 2.3, 0.2)-0.1\n",
      "surv_growths = plt.hist(365.25*one_species.prev_growth[one_species.survives.fillna(False)].loc[3:].dropna(), \n",
      "         bins=growth_bins, normed=True, alpha=0.8)[0]\n",
      "dies_growths = plt.hist(365.25*one_species.prev_growth[one_species.dies.fillna(False)].loc[3:].dropna(), \n",
      "             bins=growth_bins, normed=True, alpha=0.5)[0]"
     ],
     "language": "python",
     "metadata": {},
     "outputs": [],
     "prompt_number": 292
    },
    {
     "cell_type": "code",
     "collapsed": false,
     "input": [
      "surv_growths"
     ],
     "language": "python",
     "metadata": {},
     "outputs": [
      {
       "output_type": "pyout",
       "prompt_number": 89,
       "text": [
        "array([ 0.06255932,  0.26376147,  0.94242328,  1.0327428 ,  0.78685543,\n",
        "        0.57236634,  0.41932933,  0.31675103,  0.23797849,  0.15430244,\n",
        "        0.10597912,  0.06374565,  0.04120531])"
       ]
      }
     ],
     "prompt_number": 89
    },
    {
     "cell_type": "code",
     "collapsed": false,
     "input": [
      "prior_survives, prior_dies = [1.*y/(one_species.survives.sum()+one_species.dies.sum())\n",
      "                              for y in (one_species.survives.sum(), one_species.dies.sum())]\n",
      "surv_mat = np.outer(surv_dbhs, surv_growths) * prior_survives\n",
      "dies_mat = np.outer(dies_dbhs, dies_growths) * prior_dies"
     ],
     "language": "python",
     "metadata": {},
     "outputs": [],
     "prompt_number": 99
    },
    {
     "cell_type": "code",
     "collapsed": false,
     "input": [
      "prior_survives, prior_dies"
     ],
     "language": "python",
     "metadata": {},
     "outputs": [
      {
       "output_type": "pyout",
       "prompt_number": 101,
       "text": [
        "(0.8148873065238535, 0.18511269347614645)"
       ]
      }
     ],
     "prompt_number": 101
    },
    {
     "cell_type": "code",
     "collapsed": false,
     "input": [
      "(surv_mat >= dies_mat).sum(), surv_mat.size, 1.*(surv_mat >= dies_mat).sum() / surv_mat.size"
     ],
     "language": "python",
     "metadata": {},
     "outputs": [
      {
       "output_type": "pyout",
       "prompt_number": 293,
       "text": [
        "(899, 1027, 0.87536514118792597)"
       ]
      }
     ],
     "prompt_number": 293
    },
    {
     "cell_type": "code",
     "collapsed": false,
     "input": [
      "def pred_survives(r):\n",
      "    return (surv_mat > dies_mat)[(r.dbh > dbh_bins[:-1]) & (r.dbh < dbh_bins[1:]),\n",
      "                                 (r.growth > growth_bins[:-1]) & (r.growth < growth_bins[1:])]"
     ],
     "language": "python",
     "metadata": {},
     "outputs": [],
     "prompt_number": 112
    },
    {
     "cell_type": "code",
     "collapsed": false,
     "input": [
      "one_stem = one_species.xs(1, level='stemID').swaplevel('CensusID','treeID')"
     ],
     "language": "python",
     "metadata": {},
     "outputs": [],
     "prompt_number": 121
    },
    {
     "cell_type": "code",
     "collapsed": false,
     "input": [
      "tree_ids = one_stem.index.get_level_values('treeID').unique()"
     ],
     "language": "python",
     "metadata": {},
     "outputs": [],
     "prompt_number": 129
    },
    {
     "cell_type": "code",
     "collapsed": false,
     "input": [
      "np.random.shuffle(tree_ids)"
     ],
     "language": "python",
     "metadata": {},
     "outputs": [],
     "prompt_number": 137
    },
    {
     "cell_type": "code",
     "collapsed": false,
     "input": [
      "train, test = tree_ids[:tree_ids.size/2], tree_ids[tree_ids.size/2:]"
     ],
     "language": "python",
     "metadata": {},
     "outputs": [],
     "prompt_number": 140
    },
    {
     "cell_type": "code",
     "collapsed": false,
     "input": [
      "one_stem.dbh.head()"
     ],
     "language": "python",
     "metadata": {},
     "outputs": [
      {
       "output_type": "pyout",
       "prompt_number": 170,
       "text": [
        "treeID  CensusID\n",
        "2       1           35\n",
        "8410    1           15\n",
        "8411    1           15\n",
        "8412    1           10\n",
        "8413    1           10\n",
        "Name: dbh, dtype: float64"
       ]
      }
     ],
     "prompt_number": 170
    },
    {
     "cell_type": "code",
     "collapsed": false,
     "input": [
      "training_data = pd.DataFrame({col : one_stem[col].unstack().loc[train].stack() for col in one_stem.columns})"
     ],
     "language": "python",
     "metadata": {},
     "outputs": [],
     "prompt_number": 174
    },
    {
     "cell_type": "code",
     "collapsed": false,
     "input": [
      "%run \"/home/felix/Code/BCI/naive_bayes.py\"\n",
      "nbtrained = NaiveBayes(training_data)"
     ],
     "language": "python",
     "metadata": {},
     "outputs": [],
     "prompt_number": 270
    },
    {
     "cell_type": "code",
     "collapsed": false,
     "input": [
      "%time pred = nbtrained.predict(training_data)"
     ],
     "language": "python",
     "metadata": {},
     "outputs": [
      {
       "output_type": "stream",
       "stream": "stdout",
       "text": [
        "102976 102976\n",
        "[5 0 0 ..., 4 1 3]"
       ]
      },
      {
       "output_type": "stream",
       "stream": "stdout",
       "text": [
        " [2 2 2 ..., 2 2 2]\n",
        "(60863,) (60863,)\n",
        "CPU times: user 0.10 s, sys: 0.00 s, total: 0.10 s\n",
        "Wall time: 0.10 s\n"
       ]
      }
     ],
     "prompt_number": 296
    },
    {
     "cell_type": "code",
     "collapsed": false,
     "input": [
      "(pred.status.ix[~pred.pred_surv] != 'A').sum()"
     ],
     "language": "python",
     "metadata": {},
     "outputs": [
      {
       "output_type": "pyout",
       "prompt_number": 272,
       "text": [
        "0"
       ]
      }
     ],
     "prompt_number": 272
    },
    {
     "cell_type": "code",
     "collapsed": false,
     "input": [
      "training_data"
     ],
     "language": "python",
     "metadata": {},
     "outputs": [
      {
       "html": [
        "<pre>\n",
        "&lt;class 'pandas.core.frame.DataFrame'&gt;\n",
        "MultiIndex: 102976 entries, (8426, 1) to (481568, 7)\n",
        "Data columns (total 25 columns):\n",
        "DFstatus        102976  non-null values\n",
        "ExactDate       102966  non-null values\n",
        "MeasureID       102976  non-null values\n",
        "StemTag         167  non-null values\n",
        "agb             102976  non-null values\n",
        "codes           24944  non-null values\n",
        "date            102966  non-null values\n",
        "dbh             91604  non-null values\n",
        "dies            92490  non-null values\n",
        "dt_days         72276  non-null values\n",
        "growth          60865  non-null values\n",
        "growth_accel    40201  non-null values\n",
        "gx              102960  non-null values\n",
        "gy              102960  non-null values\n",
        "hom             91604  non-null values\n",
        "nostems         102976  non-null values\n",
        "origCensusID    102976  non-null values\n",
        "pddate          102966  non-null values\n",
        "pom             91604  non-null values\n",
        "prev_growth     60865  non-null values\n",
        "quadrat         102966  non-null values\n",
        "sp              102976  non-null values\n",
        "status          102976  non-null values\n",
        "survives        72284  non-null values\n",
        "tag             102976  non-null values\n",
        "dtypes: datetime64[ns](1), float64(17), object(7)\n",
        "</pre>"
       ],
       "output_type": "pyout",
       "prompt_number": 294,
       "text": [
        "<class 'pandas.core.frame.DataFrame'>\n",
        "MultiIndex: 102976 entries, (8426, 1) to (481568, 7)\n",
        "Data columns (total 25 columns):\n",
        "DFstatus        102976  non-null values\n",
        "ExactDate       102966  non-null values\n",
        "MeasureID       102976  non-null values\n",
        "StemTag         167  non-null values\n",
        "agb             102976  non-null values\n",
        "codes           24944  non-null values\n",
        "date            102966  non-null values\n",
        "dbh             91604  non-null values\n",
        "dies            92490  non-null values\n",
        "dt_days         72276  non-null values\n",
        "growth          60865  non-null values\n",
        "growth_accel    40201  non-null values\n",
        "gx              102960  non-null values\n",
        "gy              102960  non-null values\n",
        "hom             91604  non-null values\n",
        "nostems         102976  non-null values\n",
        "origCensusID    102976  non-null values\n",
        "pddate          102966  non-null values\n",
        "pom             91604  non-null values\n",
        "prev_growth     60865  non-null values\n",
        "quadrat         102966  non-null values\n",
        "sp              102976  non-null values\n",
        "status          102976  non-null values\n",
        "survives        72284  non-null values\n",
        "tag             102976  non-null values\n",
        "dtypes: datetime64[ns](1), float64(17), object(7)"
       ]
      }
     ],
     "prompt_number": 294
    },
    {
     "cell_type": "code",
     "collapsed": false,
     "input": [
      "(~pred.pred_surv).sum()"
     ],
     "language": "python",
     "metadata": {},
     "outputs": [
      {
       "output_type": "pyout",
       "prompt_number": 273,
       "text": [
        "32"
       ]
      }
     ],
     "prompt_number": 273
    },
    {
     "cell_type": "code",
     "collapsed": false,
     "input": [
      "pred.ix[~pred.pred_surv][['status', 'dbh', 'prev_growth', 'dies', 'survives']]"
     ],
     "language": "python",
     "metadata": {},
     "outputs": [
      {
       "html": [
        "<div style=\"max-height:1000px;max-width:1500px;overflow:auto;\">\n",
        "<table border=\"1\" class=\"dataframe\">\n",
        "  <thead>\n",
        "    <tr style=\"text-align: right;\">\n",
        "      <th></th>\n",
        "      <th></th>\n",
        "      <th>status</th>\n",
        "      <th>dbh</th>\n",
        "      <th>prev_growth</th>\n",
        "      <th>dies</th>\n",
        "      <th>survives</th>\n",
        "    </tr>\n",
        "    <tr>\n",
        "      <th></th>\n",
        "      <th>CensusID</th>\n",
        "      <th></th>\n",
        "      <th></th>\n",
        "      <th></th>\n",
        "      <th></th>\n",
        "      <th></th>\n",
        "    </tr>\n",
        "  </thead>\n",
        "  <tbody>\n",
        "    <tr>\n",
        "      <th rowspan=\"2\" valign=\"top\">21694 </th>\n",
        "      <th>3</th>\n",
        "      <td> A</td>\n",
        "      <td> 86</td>\n",
        "      <td> 0.008282</td>\n",
        "      <td> False</td>\n",
        "      <td>  True</td>\n",
        "    </tr>\n",
        "    <tr>\n",
        "      <th>4</th>\n",
        "      <td> A</td>\n",
        "      <td> 82</td>\n",
        "      <td>-0.002298</td>\n",
        "      <td>  True</td>\n",
        "      <td> False</td>\n",
        "    </tr>\n",
        "    <tr>\n",
        "      <th>37455 </th>\n",
        "      <th>3</th>\n",
        "      <td> A</td>\n",
        "      <td> 72</td>\n",
        "      <td> 0.003104</td>\n",
        "      <td>  True</td>\n",
        "      <td> False</td>\n",
        "    </tr>\n",
        "    <tr>\n",
        "      <th>42987 </th>\n",
        "      <th>2</th>\n",
        "      <td> A</td>\n",
        "      <td> 88</td>\n",
        "      <td> 0.004459</td>\n",
        "      <td>  True</td>\n",
        "      <td> False</td>\n",
        "    </tr>\n",
        "    <tr>\n",
        "      <th>51391 </th>\n",
        "      <th>3</th>\n",
        "      <td> A</td>\n",
        "      <td> 72</td>\n",
        "      <td> 0.001027</td>\n",
        "      <td>  True</td>\n",
        "      <td> False</td>\n",
        "    </tr>\n",
        "    <tr>\n",
        "      <th>57814 </th>\n",
        "      <th>3</th>\n",
        "      <td> A</td>\n",
        "      <td> 74</td>\n",
        "      <td> 0.004115</td>\n",
        "      <td>  True</td>\n",
        "      <td> False</td>\n",
        "    </tr>\n",
        "    <tr>\n",
        "      <th>68653 </th>\n",
        "      <th>2</th>\n",
        "      <td> A</td>\n",
        "      <td> 72</td>\n",
        "      <td> 0.004205</td>\n",
        "      <td>  True</td>\n",
        "      <td> False</td>\n",
        "    </tr>\n",
        "    <tr>\n",
        "      <th>73431 </th>\n",
        "      <th>7</th>\n",
        "      <td> A</td>\n",
        "      <td> 74</td>\n",
        "      <td> 0.002790</td>\n",
        "      <td>   NaN</td>\n",
        "      <td>   NaN</td>\n",
        "    </tr>\n",
        "    <tr>\n",
        "      <th>92004 </th>\n",
        "      <th>2</th>\n",
        "      <td> A</td>\n",
        "      <td> 72</td>\n",
        "      <td> 0.005259</td>\n",
        "      <td>  True</td>\n",
        "      <td> False</td>\n",
        "    </tr>\n",
        "    <tr>\n",
        "      <th rowspan=\"2\" valign=\"top\">92367 </th>\n",
        "      <th>5</th>\n",
        "      <td> A</td>\n",
        "      <td> 78</td>\n",
        "      <td> 0.002710</td>\n",
        "      <td> False</td>\n",
        "      <td>  True</td>\n",
        "    </tr>\n",
        "    <tr>\n",
        "      <th>6</th>\n",
        "      <td> A</td>\n",
        "      <td> 88</td>\n",
        "      <td> 0.005365</td>\n",
        "      <td> False</td>\n",
        "      <td>  True</td>\n",
        "    </tr>\n",
        "    <tr>\n",
        "      <th rowspan=\"2\" valign=\"top\">100590</th>\n",
        "      <th>3</th>\n",
        "      <td> A</td>\n",
        "      <td> 74</td>\n",
        "      <td>-0.000527</td>\n",
        "      <td> False</td>\n",
        "      <td>  True</td>\n",
        "    </tr>\n",
        "    <tr>\n",
        "      <th>4</th>\n",
        "      <td> A</td>\n",
        "      <td> 78</td>\n",
        "      <td> 0.002284</td>\n",
        "      <td> False</td>\n",
        "      <td>  True</td>\n",
        "    </tr>\n",
        "    <tr>\n",
        "      <th>118455</th>\n",
        "      <th>4</th>\n",
        "      <td> A</td>\n",
        "      <td> 74</td>\n",
        "      <td> 0.003413</td>\n",
        "      <td>  True</td>\n",
        "      <td> False</td>\n",
        "    </tr>\n",
        "    <tr>\n",
        "      <th>119463</th>\n",
        "      <th>3</th>\n",
        "      <td> A</td>\n",
        "      <td> 88</td>\n",
        "      <td> 0.027504</td>\n",
        "      <td>  True</td>\n",
        "      <td> False</td>\n",
        "    </tr>\n",
        "    <tr>\n",
        "      <th rowspan=\"2\" valign=\"top\">126818</th>\n",
        "      <th>3</th>\n",
        "      <td> A</td>\n",
        "      <td> 82</td>\n",
        "      <td> 0.002565</td>\n",
        "      <td> False</td>\n",
        "      <td>  True</td>\n",
        "    </tr>\n",
        "    <tr>\n",
        "      <th>5</th>\n",
        "      <td> A</td>\n",
        "      <td> 82</td>\n",
        "      <td> 0.001628</td>\n",
        "      <td>  True</td>\n",
        "      <td> False</td>\n",
        "    </tr>\n",
        "    <tr>\n",
        "      <th rowspan=\"2\" valign=\"top\">131651</th>\n",
        "      <th>5</th>\n",
        "      <td> A</td>\n",
        "      <td> 72</td>\n",
        "      <td> 0.001092</td>\n",
        "      <td> False</td>\n",
        "      <td>  True</td>\n",
        "    </tr>\n",
        "    <tr>\n",
        "      <th>6</th>\n",
        "      <td> A</td>\n",
        "      <td> 78</td>\n",
        "      <td> 0.003279</td>\n",
        "      <td>  True</td>\n",
        "      <td> False</td>\n",
        "    </tr>\n",
        "    <tr>\n",
        "      <th>134572</th>\n",
        "      <th>2</th>\n",
        "      <td> A</td>\n",
        "      <td> 72</td>\n",
        "      <td> 0.000883</td>\n",
        "      <td> False</td>\n",
        "      <td>  True</td>\n",
        "    </tr>\n",
        "    <tr>\n",
        "      <th>147393</th>\n",
        "      <th>4</th>\n",
        "      <td> A</td>\n",
        "      <td> 72</td>\n",
        "      <td> 0.000570</td>\n",
        "      <td>  True</td>\n",
        "      <td> False</td>\n",
        "    </tr>\n",
        "    <tr>\n",
        "      <th>159737</th>\n",
        "      <th>4</th>\n",
        "      <td> A</td>\n",
        "      <td> 74</td>\n",
        "      <td> 0.000567</td>\n",
        "      <td> False</td>\n",
        "      <td>  True</td>\n",
        "    </tr>\n",
        "    <tr>\n",
        "      <th rowspan=\"2\" valign=\"top\">166440</th>\n",
        "      <th>2</th>\n",
        "      <td> A</td>\n",
        "      <td> 72</td>\n",
        "      <td> 0.000968</td>\n",
        "      <td> False</td>\n",
        "      <td>  True</td>\n",
        "    </tr>\n",
        "    <tr>\n",
        "      <th>3</th>\n",
        "      <td> A</td>\n",
        "      <td> 74</td>\n",
        "      <td> 0.001049</td>\n",
        "      <td>  True</td>\n",
        "      <td> False</td>\n",
        "    </tr>\n",
        "    <tr>\n",
        "      <th>181501</th>\n",
        "      <th>6</th>\n",
        "      <td> A</td>\n",
        "      <td> 74</td>\n",
        "      <td> 0.002182</td>\n",
        "      <td>  True</td>\n",
        "      <td> False</td>\n",
        "    </tr>\n",
        "    <tr>\n",
        "      <th>183045</th>\n",
        "      <th>7</th>\n",
        "      <td> A</td>\n",
        "      <td> 72</td>\n",
        "      <td>-0.001692</td>\n",
        "      <td>   NaN</td>\n",
        "      <td>   NaN</td>\n",
        "    </tr>\n",
        "    <tr>\n",
        "      <th>196570</th>\n",
        "      <th>3</th>\n",
        "      <td> A</td>\n",
        "      <td> 72</td>\n",
        "      <td> 0.005414</td>\n",
        "      <td>  True</td>\n",
        "      <td> False</td>\n",
        "    </tr>\n",
        "    <tr>\n",
        "      <th>207615</th>\n",
        "      <th>2</th>\n",
        "      <td> A</td>\n",
        "      <td> 72</td>\n",
        "      <td> 0.003112</td>\n",
        "      <td> False</td>\n",
        "      <td>  True</td>\n",
        "    </tr>\n",
        "    <tr>\n",
        "      <th>214743</th>\n",
        "      <th>2</th>\n",
        "      <td> A</td>\n",
        "      <td> 74</td>\n",
        "      <td> 0.009514</td>\n",
        "      <td> False</td>\n",
        "      <td>   NaN</td>\n",
        "    </tr>\n",
        "    <tr>\n",
        "      <th>214996</th>\n",
        "      <th>2</th>\n",
        "      <td> A</td>\n",
        "      <td> 72</td>\n",
        "      <td>-0.003171</td>\n",
        "      <td>  True</td>\n",
        "      <td> False</td>\n",
        "    </tr>\n",
        "    <tr>\n",
        "      <th>227898</th>\n",
        "      <th>2</th>\n",
        "      <td> A</td>\n",
        "      <td> 72</td>\n",
        "      <td> 0.005495</td>\n",
        "      <td> False</td>\n",
        "      <td>  True</td>\n",
        "    </tr>\n",
        "    <tr>\n",
        "      <th>270110</th>\n",
        "      <th>4</th>\n",
        "      <td> A</td>\n",
        "      <td> 74</td>\n",
        "      <td> 0.027840</td>\n",
        "      <td>  True</td>\n",
        "      <td> False</td>\n",
        "    </tr>\n",
        "  </tbody>\n",
        "</table>\n",
        "</div>"
       ],
       "output_type": "pyout",
       "prompt_number": 283,
       "text": [
        "                status  dbh  prev_growth   dies survives\n",
        "       CensusID                                         \n",
        "21694  3             A   86     0.008282  False     True\n",
        "       4             A   82    -0.002298   True    False\n",
        "37455  3             A   72     0.003104   True    False\n",
        "42987  2             A   88     0.004459   True    False\n",
        "51391  3             A   72     0.001027   True    False\n",
        "57814  3             A   74     0.004115   True    False\n",
        "68653  2             A   72     0.004205   True    False\n",
        "73431  7             A   74     0.002790    NaN      NaN\n",
        "92004  2             A   72     0.005259   True    False\n",
        "92367  5             A   78     0.002710  False     True\n",
        "       6             A   88     0.005365  False     True\n",
        "100590 3             A   74    -0.000527  False     True\n",
        "       4             A   78     0.002284  False     True\n",
        "118455 4             A   74     0.003413   True    False\n",
        "119463 3             A   88     0.027504   True    False\n",
        "126818 3             A   82     0.002565  False     True\n",
        "       5             A   82     0.001628   True    False\n",
        "131651 5             A   72     0.001092  False     True\n",
        "       6             A   78     0.003279   True    False\n",
        "134572 2             A   72     0.000883  False     True\n",
        "147393 4             A   72     0.000570   True    False\n",
        "159737 4             A   74     0.000567  False     True\n",
        "166440 2             A   72     0.000968  False     True\n",
        "       3             A   74     0.001049   True    False\n",
        "181501 6             A   74     0.002182   True    False\n",
        "183045 7             A   72    -0.001692    NaN      NaN\n",
        "196570 3             A   72     0.005414   True    False\n",
        "207615 2             A   72     0.003112  False     True\n",
        "214743 2             A   74     0.009514  False      NaN\n",
        "214996 2             A   72    -0.003171   True    False\n",
        "227898 2             A   72     0.005495  False     True\n",
        "270110 4             A   74     0.027840   True    False"
       ]
      }
     ],
     "prompt_number": 283
    },
    {
     "cell_type": "code",
     "collapsed": false,
     "input": [
      "pred.ix[~pred.pred_surv].dies.sum(), pred.ix[~pred.pred_surv].survives.sum()"
     ],
     "language": "python",
     "metadata": {},
     "outputs": [
      {
       "output_type": "pyout",
       "prompt_number": 284,
       "text": [
        "(17, 12)"
       ]
      }
     ],
     "prompt_number": 284
    },
    {
     "cell_type": "code",
     "collapsed": false,
     "input": [
      "(nbtrained.dies_mat >= nbtrained.surv_mat).sum(), nbtrained.dies_mat.size"
     ],
     "language": "python",
     "metadata": {},
     "outputs": [
      {
       "output_type": "pyout",
       "prompt_number": 275,
       "text": [
        "(955, 1027)"
       ]
      }
     ],
     "prompt_number": 275
    },
    {
     "cell_type": "code",
     "collapsed": false,
     "input": [
      "a = (np.array([3,1,5,2]).reshape(-1,1) < np.array([3,5,6]).reshape(1,-1)) & (np.array([3,1,5,2]).reshape(-1,1) >= np.array([1,3,5]).reshape(1,-1))"
     ],
     "language": "python",
     "metadata": {},
     "outputs": [],
     "prompt_number": 211
    },
    {
     "cell_type": "code",
     "collapsed": false,
     "input": [
      "a"
     ],
     "language": "python",
     "metadata": {},
     "outputs": [
      {
       "output_type": "pyout",
       "prompt_number": 212,
       "text": [
        "array([[False,  True, False],\n",
        "       [ True, False, False],\n",
        "       [False, False,  True],\n",
        "       [ True, False, False]], dtype=bool)"
       ]
      }
     ],
     "prompt_number": 212
    },
    {
     "cell_type": "code",
     "collapsed": false,
     "input": [
      "a.nonzero()"
     ],
     "language": "python",
     "metadata": {},
     "outputs": [
      {
       "output_type": "pyout",
       "prompt_number": 214,
       "text": [
        "(array([0, 1, 2, 3]), array([1, 0, 2, 0]))"
       ]
      }
     ],
     "prompt_number": 214
    },
    {
     "cell_type": "code",
     "collapsed": false,
     "input": [
      "len(census_data.sp.unique()), census_data.sp.unique()"
     ],
     "language": "python",
     "metadata": {},
     "outputs": [
      {
       "output_type": "pyout",
       "prompt_number": 109,
       "text": [
        "(326,\n",
        " array(['swars1', 'hybapr', 'aegipa', 'quaras', 'gustsu', 'pterro',\n",
        "       'virosu', 'simaam', 'protte', 'brosal', 'ingape', 'poular',\n",
        "       'casear', 'hirttr', 'ocotwh', 'guatdu', 'anacex', 'tri2tu',\n",
        "       'beilpe', 'guarsp', 'guargu', 'zantpr', 'termob', 'guazul',\n",
        "       'tab1ro', 'sloate', 'alchco', 'loncla', 'alsebl', 'luehse',\n",
        "       'tripcu', 'cecrob', 'licapl', 'eugeco', 'heisco', 'eugene',\n",
        "       'pri2co', 'sponra', 'poutre', 'guapst', 'cordbi', 'zantbe',\n",
        "       'tet2pa', 'annosp', 'tab2ar', 'jac1co', 'zantp1', 'chr2ar',\n",
        "       'eugeoe', 'huracr', 'sapiau', 'apeime', 'ficuyo', 'ingago',\n",
        "       'ceibpe', 'cavapl', 'chr2ca', 'lindla', 'virose', 'pla1pi',\n",
        "       'lacmpa', 'drypst', 'myrofr', 'ingaco', 'posola', 'casesy',\n",
        "       'amaico', 'pla2el', 'cordal', 'dio2ar', 'tratas', 'colugl',\n",
        "       'apeiti', 'gar2in', 'poutst', 'tab1gu', 'ingafa', 'sch1zo',\n",
        "       'sterap', 'cassel', 'calolo', 'crotbi', 'hyeral', 'zuelgu',\n",
        "       'cecrin', 'hassfl', 'sponmo', 'ingama', 'allops', 'virosp',\n",
        "       'sympgl', 'guetfo', 'mar1la', 'ficutr', 'aspicr', 'dendar',\n",
        "       'theoca', 'andiin', 'ingas1', 'diptpa', 'ast2gr', 'hirtam',\n",
        "       'ficuob', 'tropra', 'protpa', 'ficuto', 'unonpi', 'maquco',\n",
        "       'gar2ma', 'macrgl', 'randar', 'cespma', 'cordla', 'picrla',\n",
        "       'cupala', 'zantse', 'xyl1ma', 'geniam', 'ingasp', 'hampap',\n",
        "       'sapisp', 'sipapa', 'ocotob', 'myrcga', 'nectci', 'ficuma',\n",
        "       'maytsc', 'phoeci', 'licahy', 'tachve', 'protco', 'laciag',\n",
        "       'psidfr', 'celtsc', 'nects1', 'ormocr', 'apeihy', 'ficupo',\n",
        "       'turpoc', 'ery1co', 'tremmi', 'ade1tr', 'faraoc', 'ingasa',\n",
        "       'ocotce', 'guargr', 'ingapu', 'nectgl', 'micoar', 'ficuc2',\n",
        "       'ficuin', 'ormoma', 'termam', 'tri2pa', 'ficubu', 'tet4jo',\n",
        "       'pse1se', 'tocopi', 'sch2mo', 'pochse', 'ocotpu', 'cupasy',\n",
        "       'ingami', 'ingaru', 'cuparu', 'poutfo', 'vochfe', 'ast1st',\n",
        "       'cou2cu', 'micoho', 'coccco', 'spacme', 'micoel', 'cupaci',\n",
        "       'eugega', 'tri4ga', 'laetpr', 'solaha', 'lafopu', 'entesc',\n",
        "       'pterof', 'cedrod', 'ingaqu', 'pourbi', 'pit1ma', 'uniden',\n",
        "       'ingath', 'pochqu', 'alchla', 'sipagu', 'ochrpy', 'psycde',\n",
        "       'ardife', 'psycho', 'acaldi', 'pentma', 'annoac', 'oenoma',\n",
        "       'psycma', 'taline', 'soroaf', 'talipr', 'malmsp', 'caseac',\n",
        "       'olmeas', 'des2pa', 'ingaum', 'rinosy', 'cappfr', 'ouralu',\n",
        "       'stylst', 'mourmy', 'ery2pa', 'herrpu', 'laetth', 'ery2ma',\n",
        "       'bactc1', 'alibed', 'psycg3', 'chr1ec', 'cestme', 'coccma',\n",
        "       'bactba', 'heisac', 'pipeco', 'vismba', 'sennda', 'pipeae',\n",
        "       'quasam', 'conoci', 'nectpu', 'pipea1', 'socrex', 'aphesi',\n",
        "       'pipecu', 'thevah', 'perexa', 'geonin', 'hameax', 'pipere',\n",
        "       'psycpi', 'clidoc', 'paligu', 'bactma', 'malpro', 'pipeca',\n",
        "       'micoaf', 'pipepe', 'neeaam', 'randfo', 'xyl2ol', 'ardiba',\n",
        "       'brosgu', 'margno', 'casegu', 'bactc2', 'psycli', 'solast',\n",
        "       'psycch', 'chimpa', 'lozapi', 'conobr', 'bertgu', 'pit1ru',\n",
        "       'cnempe', 'micoim', 'cha1te', 'micone', 'lycima', 'pipeim',\n",
        "       'protsp', 'couthe', 'appuse', 'clidde', 'acalma', 'urerba',\n",
        "       'psycg2', 'vismbi', 'stemgr', 'acacme', 'ormoam', 'tri1gi',\n",
        "       'psycfu', 'cha2sc', 'ternte', 'annoha', 'psycac', 'schipa',\n",
        "       'elaeol', 'ardigu', 'vismma', 'maclti', 'psycg1', 'cyphha',\n",
        "       'boropa', 'nects3', 'caseco', 'koanwe', 'clidse', 'psycra',\n",
        "       'lopida', 'ingam1', 'ficuc1', 'anaxpa', 'solaar', 'xyl2ch',\n",
        "       'hamepa', 'leandi', 'micopr', 'banagu', 'solaas', 'ficuci',\n",
        "       'psycb1', 'ficupe', 'tremin', 'psycps', 'cecrlo', 'rauvli',\n",
        "       'verbgi', 'micodo', 'carica', 'cappcy', 'hirtra', 'tri2to',\n",
        "       'vernpa', 'oreoca'], dtype=object))"
       ]
      }
     ],
     "prompt_number": 109
    },
    {
     "cell_type": "code",
     "collapsed": false,
     "input": [
      "sp = 'tri2tu'\n",
      "one_species = census_data.ix[(census_data.sp==sp)&~(census_data.dbh.isnull())]"
     ],
     "language": "python",
     "metadata": {},
     "outputs": [],
     "prompt_number": 63
    },
    {
     "cell_type": "code",
     "collapsed": false,
     "input": [
      "figure()\n",
      "scatter(one_species.gx, one_species.gy, one_species.dbh/5, alpha=0.1, marker='.', lw=0, c='g')\n",
      "title(sp)\n",
      "xlabel(\"x pos [m]\")\n",
      "ylabel(\"y pos [m]\")\n",
      "xlim(0,1000)\n",
      "ylim(0,500)\n",
      "savefig(\"/home/felix/Documents/BCI spatial/%s.png\" % sp)"
     ],
     "language": "python",
     "metadata": {},
     "outputs": [],
     "prompt_number": 64
    },
    {
     "cell_type": "code",
     "collapsed": false,
     "input": [
      "one_species.columns"
     ],
     "language": "python",
     "metadata": {},
     "outputs": [
      {
       "output_type": "pyout",
       "prompt_number": 7,
       "text": [
        "Index([u'tag', u'StemTag', u'sp', u'quadrat', u'gx', u'gy', u'MeasureID', u'origCensusID', u'dbh', u'pom', u'hom', u'ExactDate', u'DFstatus', u'codes', u'nostems', u'status', u'date', u'agb', u'pddate', u'dt_days', u'growth', u'growth_accel', u'survives', u'dies'], dtype=object)"
       ]
      }
     ],
     "prompt_number": 7
    },
    {
     "cell_type": "code",
     "collapsed": false,
     "input": [
      "one_species.gx.values.shape"
     ],
     "language": "python",
     "metadata": {},
     "outputs": [
      {
       "output_type": "pyout",
       "prompt_number": 28,
       "text": [
        "(86357,)"
       ]
      }
     ],
     "prompt_number": 28
    },
    {
     "cell_type": "code",
     "collapsed": false,
     "input": [
      "sub_plot = census_data.ix[(census_data.gx > 350) & (census_data.gx < 420) &\n",
      "                          (census_data.gy > 350) & (census_data.gy < 400)]"
     ],
     "language": "python",
     "metadata": {},
     "outputs": [],
     "prompt_number": 123
    },
    {
     "cell_type": "code",
     "collapsed": false,
     "input": [
      "sub_sab = calc_species_abundance(sub_plot)"
     ],
     "language": "python",
     "metadata": {},
     "outputs": [],
     "prompt_number": 132
    },
    {
     "cell_type": "code",
     "collapsed": false,
     "input": [
      "#sub_sab[sub_sab > 50]"
     ],
     "language": "python",
     "metadata": {},
     "outputs": [],
     "prompt_number": 122
    },
    {
     "cell_type": "code",
     "collapsed": false,
     "input": [
      "figure()\n",
      "axes(aspect='equal')\n",
      "xlabel(\"x pos [m]\")\n",
      "ylabel(\"y pos [m]\")\n",
      "title(\"variety of species in subregion\")\n",
      "xlim(350,420)\n",
      "ylim(350,400)\n",
      "#sub_sab.sort(ascending=False)\n",
      "sps = sub_sab.index\n",
      "#cols = [\"grey\"] * len(sps)\n",
      "#cols[:5] = ['green', 'blue', 'red', 'orange', 'magenta']\n",
      "for i, sp in enumerate(sps):\n",
      "    sub_one_sp = sub_plot[sub_plot.sp == sp]\n",
      "    scatter(sub_one_sp.gx, sub_one_sp.gy, sub_one_sp.dbh*2., alpha=0.2, marker='.', lw=0, \n",
      "            c = np.ones(len(sub_one_sp)) * i/len(sps), cmap=cm.Paired, norm=matplotlib.colors.NoNorm())\n",
      "    #print np.ones(len(sub_one_sp)) * i/len(sps)"
     ],
     "language": "python",
     "metadata": {},
     "outputs": [],
     "prompt_number": 134
    },
    {
     "cell_type": "code",
     "collapsed": false,
     "input": [
      "sps"
     ],
     "language": "python",
     "metadata": {},
     "outputs": [
      {
       "output_type": "pyout",
       "prompt_number": 135,
       "text": [
        "Index([u'acaldi', u'acalma', u'alchco', u'alibed', u'allops', u'alsebl', u'andiin', u'annoac', u'annosp', u'apeime', u'apeiti', u'aspicr', u'ast1st', u'bactma', u'beilpe', u'brosal', u'calolo', u'cappfr', u'caseac', u'casear', u'casesy', u'cassel', u'cecrin', u'cecrob', u'cestme', u'cha2sc', u'chr2ar', u'chr2ca', u'clidde', u'coccco', u'coccma', u'colugl', u'conoci', u'cordal', u'cordbi', u'cordla', u'cou2cu', u'crotbi', u'cupaci', u'cupala', u'cuparu', u'cupasy', u'cyphha', u'des2pa', u'dio2ar', u'drypst', u'ery1co', u'ery2ma', u'ery2pa', u'eugeco', u'eugega', u'eugene', u'eugeoe', u'faraoc', u'ficuob', u'gar2in', u'gar2ma', u'guapst', u'guargr', u'guargu', u'guarsp', u'guatdu', u'guetfo', u'gustsu', u'hameax', u'hampap', u'hassfl', u'heisco', u'herrpu', u'hirttr', u'hybapr', u'hyeral', u'ingafa', u'ingago', u'ingama', u'ingapu', u'ingaqu', u'ingas1', u'ingasa', u'ingasp', u'ingaum', u'jac1co', u'laciag', u'lacmpa', u'laetth', u'licahy', u'lindla', u'loncla', u'luehse', u'malmsp', u'malpro', u'maquco', u'maytsc', u'micoaf', u'micoar', u'micoel', u'micoho', u'micone', u'mourmy', u'nectgl', u'neeaam', u'ocotce', u'ocotob', u'ocotpu', u'oenoma', u'ormoma', u'ouralu', u'paligu', u'pentma', u'phoeci', u'picrla', u'pipeco', u'pipere', u'pla1pi', u'pla2el', u'posola', u'poular', u'poutre', u'poutst', u'pri2co', u'protpa', u'protte', u'pse1se', u'psycb1', u'psycde', u'psycg3', u'psycho', u'psycma', u'pterro', u'quaras', u'randar', u'rinosy', u'sennda', u'simaam', u'sipapa', u'sloate', u'solaha', u'soroaf', u'sterap', u'stylst', u'swars1', u'tab1gu', u'tab1ro', u'tab2ar', u'tachve', u'taline', u'talipr', u'tet2pa', u'tratas', u'tremin', u'tri1gi', u'tri2pa', u'tri2tu', u'tri4ga', u'tripcu', u'tropra', u'virose', u'vismba', u'xyl1ma', u'zantbe', u'zantp1', u'zantpr', u'zuelgu'], dtype=object)"
       ]
      }
     ],
     "prompt_number": 135
    },
    {
     "cell_type": "code",
     "collapsed": false,
     "input": [
      "sub_one_sp[sub_one_sp.dbh == 18.]"
     ],
     "language": "python",
     "metadata": {},
     "outputs": [
      {
       "html": [
        "<pre>\n",
        "&lt;class 'pandas.core.frame.DataFrame'&gt;\n",
        "MultiIndex: 1 entries, (6, 354759, 1.0) to (6, 354759, 1.0)\n",
        "Data columns (total 24 columns):\n",
        "tag             1  non-null values\n",
        "StemTag         0  non-null values\n",
        "sp              1  non-null values\n",
        "quadrat         1  non-null values\n",
        "gx              1  non-null values\n",
        "gy              1  non-null values\n",
        "MeasureID       1  non-null values\n",
        "origCensusID    1  non-null values\n",
        "dbh             1  non-null values\n",
        "pom             1  non-null values\n",
        "hom             1  non-null values\n",
        "ExactDate       1  non-null values\n",
        "DFstatus        1  non-null values\n",
        "codes           0  non-null values\n",
        "nostems         1  non-null values\n",
        "status          1  non-null values\n",
        "date            1  non-null values\n",
        "agb             1  non-null values\n",
        "pddate          1  non-null values\n",
        "dt_days         1  non-null values\n",
        "growth          0  non-null values\n",
        "growth_accel    0  non-null values\n",
        "survives        1  non-null values\n",
        "dies            1  non-null values\n",
        "dtypes: datetime64[ns](1), float64(15), int64(1), object(7)\n",
        "</pre>"
       ],
       "output_type": "pyout",
       "prompt_number": 98,
       "text": [
        "<class 'pandas.core.frame.DataFrame'>\n",
        "MultiIndex: 1 entries, (6, 354759, 1.0) to (6, 354759, 1.0)\n",
        "Data columns (total 24 columns):\n",
        "tag             1  non-null values\n",
        "StemTag         0  non-null values\n",
        "sp              1  non-null values\n",
        "quadrat         1  non-null values\n",
        "gx              1  non-null values\n",
        "gy              1  non-null values\n",
        "MeasureID       1  non-null values\n",
        "origCensusID    1  non-null values\n",
        "dbh             1  non-null values\n",
        "pom             1  non-null values\n",
        "hom             1  non-null values\n",
        "ExactDate       1  non-null values\n",
        "DFstatus        1  non-null values\n",
        "codes           0  non-null values\n",
        "nostems         1  non-null values\n",
        "status          1  non-null values\n",
        "date            1  non-null values\n",
        "agb             1  non-null values\n",
        "pddate          1  non-null values\n",
        "dt_days         1  non-null values\n",
        "growth          0  non-null values\n",
        "growth_accel    0  non-null values\n",
        "survives        1  non-null values\n",
        "dies            1  non-null values\n",
        "dtypes: datetime64[ns](1), float64(15), int64(1), object(7)"
       ]
      }
     ],
     "prompt_number": 98
    },
    {
     "cell_type": "code",
     "collapsed": false,
     "input": [
      "sub_sab"
     ],
     "language": "python",
     "metadata": {},
     "outputs": [
      {
       "output_type": "pyout",
       "prompt_number": 96,
       "text": [
        "sp\n",
        "hybapr    1736\n",
        "rinosy    1447\n",
        "faraoc    1109\n",
        "des2pa     485\n",
        "mourmy     454\n",
        "swars1     359\n",
        "tri2tu     308\n",
        "alsebl     301\n",
        "cupasy     199\n",
        "gar2in     175\n",
        "cha2sc     173\n",
        "ouralu     165\n",
        "hirttr     149\n",
        "cappfr     136\n",
        "tachve     126\n",
        "...\n",
        "cordal    2\n",
        "dio2ar    1\n",
        "alibed    1\n",
        "pentma    1\n",
        "vismba    1\n",
        "hameax    1\n",
        "annosp    1\n",
        "posola    1\n",
        "apeiti    1\n",
        "clidde    1\n",
        "tremin    1\n",
        "alchco    1\n",
        "guatdu    1\n",
        "colugl    1\n",
        "zuelgu    1\n",
        "Length: 144, dtype: int64"
       ]
      }
     ],
     "prompt_number": 96
    },
    {
     "cell_type": "code",
     "collapsed": false,
     "input": [
      "cm.Set1(0.3, alpha = 0.1)"
     ],
     "language": "python",
     "metadata": {},
     "outputs": [
      {
       "output_type": "pyout",
       "prompt_number": 102,
       "text": [
        "(0.41499424950749264,\n",
        " 0.54008459881240245,\n",
        " 0.42432912015447433,\n",
        " 0.10000000000000001)"
       ]
      }
     ],
     "prompt_number": 102
    },
    {
     "cell_type": "code",
     "collapsed": false,
     "input": [],
     "language": "python",
     "metadata": {},
     "outputs": []
    }
   ],
   "metadata": {}
  }
 ]
}