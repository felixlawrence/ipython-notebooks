{
 "metadata": {
  "name": "BCI calc growth rate"
 },
 "nbformat": 3,
 "nbformat_minor": 0,
 "worksheets": [
  {
   "cells": [
    {
     "cell_type": "code",
     "collapsed": false,
     "input": [
      "import numpy as np\n",
      "import pandas as pd\n",
      "from matplotlib import pyplot as plt\n",
      "from sklearn.gaussian_process import GaussianProcess\n",
      "from scipy import stats\n",
      "\n",
      "import warnings\n",
      "warnings.filterwarnings(\"ignore\", category=DeprecationWarning,\n",
      "                        module=\"pandas\", lineno=570)\n",
      "\n",
      "#%pylab inline\n",
      "\n",
      "#import sys\n",
      "#sys.path.append(\"/home/felix/Code/BCI/\")"
     ],
     "language": "python",
     "metadata": {},
     "outputs": [],
     "prompt_number": 1
    },
    {
     "cell_type": "code",
     "collapsed": false,
     "input": [
      "%run \"/home/felix/Code/BCI/load_full.py\""
     ],
     "language": "python",
     "metadata": {},
     "outputs": [],
     "prompt_number": 2
    },
    {
     "cell_type": "code",
     "collapsed": false,
     "input": [
      "%time census_data = pd.read_pickle(\"/home/felix/Data/data_BCI/census_data.pickle\")"
     ],
     "language": "python",
     "metadata": {},
     "outputs": [
      {
       "output_type": "stream",
       "stream": "stdout",
       "text": [
        "CPU times: user 3.29 s, sys: 0.31 s, total: 3.60 s\n",
        "Wall time: 3.60 s\n"
       ]
      }
     ],
     "prompt_number": 3
    },
    {
     "cell_type": "code",
     "collapsed": false,
     "input": [
      "census_data"
     ],
     "language": "python",
     "metadata": {},
     "outputs": [
      {
       "html": [
        "<pre>\n",
        "&lt;class 'pandas.core.frame.DataFrame'&gt;\n",
        "MultiIndex: 2242742 entries, (1, 1, 1.0) to (7, 481568, 1.0)\n",
        "Columns: 23 entries, tag to dies\n",
        "dtypes: datetime64[ns](1), float64(14), int64(1), object(7)\n",
        "</pre>"
       ],
       "output_type": "pyout",
       "prompt_number": 4,
       "text": [
        "<class 'pandas.core.frame.DataFrame'>\n",
        "MultiIndex: 2242742 entries, (1, 1, 1.0) to (7, 481568, 1.0)\n",
        "Columns: 23 entries, tag to dies\n",
        "dtypes: datetime64[ns](1), float64(14), int64(1), object(7)"
       ]
      }
     ],
     "prompt_number": 4
    },
    {
     "cell_type": "code",
     "collapsed": false,
     "input": [
      "# Only consider one species\n",
      "one_species = census_data.ix[census_data['sp'] == 'hybapr']"
     ],
     "language": "python",
     "metadata": {},
     "outputs": [],
     "prompt_number": 5
    },
    {
     "cell_type": "code",
     "collapsed": false,
     "input": [
      "# Only consider stem #1 of each plant\n",
      "one_stem = one_species.xs(1, level=\"stemID\")\n",
      "\n",
      "# Convert dates to datetime\n",
      "one_stem['pddate'] = pd.to_datetime(one_stem.ExactDate)"
     ],
     "language": "python",
     "metadata": {},
     "outputs": [],
     "prompt_number": 6
    },
    {
     "cell_type": "code",
     "collapsed": false,
     "input": [
      "# Only consider live plants\n",
      "one_stem_alive = one_stem.ix[one_stem.status == 'A']"
     ],
     "language": "python",
     "metadata": {},
     "outputs": [],
     "prompt_number": 7
    },
    {
     "cell_type": "code",
     "collapsed": false,
     "input": [
      "# Ignore first two census (small plants only given to 5mm accuracy)\n",
      "dates = one_stem_alive.ix[3:].pddate.unstack()\n",
      "dbhs = one_stem_alive.ix[3:].dbh.unstack()\n",
      "dtyears = one_stem_alive.ix[3:].dt_days.unstack()/365.25\n",
      "ddbhs = dbhs.diff().drop(dbhs.index[0])\n",
      "ddbhs.index = dbhs.index[:-1]  # take dbh at t, not at t + delta t #TODO take it at t + 0.5 delta t?\n",
      "growth = ddbhs/dtyears \n",
      "growth"
     ],
     "language": "python",
     "metadata": {},
     "outputs": [
      {
       "html": [
        "<pre>\n",
        "&lt;class 'pandas.core.frame.DataFrame'&gt;\n",
        "Int64Index: 5 entries, 3 to 7\n",
        "Columns: 39735 entries, 8410 to 481568\n",
        "dtypes: float64(39735)\n",
        "</pre>"
       ],
       "output_type": "pyout",
       "prompt_number": 8,
       "text": [
        "<class 'pandas.core.frame.DataFrame'>\n",
        "Int64Index: 5 entries, 3 to 7\n",
        "Columns: 39735 entries, 8410 to 481568\n",
        "dtypes: float64(39735)"
       ]
      }
     ],
     "prompt_number": 8
    },
    {
     "cell_type": "raw",
     "metadata": {},
     "source": [
      "# Bug in pandas: https://github.com/pydata/pandas/issues/4533\n",
      "dt = dates.apply(pd.Series.diff)\n",
      "# Annoyance in numpy: http://stackoverflow.com/questions/18215317/extracting-days-from-a-numpy-timedelta64-value\n",
      "dtdays = dt/np.timedelta64(1, 'D')\n",
      "dtyears = dt/np.timedelta64(365, 'D')"
     ]
    },
    {
     "cell_type": "code",
     "collapsed": false,
     "input": [
      "growth_v_dbh = pd.concat([dbhs.stack(), growth.stack()], axis=1).dropna()\n",
      "plot(growth_v_dbh[0], growth_v_dbh[1], 'o', alpha = 0.01)\n",
      "xlabel(\"dbh [mm]\")\n",
      "ylabel(\"growth rate d dbh / dt [mm/year]\")"
     ],
     "language": "python",
     "metadata": {},
     "outputs": [
      {
       "output_type": "pyout",
       "prompt_number": 9,
       "text": [
        "<matplotlib.text.Text at 0x1500e390>"
       ]
      }
     ],
     "prompt_number": 9
    },
    {
     "cell_type": "code",
     "collapsed": false,
     "input": [
      "(growth > 0.).sum().sum(), (growth < 0.).sum().sum()"
     ],
     "language": "python",
     "metadata": {},
     "outputs": [
      {
       "output_type": "pyout",
       "prompt_number": 10,
       "text": [
        "(45796, 6412)"
       ]
      }
     ],
     "prompt_number": 10
    },
    {
     "cell_type": "code",
     "collapsed": false,
     "input": [
      "#dbh is intrinsically discrete (rounded to nearest mm) and we have a lot of data\n",
      "num_dbh = growth_v_dbh[0].max() - growth_v_dbh[0].min()\n",
      "#h, xedges, yedges = np.histogram2d(growth_v_dbh[1], growth_v_dbh[0], bins = (num_dbh, 100)) # y, x, (xedges, yedges) :(\n",
      "min_growth, max_growth = -1, 2\n",
      "num_growth_bins = (max_growth - min_growth) * 5 # our resolution is ~1mm / 5 years\n",
      "h, dbh_edges, growth_edges, _ = hist2d(growth_v_dbh[0]-0.5, growth_v_dbh[1]+0.5, \n",
      "       bins=(num_dbh, num_growth_bins), \n",
      "       range=((growth_v_dbh[0].min(), growth_v_dbh[0].max()), (min_growth, max_growth)))"
     ],
     "language": "python",
     "metadata": {},
     "outputs": [],
     "prompt_number": 11
    },
    {
     "cell_type": "code",
     "collapsed": false,
     "input": [
      "h_norm = h/h.sum(axis=1, keepdims = True)\n",
      "imshow(h_norm.T[::-1], \n",
      "       extent=(dbh_edges[0], dbh_edges[-1],\n",
      "               growth_edges[0], growth_edges[-1]),\n",
      "       vmin = 0, vmax = 0.4,\n",
      "       cmap=\"GnBu\",\n",
      "       aspect = 20.,\n",
      "       interpolation='nearest')\n",
      "colorbar()\n",
      "xlabel(\"dbh [mm]\")\n",
      "ylabel(\"growth rate d dbh / dt [mm/year]\")"
     ],
     "language": "python",
     "metadata": {},
     "outputs": [
      {
       "output_type": "pyout",
       "prompt_number": 12,
       "text": [
        "<matplotlib.text.Text at 0x14a536d0>"
       ]
      }
     ],
     "prompt_number": 12
    },
    {
     "cell_type": "code",
     "collapsed": false,
     "input": [
      "growth_edges"
     ],
     "language": "python",
     "metadata": {},
     "outputs": [
      {
       "output_type": "pyout",
       "prompt_number": 13,
       "text": [
        "array([-1. , -0.8, -0.6, -0.4, -0.2,  0. ,  0.2,  0.4,  0.6,  0.8,  1. ,\n",
        "        1.2,  1.4,  1.6,  1.8,  2. ])"
       ]
      }
     ],
     "prompt_number": 13
    },
    {
     "cell_type": "code",
     "collapsed": false,
     "input": [
      "#stats.kde.gaussian_kde(growth_v_dbh) # will consume all available RAM and then some"
     ],
     "language": "python",
     "metadata": {},
     "outputs": [],
     "prompt_number": 17
    },
    {
     "cell_type": "code",
     "collapsed": false,
     "input": [],
     "language": "python",
     "metadata": {},
     "outputs": [],
     "prompt_number": 17
    }
   ],
   "metadata": {}
  }
 ]
}