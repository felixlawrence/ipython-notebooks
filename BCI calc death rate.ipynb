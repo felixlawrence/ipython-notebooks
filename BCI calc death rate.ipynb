{
 "metadata": {
  "name": "BCI calc death rate"
 },
 "nbformat": 3,
 "nbformat_minor": 0,
 "worksheets": [
  {
   "cells": [
    {
     "cell_type": "code",
     "collapsed": false,
     "input": [
      "import numpy as np\n",
      "import pandas as pd\n",
      "from matplotlib import pyplot as plt\n",
      "from sklearn.gaussian_process import GaussianProcess\n",
      "from scipy import stats\n",
      "from scipy.optimize import brentq\n",
      "\n",
      "import warnings\n",
      "warnings.filterwarnings(\"ignore\", category=DeprecationWarning,\n",
      "                        module=\"pandas\", lineno=570)\n",
      "\n",
      "#%pylab inline\n",
      "\n",
      "#import sys\n",
      "#sys.path.append(\"/home/felix/Code/BCI/\")"
     ],
     "language": "python",
     "metadata": {},
     "outputs": [],
     "prompt_number": 1
    },
    {
     "cell_type": "code",
     "collapsed": false,
     "input": [
      "%run \"/home/felix/Code/BCI/load_full.py\""
     ],
     "language": "python",
     "metadata": {},
     "outputs": [],
     "prompt_number": 2
    },
    {
     "cell_type": "code",
     "collapsed": false,
     "input": [
      "# %time census_data = load_all_censuses()\n",
      "# census_data.to_pickle(\"/home/felix/Data/data_BCI/census_data.pickle\")\n",
      "census_data = pd.read_pickle(\"/home/felix/Data/data_BCI/census_data.pickle\")"
     ],
     "language": "python",
     "metadata": {},
     "outputs": [],
     "prompt_number": 3
    },
    {
     "cell_type": "code",
     "collapsed": false,
     "input": [
      "census_data"
     ],
     "language": "python",
     "metadata": {},
     "outputs": [
      {
       "html": [
        "<pre>\n",
        "&lt;class 'pandas.core.frame.DataFrame'&gt;\n",
        "MultiIndex: 2242742 entries, (1, 1, 1.0) to (7, 481568, 1.0)\n",
        "Columns: 24 entries, tag to dies\n",
        "dtypes: datetime64[ns](1), float64(15), int64(1), object(7)\n",
        "</pre>"
       ],
       "output_type": "pyout",
       "prompt_number": 4,
       "text": [
        "<class 'pandas.core.frame.DataFrame'>\n",
        "MultiIndex: 2242742 entries, (1, 1, 1.0) to (7, 481568, 1.0)\n",
        "Columns: 24 entries, tag to dies\n",
        "dtypes: datetime64[ns](1), float64(15), int64(1), object(7)"
       ]
      }
     ],
     "prompt_number": 4
    },
    {
     "cell_type": "code",
     "collapsed": false,
     "input": [
      "# Only consider one species\n",
      "one_species = census_data.ix[census_data['sp'] == 'hybapr']"
     ],
     "language": "python",
     "metadata": {},
     "outputs": [],
     "prompt_number": 5
    },
    {
     "cell_type": "code",
     "collapsed": false,
     "input": [
      "# Only consider stem #1 of each plant\n",
      "one_stem = one_species.xs(1, level=\"stemID\")\n",
      "\n",
      "# Convert dates to datetime\n",
      "one_stem['pddate'] = pd.to_datetime(one_stem.ExactDate)"
     ],
     "language": "python",
     "metadata": {},
     "outputs": [],
     "prompt_number": 6
    },
    {
     "cell_type": "code",
     "collapsed": false,
     "input": [
      "one_stem.index.levels[0]"
     ],
     "language": "python",
     "metadata": {},
     "outputs": [
      {
       "output_type": "pyout",
       "prompt_number": 7,
       "text": [
        "Int64Index([1, 2, 3, 4, 5, 6, 7], dtype=int64)"
       ]
      }
     ],
     "prompt_number": 7
    },
    {
     "cell_type": "code",
     "collapsed": false,
     "input": [
      "# Ignore first two censuses:\n",
      "one_stem = one_stem.loc[3:]"
     ],
     "language": "python",
     "metadata": {},
     "outputs": [],
     "prompt_number": 8
    },
    {
     "cell_type": "code",
     "collapsed": false,
     "input": [
      "# Detect live plants\n",
      "its_alive = (one_stem.status == 'A').unstack().fillna(False)"
     ],
     "language": "python",
     "metadata": {},
     "outputs": [],
     "prompt_number": 9
    },
    {
     "cell_type": "code",
     "collapsed": false,
     "input": [
      "(one_stem.status == 'A').unstack()"
     ],
     "language": "python",
     "metadata": {},
     "outputs": [
      {
       "html": [
        "<pre>\n",
        "&lt;class 'pandas.core.frame.DataFrame'&gt;\n",
        "Int64Index: 5 entries, 3 to 7\n",
        "Columns: 43858 entries, 6 to 481568\n",
        "dtypes: object(43858)\n",
        "</pre>"
       ],
       "output_type": "pyout",
       "prompt_number": 10,
       "text": [
        "<class 'pandas.core.frame.DataFrame'>\n",
        "Int64Index: 5 entries, 3 to 7\n",
        "Columns: 43858 entries, 6 to 481568\n",
        "dtypes: object(43858)"
       ]
      }
     ],
     "prompt_number": 10
    },
    {
     "cell_type": "code",
     "collapsed": false,
     "input": [
      "its_alive.diff().iloc[:,4]"
     ],
     "language": "python",
     "metadata": {},
     "outputs": [
      {
       "output_type": "pyout",
       "prompt_number": 11,
       "text": [
        "CensusID\n",
        "3           NaN\n",
        "4             0\n",
        "5             0\n",
        "6             0\n",
        "7             0\n",
        "Name: 8413, dtype: object"
       ]
      }
     ],
     "prompt_number": 11
    },
    {
     "cell_type": "code",
     "collapsed": false,
     "input": [
      "one_stem['status'].unstack().iloc[:,4]"
     ],
     "language": "python",
     "metadata": {},
     "outputs": [
      {
       "output_type": "pyout",
       "prompt_number": 12,
       "text": [
        "CensusID\n",
        "3             D\n",
        "4           NaN\n",
        "5           NaN\n",
        "6           NaN\n",
        "7           NaN\n",
        "Name: 8413, dtype: object"
       ]
      }
     ],
     "prompt_number": 12
    },
    {
     "cell_type": "code",
     "collapsed": false,
     "input": [
      "its_alive.iloc[:,4]"
     ],
     "language": "python",
     "metadata": {},
     "outputs": [
      {
       "output_type": "pyout",
       "prompt_number": 13,
       "text": [
        "CensusID\n",
        "3           False\n",
        "4           False\n",
        "5           False\n",
        "6           False\n",
        "7           False\n",
        "Name: 8413, dtype: object"
       ]
      }
     ],
     "prompt_number": 13
    },
    {
     "cell_type": "code",
     "collapsed": false,
     "input": [
      "births_and_deaths = its_alive.diff().iloc[1:]\n",
      "births_and_deaths.index = its_alive.index[:-1]\n",
      "one_stem['births_and_deaths'] = births_and_deaths.stack()"
     ],
     "language": "python",
     "metadata": {},
     "outputs": [],
     "prompt_number": 14
    },
    {
     "cell_type": "code",
     "collapsed": false,
     "input": [
      "one_stem.births_and_deaths[its_alive.stack()]"
     ],
     "language": "python",
     "metadata": {},
     "outputs": [
      {
       "output_type": "pyout",
       "prompt_number": 15,
       "text": [
        "CensusID  treeID\n",
        "3         8410       0\n",
        "          8412      -1\n",
        "          8446       0\n",
        "          8448       0\n",
        "          8449       0\n",
        "          8452       0\n",
        "          8454      -1\n",
        "          8455      -1\n",
        "          8481       0\n",
        "          8483       0\n",
        "          8488      -1\n",
        "          8497      -1\n",
        "          8498       0\n",
        "          8500       0\n",
        "          8501       0\n",
        "...\n",
        "7         481340    NaN\n",
        "          481342    NaN\n",
        "          481352    NaN\n",
        "          481367    NaN\n",
        "          481371    NaN\n",
        "          481382    NaN\n",
        "          481434    NaN\n",
        "          481447    NaN\n",
        "          481474    NaN\n",
        "          481503    NaN\n",
        "          481523    NaN\n",
        "          481555    NaN\n",
        "          481559    NaN\n",
        "          481566    NaN\n",
        "          481568    NaN\n",
        "Name: births_and_deaths, Length: 110264, dtype: object"
       ]
      }
     ],
     "prompt_number": 15
    },
    {
     "cell_type": "code",
     "collapsed": false,
     "input": [
      "one_stem.dbh[its_alive.stack()]"
     ],
     "language": "python",
     "metadata": {},
     "outputs": [
      {
       "output_type": "pyout",
       "prompt_number": 16,
       "text": [
        "CensusID  treeID\n",
        "3         8410      26\n",
        "          8412      18\n",
        "          8446      13\n",
        "          8448      28\n",
        "          8449      18\n",
        "          8452      28\n",
        "          8454      13\n",
        "          8455      21\n",
        "          8481      20\n",
        "          8483      21\n",
        "          8488      16\n",
        "          8497      11\n",
        "          8498      13\n",
        "          8500      17\n",
        "          8501      14\n",
        "...\n",
        "7         481340    13\n",
        "          481342    11\n",
        "          481352    11\n",
        "          481367    10\n",
        "          481371    12\n",
        "          481382    13\n",
        "          481434    11\n",
        "          481447    18\n",
        "          481474    14\n",
        "          481503    11\n",
        "          481523    13\n",
        "          481555    20\n",
        "          481559    10\n",
        "          481566    11\n",
        "          481568    11\n",
        "Name: dbh, Length: 110264, dtype: float64"
       ]
      }
     ],
     "prompt_number": 16
    },
    {
     "cell_type": "code",
     "collapsed": false,
     "input": [
      "one_stem_alive = one_stem.ix[its_alive.stack()]"
     ],
     "language": "python",
     "metadata": {},
     "outputs": [],
     "prompt_number": 17
    },
    {
     "cell_type": "code",
     "collapsed": false,
     "input": [
      "# Ignore first two census (small plants only given to 5mm accuracy)\n",
      "rel_pts = one_stem_alive.iloc[3:]"
     ],
     "language": "python",
     "metadata": {},
     "outputs": [],
     "prompt_number": 18
    },
    {
     "cell_type": "code",
     "collapsed": false,
     "input": [
      "assert rel_pts.births_and_deaths.max() <= 0"
     ],
     "language": "python",
     "metadata": {},
     "outputs": [],
     "prompt_number": 19
    },
    {
     "cell_type": "code",
     "collapsed": false,
     "input": [
      "grouped = rel_pts.births_and_deaths.groupby(rel_pts.dbh)\n",
      "(-1.*grouped.sum()/grouped.count()).plot(marker='.', linestyle='')\n",
      "xlabel(\"dbh [mm]\")\n",
      "ylabel(\"proportion dead between censuses\")"
     ],
     "language": "python",
     "metadata": {},
     "outputs": [
      {
       "output_type": "pyout",
       "prompt_number": 20,
       "text": [
        "<matplotlib.text.Text at 0x166879d0>"
       ]
      }
     ],
     "prompt_number": 20
    },
    {
     "cell_type": "markdown",
     "metadata": {},
     "source": [
      "assume death follows an exponential distribution:\n",
      "prob of death given time t, death rate $s$ is $\\frac{1}{s} \\exp (- \\frac{t}{s})$\n",
      "\n",
      "Want to infer $s$ from data. Max likelihood of $s$ when\n",
      "$0 = \\frac{d}{ds} \\ln P(s|D) = \\Sigma_{a \\in \\rm{survivals}} t_a - \\Sigma_{d \\in \\rm{deaths}} \\frac{t_d}{\\exp (t_d/s) - 1}$"
     ]
    },
    {
     "cell_type": "code",
     "collapsed": false,
     "input": [
      "rel_pts.date.unstack().diff().iloc[:,0]"
     ],
     "language": "python",
     "metadata": {},
     "outputs": [
      {
       "output_type": "pyout",
       "prompt_number": 21,
       "text": [
        "CensusID\n",
        "3            NaN\n",
        "4            NaN\n",
        "5           1827\n",
        "6           1847\n",
        "7           1784\n",
        "Name: 8410, dtype: float64"
       ]
      }
     ],
     "prompt_number": 21
    },
    {
     "cell_type": "code",
     "collapsed": false,
     "input": [
      "time_to_next = rel_pts.date.unstack().diff().iloc[1:]\n",
      "time_to_next.index = rel_pts.date.unstack().index[:-1]\n",
      "\n",
      "# When a plant dies and goes missing, record the average sampling time between that pair of censuses\n",
      "# This presumably can be improved by filling from physically neighbouring plants\n",
      "time_to_next.T.fillna(value=time_to_next.mean(axis=1).to_dict(), inplace = True)\n",
      "\n",
      "rel_pts['time_to_next'] = time_to_next.stack()"
     ],
     "language": "python",
     "metadata": {},
     "outputs": [],
     "prompt_number": 22
    },
    {
     "cell_type": "code",
     "collapsed": false,
     "input": [],
     "language": "python",
     "metadata": {},
     "outputs": [],
     "prompt_number": 22
    },
    {
     "cell_type": "code",
     "collapsed": false,
     "input": [
      "rel_pts.births_and_deaths.unstack().iloc[:,0]"
     ],
     "language": "python",
     "metadata": {},
     "outputs": [
      {
       "output_type": "pyout",
       "prompt_number": 23,
       "text": [
        "CensusID\n",
        "3           NaN\n",
        "4             0\n",
        "5             0\n",
        "6             0\n",
        "7           NaN\n",
        "Name: 8410, dtype: object"
       ]
      }
     ],
     "prompt_number": 23
    },
    {
     "cell_type": "code",
     "collapsed": false,
     "input": [
      "death_rates = {}\n",
      "for dbh, data in rel_pts.groupby('dbh'):\n",
      "    # get survivals times\n",
      "    t_as = data.time_to_next[data.births_and_deaths == 0]\n",
      "    sum_t_a = t_as.sum()\n",
      "    \n",
      "    t_ds = data.time_to_next[data.births_and_deaths == -1].values\n",
      "    \n",
      "    if len(t_ds) == 0 or sum_t_a == 0:\n",
      "        print \"skipping dbh\", dbh\n",
      "        continue\n",
      "\n",
      "    def max_likely(s):\n",
      "        death_exp_term = np.exp(t_ds/s)\n",
      "\n",
      "        death_term = (t_ds/(death_exp_term - 1)).sum()\n",
      "\n",
      "        return sum_t_a - death_term\n",
      "\n",
      "    death_rates[dbh] = brentq(max_likely, 1e4, 1e-3, xtol = 1e-3) #NB not high tolerance\n"
     ],
     "language": "python",
     "metadata": {},
     "outputs": [
      {
       "output_type": "stream",
       "stream": "stdout",
       "text": [
        "skipping dbh 77.0\n",
        "skipping dbh 79.0\n",
        "skipping dbh 84.0\n",
        "skipping dbh 85.0\n",
        "skipping dbh 89.0\n",
        "skipping dbh 90.0\n"
       ]
      }
     ],
     "prompt_number": 24
    },
    {
     "cell_type": "code",
     "collapsed": false,
     "input": [
      "death_series = pd.Series(death_rates)"
     ],
     "language": "python",
     "metadata": {},
     "outputs": [],
     "prompt_number": 25
    },
    {
     "cell_type": "code",
     "collapsed": false,
     "input": [
      "(1-np.exp(-365.25/death_series)).plot(marker='.', linestyle='')\n",
      "xlabel(\"dbh [mm]\")\n",
      "ylabel(\"prob of dying within 1 year\")"
     ],
     "language": "python",
     "metadata": {},
     "outputs": [
      {
       "output_type": "pyout",
       "prompt_number": 26,
       "text": [
        "<matplotlib.text.Text at 0x166879d0>"
       ]
      }
     ],
     "prompt_number": 26
    },
    {
     "cell_type": "code",
     "collapsed": false,
     "input": [
      "np.exp(np.linspace(0,1,11)/3.)"
     ],
     "language": "python",
     "metadata": {},
     "outputs": [
      {
       "output_type": "pyout",
       "prompt_number": 27,
       "text": [
        "array([ 1.        ,  1.03389511,  1.06893911,  1.10517092,  1.14263081,\n",
        "        1.18136041,  1.22140276,  1.26280234,  1.30560517,  1.34985881,\n",
        "        1.39561243])"
       ]
      }
     ],
     "prompt_number": 27
    },
    {
     "cell_type": "code",
     "collapsed": false,
     "input": [
      "rel_pts.births_and_deaths.describe()"
     ],
     "language": "python",
     "metadata": {},
     "outputs": [
      {
       "output_type": "pyout",
       "prompt_number": 28,
       "text": [
        "count     93924\n",
        "unique        2\n",
        "top           0\n",
        "freq      70524\n",
        "dtype: int64"
       ]
      }
     ],
     "prompt_number": 28
    },
    {
     "cell_type": "code",
     "collapsed": false,
     "input": [
      "rel_pts.births_and_deaths == -1"
     ],
     "language": "python",
     "metadata": {},
     "outputs": [
      {
       "output_type": "pyout",
       "prompt_number": 29,
       "text": [
        "CensusID  treeID\n",
        "3         8448      False\n",
        "          8449      False\n",
        "          8452      False\n",
        "          8454       True\n",
        "          8455       True\n",
        "          8481      False\n",
        "          8483      False\n",
        "          8488       True\n",
        "          8497       True\n",
        "          8498      False\n",
        "          8500      False\n",
        "          8501      False\n",
        "          8502      False\n",
        "          8504      False\n",
        "          8508      False\n",
        "...\n",
        "7         481340    False\n",
        "          481342    False\n",
        "          481352    False\n",
        "          481367    False\n",
        "          481371    False\n",
        "          481382    False\n",
        "          481434    False\n",
        "          481447    False\n",
        "          481474    False\n",
        "          481503    False\n",
        "          481523    False\n",
        "          481555    False\n",
        "          481559    False\n",
        "          481566    False\n",
        "          481568    False\n",
        "Name: births_and_deaths, Length: 110261, dtype: bool"
       ]
      }
     ],
     "prompt_number": 29
    },
    {
     "cell_type": "code",
     "collapsed": false,
     "input": [
      "# Implicitly take uniform prior between (0,10000]\n",
      "s = np.linspace(0,1e4,1001)[1:]\n",
      "\n",
      "death_rates = pd.DataFrame([[]], index=s)\n",
      "for dbh, data in rel_pts.groupby('dbh'):\n",
      "    # get survivals times\n",
      "    t_as = data.time_to_next[data.births_and_deaths == 0]\n",
      "    sum_t_a = t_as.sum()\n",
      "    \n",
      "    t_ds = data.time_to_next[data.births_and_deaths == -1].values\n",
      "    \n",
      "    if len(t_ds) == 0 or sum_t_a == 0:\n",
      "        print \"skipping dbh\", dbh\n",
      "        death_rates[dbh] = np.nan\n",
      "        continue\n",
      "\n",
      "    s_m, t_ds_m = np.meshgrid(s, t_ds)\n",
      "    death_exp_term = np.exp(-t_ds_m/s_m)\n",
      "    death_term = (np.log(1 - death_exp_term)).sum(axis=0) # sum over times\n",
      "    \n",
      "    log_likely = -sum_t_a/s + death_term\n",
      "    likely = np.exp(log_likely - log_likely.max())\n",
      "    likely /= np.trapz(likely, s)\n",
      "    \n",
      "    death_rates[dbh] = likely\n"
     ],
     "language": "python",
     "metadata": {},
     "outputs": [
      {
       "output_type": "stream",
       "stream": "stdout",
       "text": [
        "skipping dbh 77.0\n",
        "skipping dbh 79.0\n",
        "skipping dbh 84.0\n",
        "skipping dbh 85.0\n",
        "skipping dbh 89.0\n",
        "skipping dbh 90.0\n"
       ]
      }
     ],
     "prompt_number": 30
    },
    {
     "cell_type": "code",
     "collapsed": false,
     "input": [
      "plot(s, death_rates[10], '.')"
     ],
     "language": "python",
     "metadata": {},
     "outputs": [
      {
       "output_type": "pyout",
       "prompt_number": 31,
       "text": [
        "[<matplotlib.lines.Line2D at 0x1855ef90>]"
       ]
      }
     ],
     "prompt_number": 31
    },
    {
     "cell_type": "code",
     "collapsed": false,
     "input": [
      "imshow(death_rates.values, cmap='GnBu', aspect=0.05, interpolation='nearest')\n",
      "colorbar()"
     ],
     "language": "python",
     "metadata": {},
     "outputs": [
      {
       "output_type": "pyout",
       "prompt_number": 32,
       "text": [
        "<matplotlib.colorbar.Colorbar instance at 0x12d66050>"
       ]
      }
     ],
     "prompt_number": 32
    },
    {
     "cell_type": "code",
     "collapsed": false,
     "input": [
      "chances = np.linspace(0,1, len(s))\n",
      "#death_chances_1y = {dbh: np.interp(chances, s, rates) for dbh, rates in death_rates.iteritems()}\n",
      "death_chances_5y = pd.DataFrame([[]], index=chances)\n",
      "for dbh in death_rates.columns:\n",
      "    if len(death_rates[dbh])!=0:\n",
      "        death_chances_5y[dbh] = np.interp(chances, 1-np.exp(-5*365.25/s[::-1]), death_rates[dbh][::-1])[::-1]\n",
      "    else:\n",
      "        death_chances_5y[dbh] = np.nan"
     ],
     "language": "python",
     "metadata": {},
     "outputs": [],
     "prompt_number": 37
    },
    {
     "cell_type": "code",
     "collapsed": false,
     "input": [
      "imshow(death_chances_5y, cmap='GnBu', interpolation='nearest', aspect=50,\n",
      "       extent=(death_chances_5y.columns[0], death_chances_5y.columns[-1], chances[0], chances[-1]))\n",
      "colorbar()\n",
      "xlabel(\"dbh [mm]\")\n",
      "ylabel(\"prob of dying within 5 years\")"
     ],
     "language": "python",
     "metadata": {},
     "outputs": [
      {
       "output_type": "pyout",
       "prompt_number": 40,
       "text": [
        "<matplotlib.text.Text at 0x15ab7450>"
       ]
      }
     ],
     "prompt_number": 40
    },
    {
     "cell_type": "code",
     "collapsed": false,
     "input": [],
     "language": "python",
     "metadata": {},
     "outputs": [],
     "prompt_number": 34
    }
   ],
   "metadata": {}
  }
 ]
}