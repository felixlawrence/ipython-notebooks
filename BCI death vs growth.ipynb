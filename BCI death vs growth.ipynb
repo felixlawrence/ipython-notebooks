{
 "metadata": {
  "name": "BCI death vs growth"
 },
 "nbformat": 3,
 "nbformat_minor": 0,
 "worksheets": [
  {
   "cells": [
    {
     "cell_type": "code",
     "collapsed": false,
     "input": [
      "import numpy as np\n",
      "import pandas as pd\n",
      "from matplotlib import pyplot as plt\n",
      "from scipy import stats\n",
      "from scipy.optimize import brentq\n",
      "\n",
      "import warnings\n",
      "warnings.filterwarnings(\"ignore\", category=DeprecationWarning,\n",
      "                        module=\"pandas\", lineno=570)"
     ],
     "language": "python",
     "metadata": {},
     "outputs": [],
     "prompt_number": 9
    },
    {
     "cell_type": "code",
     "collapsed": false,
     "input": [
      "%run \"/home/felix/Code/BCI/load_full.py\""
     ],
     "language": "python",
     "metadata": {},
     "outputs": [],
     "prompt_number": 2
    },
    {
     "cell_type": "code",
     "collapsed": false,
     "input": [
      "census_data = pd.read_pickle(\"/home/felix/Data/data_BCI/census_data.pickle\")"
     ],
     "language": "python",
     "metadata": {},
     "outputs": [],
     "prompt_number": 3
    },
    {
     "cell_type": "code",
     "collapsed": false,
     "input": [
      "# Only consider one species\n",
      "one_species = census_data.ix[census_data['sp'] == 'protco'].loc[3:]\n",
      "\n",
      "# Move 'growth' one census later, for comparison with death\n",
      "growth = one_species.growth.unstack('CensusID').T.iloc[:-1]\n",
      "growth.index = one_species.index.levels[0][3:]\n",
      "one_species['prev_growth'] = stack_w_censusid(growth.T)\n",
      "\n",
      "# Only consider stem #1 of each plant\n",
      "one_stem = one_species.xs(1, level=\"stemID\")"
     ],
     "language": "python",
     "metadata": {},
     "outputs": [],
     "prompt_number": 4
    },
    {
     "cell_type": "code",
     "collapsed": false,
     "input": [
      "year_growth = one_species.growth*365.25\n",
      "year_growth.describe()"
     ],
     "language": "python",
     "metadata": {},
     "outputs": [
      {
       "output_type": "pyout",
       "prompt_number": 5,
       "text": [
        "count    2207.000000\n",
        "mean        1.132472\n",
        "std         1.660317\n",
        "min        -5.757005\n",
        "25%         0.198938\n",
        "50%         0.591658\n",
        "75%         1.561355\n",
        "max        11.339461\n",
        "dtype: float64"
       ]
      }
     ],
     "prompt_number": 5
    },
    {
     "cell_type": "code",
     "collapsed": false,
     "input": [
      "# Where necessary, estimate times between samples for dead trees\n",
      "for c in one_species.index.levels[0]:\n",
      "    one_species.dt_days[c].fillna(one_species.dt_days[c].mean(), inplace=True)\n",
      "    #one_species.dt_days[c].fillna(one_species.dt_days[c].mean(), inplace=True)"
     ],
     "language": "python",
     "metadata": {},
     "outputs": [],
     "prompt_number": 6
    },
    {
     "cell_type": "code",
     "collapsed": false,
     "input": [
      "def calc_death_rate(t_as, t_ds):\n",
      "    sum_t_a = t_as.sum()\n",
      "    \n",
      "    def max_likely(s):\n",
      "        death_exp_term = np.exp(t_ds/s)\n",
      "\n",
      "        death_term = (t_ds/(death_exp_term - 1)).sum()\n",
      "\n",
      "        return sum_t_a - death_term\n",
      "\n",
      "    return brentq(max_likely, 1e6, 1e-5, xtol = 1e-3) #NB not high tolerance"
     ],
     "language": "python",
     "metadata": {},
     "outputs": [],
     "prompt_number": 7
    },
    {
     "cell_type": "code",
     "collapsed": false,
     "input": [
      "# resolution is 1mm/5yr = 0.2mm/yr\n",
      "bins = (np.arange(-0.4, 2.3, 0.2)-0.1) / 365.25\n",
      "death_rates = {}\n",
      "for b0, b1 in zip(bins[:-1], bins[1:]):\n",
      "    i_pts = (one_species.prev_growth >= b0) & (one_species.prev_growth < b1)\n",
      "    # Is dt_days correct or should we shuffle indexes yet again?\n",
      "    t_as = one_species.dt_days.ix[one_species.survives.fillna(False) & i_pts]\n",
      "    t_ds = one_species.dt_days.ix[one_species.dies.fillna(False) & i_pts]\n",
      "    print len(t_as), len(t_ds), t_as.sum(), sum(t_ds)\n",
      "    #TODO: t_ds.fillna()\n",
      "    \n",
      "    if len(t_as) == 0 or len(t_ds) == 0:\n",
      "        print \"skipping between %f and %f\" % (b0, b1)\n",
      "    else:\n",
      "        death_rates[(b0+b1)/2.] = calc_death_rate(t_as, t_ds)"
     ],
     "language": "python",
     "metadata": {},
     "outputs": [
      {
       "output_type": "stream",
       "stream": "stdout",
       "text": [
        "15 4 27281.0 7283.0\n",
        "48 16 87230.0 29028.0\n",
        "207 45 378164.0 82364.0\n",
        "216 60 394216.0 109936.0\n",
        "142 28 259589.0 51369.0\n",
        "105 9 192057.0 16388.0\n",
        "77 11 140508.0 20125.0\n",
        "71 10 129523.0 18227.0\n",
        "62 8 113359.0 14661.0\n",
        "49 9 89619.0 16485.0\n",
        "35 4 63901.0 7300.0\n",
        "33 5 60164.0 9091.0\n",
        "27"
       ]
      },
      {
       "output_type": "stream",
       "stream": "stdout",
       "text": [
        " 5 49130.0 9049.0\n"
       ]
      }
     ],
     "prompt_number": 10
    },
    {
     "cell_type": "code",
     "collapsed": false,
     "input": [
      "figure(1)\n",
      "death_series = pd.Series(death_rates)\n",
      "death_series.index = death_series.index*365.25\n",
      "(1-np.exp(-365.25/death_series)).plot(marker='.', linestyle='')\n",
      "xlabel(\"growth [mm/year]\")\n",
      "ylabel(\"prob of dying within 1 year\")"
     ],
     "language": "python",
     "metadata": {},
     "outputs": [
      {
       "output_type": "pyout",
       "prompt_number": 11,
       "text": [
        "<matplotlib.text.Text at 0x6ccae10>"
       ]
      }
     ],
     "prompt_number": 11
    },
    {
     "cell_type": "code",
     "collapsed": false,
     "input": [
      "# Implicitly take uniform prior between (0,10000]\n",
      "s = np.linspace(0,9e4,1001)[1:]\n",
      "\n",
      "# resolution is 1mm/5yr = 0.2mm/yr\n",
      "bins = (np.arange(-0.4, 10, 0.2)-0.1) / 365.25\n",
      "\n",
      "death_rates = pd.DataFrame([[]], index=s)\n",
      "for b0, b1 in zip(bins[:-1], bins[1:]):\n",
      "    i_pts = (one_species.prev_growth >= b0) & (one_species.prev_growth < b1)\n",
      "    # Is dt_days correct or should we shuffle indexes yet again?\n",
      "    t_as = one_species.dt_days.ix[one_species.survives.fillna(False) & i_pts]\n",
      "    t_ds = one_species.dt_days.ix[one_species.dies.fillna(False) & i_pts]\n",
      "    \n",
      "    print len(t_as), len(t_ds), t_as.sum(), sum(t_ds)\n",
      "    \n",
      "    sum_t_a = t_as.sum()\n",
      "    \n",
      "    if len(t_as) == 0 or len(t_ds) == 0:\n",
      "        print \"skipping between %f and %f\" % (b0, b1)\n",
      "        death_rates[(b0+b1)/2. * 365.25] = np.nan\n",
      "        continue\n",
      "\n",
      "    s_m, t_ds_m = np.meshgrid(s, t_ds)\n",
      "    death_exp_term = np.exp(-t_ds_m/s_m)\n",
      "    death_term = (np.log(1 - death_exp_term)).sum(axis=0) # sum over times\n",
      "    \n",
      "    log_likely = -sum_t_a/s + death_term\n",
      "    likely = np.exp(log_likely - log_likely.max())\n",
      "    likely /= np.trapz(likely, s)\n",
      "    \n",
      "    death_rates[(b0+b1)/2. * 365.25] = likely\n"
     ],
     "language": "python",
     "metadata": {},
     "outputs": [
      {
       "output_type": "stream",
       "stream": "stdout",
       "text": [
        "15 4 27281.0 7283.0\n",
        "48 16 87230.0 29028.0\n",
        "207 45 378164.0 82364.0\n",
        "216 60 394216.0 109936.0\n",
        "142 28 259589.0 51369.0\n",
        "105 9 192057.0 16388.0\n",
        "77 11 140508.0 20125.0\n",
        "71 10 129523.0 18227.0\n",
        "62 8 113359.0 14661.0\n",
        "49 9 89619.0 16485.0\n",
        "35"
       ]
      },
      {
       "output_type": "stream",
       "stream": "stdout",
       "text": [
        " 4 63901.0 7300.0\n",
        "33 5 60164.0 9091.0\n",
        "27 5 49130.0 9049.0\n",
        "27 1 49288.0 1837.0\n",
        "32 1 58524.0 1809.0\n",
        "21 1 38449.0 1810.0\n",
        "19 1 34726.0 1811.0\n",
        "14 3 25709.0 5516.0\n",
        "17 1 30991.0 1840.0\n",
        "15 1 27249.0 1821.0\n",
        "15 1 27337.0 1842.0\n",
        "14 0 25645.0 0\n",
        "skipping between 0.010130 and 0.010678\n",
        "2 0 3650.0 0\n",
        "skipping between 0.010678 and 0.011225\n",
        "9 0 16464.0 0\n",
        "skipping between 0.011225 and 0.011773\n",
        "8 0 14553.0 0\n",
        "skipping between 0.011773 and 0.012320\n",
        "3 0 5404.0 0\n",
        "skipping between 0.012320 and 0.012868\n",
        "8"
       ]
      },
      {
       "output_type": "stream",
       "stream": "stdout",
       "text": [
        " 0 14454.0 0\n",
        "skipping between 0.012868 and 0.013415\n",
        "1 1 1836.0 1804.0\n",
        "5 1 9138.0 1845.0\n",
        "2 0 3709.0 0\n",
        "skipping between 0.014511 and 0.015058\n",
        "3 0 5534.0 0\n",
        "skipping between 0.015058 and 0.015606\n",
        "3 0 5456.0 0\n",
        "skipping between 0.015606 and 0.016153\n",
        "2 0 3640.0 0\n",
        "skipping between 0.016153 and 0.016701\n",
        "2 0 3619.0 0\n",
        "skipping between 0.016701 and 0.017248\n",
        "5 0 9096.0 0\n",
        "skipping between 0.017248 and 0.017796\n",
        "3 0 5453.0 0\n",
        "skipping between 0.017796 and 0.018344\n",
        "3 0 5461.0 0\n",
        "skipping between 0.018344 and 0.018891\n",
        "3 0 5452.0 0\n",
        "skipping between 0.018891 and 0.019439\n",
        "2 0 3642.0 0\n",
        "skipping between 0.019439 and 0.019986\n",
        "0 1 0 1823.0\n",
        "skipping between 0.019986 and 0.020534\n",
        "1 0 1830.0 0\n",
        "skipping between 0.020534 and 0.021081\n",
        "3 0 5438.0 0\n",
        "skipping between 0.021081 and 0.021629\n",
        "1 0 1844.0 0\n",
        "skipping between 0.021629 and 0.022177\n",
        "1"
       ]
      },
      {
       "output_type": "stream",
       "stream": "stdout",
       "text": [
        " 0 1825.0 0\n",
        "skipping between 0.022177 and 0.022724\n",
        "0 0 0 0\n",
        "skipping between 0.022724 and 0.023272\n",
        "1 0 1835.0 0\n",
        "skipping between 0.023272 and 0.023819\n",
        "3 1 5531.0 1823.0\n",
        "0 0 0 0\n",
        "skipping between 0.024367 and 0.024914\n",
        "0 0 0 0\n",
        "skipping between 0.024914 and 0.025462\n",
        "1 0 1818.0 0\n",
        "skipping between 0.025462 and 0.026010\n",
        "0 0 0 0\n",
        "skipping between 0.026010 and 0.026557\n"
       ]
      }
     ],
     "prompt_number": 15
    },
    {
     "cell_type": "code",
     "collapsed": false,
     "input": [
      "chances = np.linspace(0,1, len(s))\n",
      "#death_chances_1y = {dbh: np.interp(chances, s, rates) for dbh, rates in death_rates.iteritems()}\n",
      "death_chances_5y = pd.DataFrame([[]], index=chances)\n",
      "for bin_cnt in death_rates.columns:\n",
      "    if len(death_rates[bin_cnt])!=0:\n",
      "        death_chances_5y[bin_cnt] = np.interp(chances, 1-np.exp(-5*365.25/s[::-1]), death_rates[bin_cnt][::-1])[::-1]\n",
      "    else:\n",
      "        death_chances_5y[bin_cnt] = np.nan"
     ],
     "language": "python",
     "metadata": {},
     "outputs": [],
     "prompt_number": 16
    },
    {
     "cell_type": "code",
     "collapsed": false,
     "input": [
      "figure(3)\n",
      "imshow(death_chances_5y, cmap='GnBu', interpolation='nearest', aspect=20,\n",
      "       extent=(bins[0]*365.25*5, bins[-1]*365.25*5, chances[0], chances[-1]))\n",
      "#colorbar()\n",
      "print \"%i should be same as %i\" % (len(death_chances_5y.columns), len(bins)-1)\n",
      "xlabel(\"growth [mm/year]\")\n",
      "ylabel(\"prob of dying within 5 years\")"
     ],
     "language": "python",
     "metadata": {},
     "outputs": [
      {
       "output_type": "stream",
       "stream": "stdout",
       "text": [
        "51 should be same as 51\n"
       ]
      },
      {
       "output_type": "pyout",
       "prompt_number": 17,
       "text": [
        "<matplotlib.text.Text at 0xcc87150>"
       ]
      }
     ],
     "prompt_number": 17
    },
    {
     "cell_type": "code",
     "collapsed": false,
     "input": [],
     "language": "python",
     "metadata": {},
     "outputs": [],
     "prompt_number": 17
    },
    {
     "cell_type": "code",
     "collapsed": false,
     "input": [
      "%run \"/home/felix/Code/BCI/load_full.py\"\n",
      "calc_growth(one_species)"
     ],
     "language": "python",
     "metadata": {},
     "outputs": [],
     "prompt_number": 80
    },
    {
     "cell_type": "code",
     "collapsed": false,
     "input": [
      "one_species"
     ],
     "language": "python",
     "metadata": {},
     "outputs": [
      {
       "html": [
        "<pre>\n",
        "&lt;class 'pandas.core.frame.DataFrame'&gt;\n",
        "MultiIndex: 6350 entries, (3, 1289, 0.0) to (7, 481408, 1.0)\n",
        "Data columns (total 25 columns):\n",
        "tag             6350  non-null values\n",
        "StemTag         95  non-null values\n",
        "sp              6350  non-null values\n",
        "quadrat         6350  non-null values\n",
        "gx              6350  non-null values\n",
        "gy              6350  non-null values\n",
        "MeasureID       4796  non-null values\n",
        "origCensusID    4796  non-null values\n",
        "dbh             3848  non-null values\n",
        "pom             3848  non-null values\n",
        "hom             3848  non-null values\n",
        "ExactDate       4796  non-null values\n",
        "DFstatus        6350  non-null values\n",
        "codes           1496  non-null values\n",
        "nostems         4796  non-null values\n",
        "status          6350  non-null values\n",
        "date            6350  non-null values\n",
        "agb             6350  non-null values\n",
        "pddate          4796  non-null values\n",
        "dt_days         2892  non-null values\n",
        "growth          2207  non-null values\n",
        "growth_accel    1363  non-null values\n",
        "survives        3985  non-null values\n",
        "dies            4935  non-null values\n",
        "prev_growth     2207  non-null values\n",
        "dtypes: datetime64[ns](1), float64(16), int64(1), object(7)\n",
        "</pre>"
       ],
       "output_type": "pyout",
       "prompt_number": 81,
       "text": [
        "<class 'pandas.core.frame.DataFrame'>\n",
        "MultiIndex: 6350 entries, (3, 1289, 0.0) to (7, 481408, 1.0)\n",
        "Data columns (total 25 columns):\n",
        "tag             6350  non-null values\n",
        "StemTag         95  non-null values\n",
        "sp              6350  non-null values\n",
        "quadrat         6350  non-null values\n",
        "gx              6350  non-null values\n",
        "gy              6350  non-null values\n",
        "MeasureID       4796  non-null values\n",
        "origCensusID    4796  non-null values\n",
        "dbh             3848  non-null values\n",
        "pom             3848  non-null values\n",
        "hom             3848  non-null values\n",
        "ExactDate       4796  non-null values\n",
        "DFstatus        6350  non-null values\n",
        "codes           1496  non-null values\n",
        "nostems         4796  non-null values\n",
        "status          6350  non-null values\n",
        "date            6350  non-null values\n",
        "agb             6350  non-null values\n",
        "pddate          4796  non-null values\n",
        "dt_days         2892  non-null values\n",
        "growth          2207  non-null values\n",
        "growth_accel    1363  non-null values\n",
        "survives        3985  non-null values\n",
        "dies            4935  non-null values\n",
        "prev_growth     2207  non-null values\n",
        "dtypes: datetime64[ns](1), float64(16), int64(1), object(7)"
       ]
      }
     ],
     "prompt_number": 81
    },
    {
     "cell_type": "code",
     "collapsed": false,
     "input": [
      "one_species.growth_accel[one_species.survives.fillna(False)].dropna()*365.25**2"
     ],
     "language": "python",
     "metadata": {},
     "outputs": [
      {
       "output_type": "pyout",
       "prompt_number": 21,
       "text": [
        "CensusID  treeID  stemID\n",
        "5         8410    1         0.241792\n",
        "          8448    1         0.164367\n",
        "          8449    1        -0.004759\n",
        "          8452    1         0.038712\n",
        "          8481    1        -0.050609\n",
        "          8483    1         0.082183\n",
        "          8494    4         0.164367\n",
        "          8498    1         0.084563\n",
        "          8500    1        -0.041092\n",
        "          8501    1        -0.043471\n",
        "          8502    1         0.000000\n",
        "          8504    1        -0.086942\n",
        "          8508    1         0.000000\n",
        "          8509    1         0.000000\n",
        "          8522    1         0.123275\n",
        "...\n",
        "6         325288  1        -0.162390\n",
        "          325357  1        -0.002321\n",
        "          325407  1         0.000000\n",
        "          325409  1        -0.083629\n",
        "          325438  1         0.000000\n",
        "          325461  1         0.078685\n",
        "          325480  1        -0.082582\n",
        "          325489  1        -0.121835\n",
        "          325520  1        -0.082857\n",
        "          325543  1         0.038273\n",
        "          325548  1        -0.162671\n",
        "          325580  1        -0.243507\n",
        "          325604  1        -0.003135\n",
        "          325623  1         0.038023\n",
        "          325625  1        -0.040518\n",
        "Name: growth_accel, Length: 24921, dtype: float64"
       ]
      }
     ],
     "prompt_number": 21
    },
    {
     "cell_type": "code",
     "collapsed": false,
     "input": [
      "one_species.growth_accel.dropna()*365.25**2"
     ],
     "language": "python",
     "metadata": {},
     "outputs": [
      {
       "output_type": "pyout",
       "prompt_number": 22,
       "text": [
        "CensusID  treeID  stemID\n",
        "5         8410    1         0.241792\n",
        "          8446    1         0.084563\n",
        "          8448    1         0.164367\n",
        "          8449    1        -0.004759\n",
        "          8452    1         0.038712\n",
        "          8481    1        -0.050609\n",
        "          8483    1         0.082183\n",
        "          8494    4         0.164367\n",
        "          8498    1         0.084563\n",
        "          8500    1        -0.041092\n",
        "          8501    1        -0.043471\n",
        "          8502    1         0.000000\n",
        "          8504    1        -0.086942\n",
        "          8508    1         0.000000\n",
        "          8509    1         0.000000\n",
        "...\n",
        "7         344570  1         0.000000\n",
        "          344592  1         0.081953\n",
        "          344598  1        -0.038146\n",
        "          344602  1         0.120177\n",
        "          344604  1        -0.039289\n",
        "          344607  1        -0.116809\n",
        "          344624  1         0.040399\n",
        "          344626  1         0.001068\n",
        "          344627  1         0.082933\n",
        "          344650  1         0.080798\n",
        "          344667  1         0.166198\n",
        "          344757  1         0.000000\n",
        "          344780  1         0.122596\n",
        "          344796  1         0.083158\n",
        "          344812  1         0.003442\n",
        "Name: growth_accel, Length: 46567, dtype: float64"
       ]
      }
     ],
     "prompt_number": 22
    },
    {
     "cell_type": "code",
     "collapsed": false,
     "input": [
      "(one_species.growth_accel*365.25**2).describe()"
     ],
     "language": "python",
     "metadata": {},
     "outputs": [
      {
       "output_type": "pyout",
       "prompt_number": 23,
       "text": [
        "count    46567.000000\n",
        "mean         0.003286\n",
        "std          0.132636\n",
        "min         -4.114151\n",
        "25%         -0.044853\n",
        "50%          0.000000\n",
        "75%          0.078106\n",
        "max          2.068679\n",
        "dtype: float64"
       ]
      }
     ],
     "prompt_number": 23
    },
    {
     "cell_type": "code",
     "collapsed": false,
     "input": [
      "bins = (np.linspace(-0.18, 0.2, 11))\n",
      "bins -= (bins[1]-bins[0])/2\n",
      "one_species.growth_accel_n = one_species.growth_accel * 365.25**2\n",
      "death_rates_accel = {}\n",
      "for b0, b1 in zip(bins[:-1], bins[1:]):\n",
      "    i_pts = (one_species.growth_accel_n >= b0) & (one_species.growth_accel_n < b1)\n",
      "    # Is dt_days correct or should we shuffle indexes yet again?\n",
      "    t_as = one_species.dt_days.ix[one_species.survives.fillna(False) & i_pts]\n",
      "    t_ds = one_species.dt_days.ix[one_species.dies.fillna(False) & i_pts]\n",
      "    print len(t_as), len(t_ds), t_as.sum(), sum(t_ds)\n",
      "    #TODO: t_ds.fillna()\n",
      "    \n",
      "    if len(t_ds) == 0 or len(t_ds) == 0:\n",
      "        print \"skipping between %f and %f\" % (b0, b1)\n",
      "    else:\n",
      "        death_rates_accel[(b0+b1)/2.] = calc_death_rate(t_as, t_ds)"
     ],
     "language": "python",
     "metadata": {},
     "outputs": [
      {
       "output_type": "stream",
       "stream": "stdout",
       "text": [
        "25 3 45847.0 5521.0\n",
        "24 2 44061.0 3630.0\n",
        "45 5 82264.0 9279.0\n",
        "44 13 79831.0 23550.0\n",
        "65 9 118785.0 16411.0\n",
        "82 17 150266.0 31222.0\n",
        "90 19 165001.0 34785.0\n",
        "49 10 90003.0 18411.0\n",
        "33 5 60385.0 9210.0\n",
        "27 4 49213.0 7311.0\n"
       ]
      }
     ],
     "prompt_number": 82
    },
    {
     "cell_type": "code",
     "collapsed": false,
     "input": [
      "figure(2)\n",
      "death_accel_series = pd.Series(death_rates_accel)\n",
      "#death_accel_series.index = death_accel_series.index*365.25\n",
      "(1-np.exp(-5*365.25/death_accel_series)).plot(marker='.', linestyle='', ylim=(0,1))\n",
      "xlabel(\"growth accel [mm/year^2]\")\n",
      "ylabel(\"max likelihood alive after 5 years\")"
     ],
     "language": "python",
     "metadata": {},
     "outputs": [
      {
       "output_type": "pyout",
       "prompt_number": 83,
       "text": [
        "<matplotlib.text.Text at 0xe96ab90>"
       ]
      }
     ],
     "prompt_number": 83
    },
    {
     "cell_type": "code",
     "collapsed": false,
     "input": [
      "# Implicitly take uniform prior between (0,10000]\n",
      "s = np.linspace(0,5e4,1001)[1:]\n",
      "\n",
      "bins = (np.linspace(-0.18, 0.2, 11))\n",
      "bins -= (bins[1]-bins[0])/2\n",
      "one_species.growth_accel_n = one_species.growth_accel * 365.25**2\n",
      "death_rates_accel = pd.DataFrame([[]], index=s)\n",
      "for b0, b1 in zip(bins[:-1], bins[1:]):\n",
      "    i_pts = (one_species.growth_accel_n >= b0) & (one_species.growth_accel_n < b1)\n",
      "    # Is dt_days correct or should we shuffle indexes yet again?\n",
      "    t_as = one_species.dt_days.ix[one_species.survives.fillna(False) & i_pts]\n",
      "    t_ds = one_species.dt_days.ix[one_species.dies.fillna(False) & i_pts]\n",
      "    \n",
      "    print len(t_as), len(t_ds), t_as.sum(), sum(t_ds)\n",
      "    \n",
      "    sum_t_a = t_as.sum()\n",
      "    \n",
      "    if len(t_as) == 0 or len(t_ds) == 0:\n",
      "        print \"skipping between %f and %f\" % (b0, b1)\n",
      "        continue\n",
      "\n",
      "    s_m, t_ds_m = np.meshgrid(s, t_ds)\n",
      "    death_exp_term = np.exp(-t_ds_m/s_m)\n",
      "    death_term = (np.log(1 - death_exp_term)).sum(axis=0) # sum over times\n",
      "    \n",
      "    log_likely = -sum_t_a/s + death_term\n",
      "    likely = np.exp(log_likely - log_likely.max())\n",
      "    likely /= np.trapz(likely, s)\n",
      "    \n",
      "    death_rates_accel[(b0+b1)/2. * 365.25] = likely\n"
     ],
     "language": "python",
     "metadata": {},
     "outputs": [
      {
       "output_type": "stream",
       "stream": "stdout",
       "text": [
        "25 3 45847.0 5521.0\n",
        "24 2 44061.0 3630.0\n",
        "45 5 82264.0 9279.0\n",
        "44 13 79831.0 23550.0\n",
        "65 9 118785.0 16411.0\n",
        "82 17 150266.0 31222.0\n",
        "90 19 165001.0 34785.0\n",
        "49 10 90003.0 18411.0\n",
        "33 5 60385.0 9210.0\n",
        "27 4 49213.0 7311.0\n"
       ]
      }
     ],
     "prompt_number": 84
    },
    {
     "cell_type": "code",
     "collapsed": false,
     "input": [
      "chances = np.linspace(0,1, len(s))\n",
      "#death_chances_1y = {dbh: np.interp(chances, s, rates) for dbh, rates in death_rates.iteritems()}\n",
      "death_chances_5y_accel = pd.DataFrame([[]], index=chances)\n",
      "for bin_cnt in death_rates_accel.columns:\n",
      "    if len(death_rates_accel[bin_cnt])!=0:\n",
      "        death_chances_5y_accel[bin_cnt] = np.interp(chances, 1-np.exp(-5*365.25/s[::-1]), death_rates_accel[bin_cnt][::-1])[::-1]\n",
      "    else:\n",
      "        death_chances_5y_accel[bin_cnt] = np.nan"
     ],
     "language": "python",
     "metadata": {},
     "outputs": [],
     "prompt_number": 85
    },
    {
     "cell_type": "code",
     "collapsed": false,
     "input": [
      "figure(4)\n",
      "imshow(death_chances_5y_accel, cmap='GnBu', interpolation='nearest', aspect=0.3,\n",
      "       extent=(bins[0], bins[-1], chances[0], chances[-1]))\n",
      "colorbar()\n",
      "xlabel(\"growth accel [mm/year^2]\")\n",
      "ylabel(\"prob of dying within 5 years\")"
     ],
     "language": "python",
     "metadata": {},
     "outputs": [
      {
       "output_type": "pyout",
       "prompt_number": 86,
       "text": [
        "<matplotlib.text.Text at 0x16c20550>"
       ]
      }
     ],
     "prompt_number": 86
    },
    {
     "cell_type": "code",
     "collapsed": false,
     "input": [
      "one_species.dodgy_growth_accel[one_species.survives.fillna(False)].dropna()"
     ],
     "language": "python",
     "metadata": {},
     "outputs": [
      {
       "ename": "AttributeError",
       "evalue": "'DataFrame' object has no attribute 'dodgy_growth_accel'",
       "output_type": "pyerr",
       "traceback": [
        "\u001b[0;31m---------------------------------------------------------------------------\u001b[0m\n\u001b[0;31mAttributeError\u001b[0m                            Traceback (most recent call last)",
        "\u001b[0;32m<ipython-input-29-fdc2ad42a887>\u001b[0m in \u001b[0;36m<module>\u001b[0;34m()\u001b[0m\n\u001b[0;32m----> 1\u001b[0;31m \u001b[0mone_species\u001b[0m\u001b[0;34m.\u001b[0m\u001b[0mdodgy_growth_accel\u001b[0m\u001b[0;34m[\u001b[0m\u001b[0mone_species\u001b[0m\u001b[0;34m.\u001b[0m\u001b[0msurvives\u001b[0m\u001b[0;34m.\u001b[0m\u001b[0mfillna\u001b[0m\u001b[0;34m(\u001b[0m\u001b[0mFalse\u001b[0m\u001b[0;34m)\u001b[0m\u001b[0;34m]\u001b[0m\u001b[0;34m.\u001b[0m\u001b[0mdropna\u001b[0m\u001b[0;34m(\u001b[0m\u001b[0;34m)\u001b[0m\u001b[0;34m\u001b[0m\u001b[0m\n\u001b[0m",
        "\u001b[0;32m/usr/lib/python2.7/dist-packages/pandas/core/frame.pyc\u001b[0m in \u001b[0;36m__getattr__\u001b[0;34m(self, name)\u001b[0m\n\u001b[1;32m   2086\u001b[0m             \u001b[0;32mreturn\u001b[0m \u001b[0mself\u001b[0m\u001b[0;34m[\u001b[0m\u001b[0mname\u001b[0m\u001b[0;34m]\u001b[0m\u001b[0;34m\u001b[0m\u001b[0m\n\u001b[1;32m   2087\u001b[0m         raise AttributeError(\"'%s' object has no attribute '%s'\" %\n\u001b[0;32m-> 2088\u001b[0;31m                              (type(self).__name__, name))\n\u001b[0m\u001b[1;32m   2089\u001b[0m \u001b[0;34m\u001b[0m\u001b[0m\n\u001b[1;32m   2090\u001b[0m     \u001b[0;32mdef\u001b[0m \u001b[0m__setattr__\u001b[0m\u001b[0;34m(\u001b[0m\u001b[0mself\u001b[0m\u001b[0;34m,\u001b[0m \u001b[0mname\u001b[0m\u001b[0;34m,\u001b[0m \u001b[0mvalue\u001b[0m\u001b[0;34m)\u001b[0m\u001b[0;34m:\u001b[0m\u001b[0;34m\u001b[0m\u001b[0m\n",
        "\u001b[0;31mAttributeError\u001b[0m: 'DataFrame' object has no attribute 'dodgy_growth_accel'"
       ]
      }
     ],
     "prompt_number": 29
    },
    {
     "cell_type": "code",
     "collapsed": false,
     "input": [
      "one_species.dbh[:,8412]"
     ],
     "language": "python",
     "metadata": {},
     "outputs": []
    },
    {
     "cell_type": "code",
     "collapsed": false,
     "input": [
      "one_species.growth[:,8412]"
     ],
     "language": "python",
     "metadata": {},
     "outputs": []
    },
    {
     "cell_type": "code",
     "collapsed": false,
     "input": [
      "one_species.growth_accel[:,8412]"
     ],
     "language": "python",
     "metadata": {},
     "outputs": [
      {
       "output_type": "pyout",
       "prompt_number": 65,
       "text": [
        "CensusID  stemID\n",
        "1         1         0.000002\n",
        "2         1         0.000002\n",
        "3         1         0.000002\n",
        "4         1              NaN\n",
        "5         0              NaN\n",
        "6         0              NaN\n",
        "7         0              NaN\n",
        "Name: growth_accel, dtype: float64"
       ]
      }
     ],
     "prompt_number": 65
    },
    {
     "cell_type": "code",
     "collapsed": false,
     "input": [
      "%run \"/home/felix/Code/BCI/load_full.py\"\n",
      "calc_growth(one_species)"
     ],
     "language": "python",
     "metadata": {},
     "outputs": [],
     "prompt_number": 64
    },
    {
     "cell_type": "code",
     "collapsed": false,
     "input": [
      "one_species.dies[:,8412]"
     ],
     "language": "python",
     "metadata": {},
     "outputs": [
      {
       "output_type": "pyout",
       "prompt_number": 30,
       "text": [
        "CensusID  stemID\n",
        "1         1         False\n",
        "2         1         False\n",
        "3         1          True\n",
        "4         1         False\n",
        "5         0         False\n",
        "6         0         False\n",
        "7         0           NaN\n",
        "Name: dies, dtype: object"
       ]
      }
     ],
     "prompt_number": 30
    },
    {
     "cell_type": "code",
     "collapsed": false,
     "input": [
      "one_species.dodgy_growth_accel.fillna(method='ffill').fillna(method='bfill')[:,8412]"
     ],
     "language": "python",
     "metadata": {},
     "outputs": [
      {
       "output_type": "pyout",
       "prompt_number": 94,
       "text": [
        "CensusID  stemID\n",
        "1         1         0.466672\n",
        "2         1         0.339398\n",
        "3         1        -0.314651\n",
        "4         1         0.248792\n",
        "5         0        -0.042997\n",
        "6         0        -0.430169\n",
        "7         0         0.003393\n",
        "Name: dodgy_growth_accel, dtype: float64"
       ]
      }
     ],
     "prompt_number": 94
    },
    {
     "cell_type": "code",
     "collapsed": false,
     "input": [
      "# Detect live plants\n",
      "its_alive = (one_stem.status == 'A').unstack().fillna(False)"
     ],
     "language": "python",
     "metadata": {},
     "outputs": [],
     "prompt_number": 7
    },
    {
     "cell_type": "code",
     "collapsed": false,
     "input": [
      "(one_stem.status == 'A').unstack()"
     ],
     "language": "python",
     "metadata": {},
     "outputs": [
      {
       "html": [
        "<pre>\n",
        "&lt;class 'pandas.core.frame.DataFrame'&gt;\n",
        "Int64Index: 7 entries, 1 to 7\n",
        "Columns: 61382 entries, 2 to 481568\n",
        "dtypes: object(61382)\n",
        "</pre>"
       ],
       "output_type": "pyout",
       "prompt_number": 8,
       "text": [
        "<class 'pandas.core.frame.DataFrame'>\n",
        "Int64Index: 7 entries, 1 to 7\n",
        "Columns: 61382 entries, 2 to 481568\n",
        "dtypes: object(61382)"
       ]
      }
     ],
     "prompt_number": 8
    },
    {
     "cell_type": "code",
     "collapsed": false,
     "input": [
      "one_stem_alive = one_stem.ix[its_alive.stack()]"
     ],
     "language": "python",
     "metadata": {},
     "outputs": [],
     "prompt_number": 15
    },
    {
     "cell_type": "code",
     "collapsed": false,
     "input": [
      "# Ignore first two census (small plants only given to 5mm accuracy)\n",
      "rel_pts = one_stem_alive.iloc[3:]"
     ],
     "language": "python",
     "metadata": {},
     "outputs": [],
     "prompt_number": 16
    },
    {
     "cell_type": "code",
     "collapsed": false,
     "input": [
      "assert rel_pts.births_and_deaths.max() <= 0"
     ],
     "language": "python",
     "metadata": {},
     "outputs": [],
     "prompt_number": 17
    },
    {
     "cell_type": "code",
     "collapsed": false,
     "input": [
      "grouped = rel_pts.births_and_deaths.groupby(rel_pts.dbh)\n",
      "(-1.*grouped.sum()/grouped.count()).plot(marker='.', linestyle='')\n",
      "xlabel(\"dbh [mm]\")\n",
      "ylabel(\"proportion dead between censuses\")"
     ],
     "language": "python",
     "metadata": {},
     "outputs": [
      {
       "output_type": "pyout",
       "prompt_number": 18,
       "text": [
        "<matplotlib.text.Text at 0x1351b650>"
       ]
      }
     ],
     "prompt_number": 18
    },
    {
     "cell_type": "markdown",
     "metadata": {},
     "source": [
      "assume death follows an exponential distribution:\n",
      "prob of death given time t, death rate $s$ is $\\frac{1}{s} \\exp (- \\frac{t}{s})$\n",
      "\n",
      "Want to infer $s$ from data. Max likelihood of $s$ when\n",
      "$0 = \\frac{d}{ds} \\ln P(s|D) = \\Sigma_{a \\in \\rm{survivals}} t_a - \\Sigma_{d \\in \\rm{deaths}} \\frac{t_d}{\\exp (t_d/s) - 1}$"
     ]
    },
    {
     "cell_type": "code",
     "collapsed": false,
     "input": [
      "rel_pts.date.unstack().diff().iloc[:,0]"
     ],
     "language": "python",
     "metadata": {},
     "outputs": [
      {
       "output_type": "pyout",
       "prompt_number": 19,
       "text": [
        "CensusID\n",
        "1          NaN\n",
        "2          NaN\n",
        "3          NaN\n",
        "4          NaN\n",
        "5          NaN\n",
        "6          NaN\n",
        "7          NaN\n",
        "Name: 6, dtype: float64"
       ]
      }
     ],
     "prompt_number": 19
    },
    {
     "cell_type": "code",
     "collapsed": false,
     "input": [
      "time_to_next = rel_pts.date.unstack().diff().iloc[1:]\n",
      "time_to_next.index = rel_pts.date.unstack().index[:-1]\n",
      "\n",
      "# When a plant dies and goes missing, record the average sampling time between that pair of censuses\n",
      "# This presumably can be improved by filling from physically neighbouring plants\n",
      "time_to_next.T.fillna(value=time_to_next.mean(axis=1).to_dict(), inplace = True)\n",
      "\n",
      "rel_pts['time_to_next'] = time_to_next.stack()"
     ],
     "language": "python",
     "metadata": {},
     "outputs": [],
     "prompt_number": 21
    },
    {
     "cell_type": "code",
     "collapsed": false,
     "input": [],
     "language": "python",
     "metadata": {},
     "outputs": []
    },
    {
     "cell_type": "code",
     "collapsed": false,
     "input": [
      "rel_pts.births_and_deaths.unstack().iloc[:,0]"
     ],
     "language": "python",
     "metadata": {},
     "outputs": [
      {
       "output_type": "pyout",
       "prompt_number": 22,
       "text": [
        "CensusID\n",
        "1           NaN\n",
        "2            -1\n",
        "3           NaN\n",
        "4           NaN\n",
        "5           NaN\n",
        "6           NaN\n",
        "7           NaN\n",
        "Name: 6, dtype: object"
       ]
      }
     ],
     "prompt_number": 22
    },
    {
     "cell_type": "code",
     "collapsed": false,
     "input": [
      "death_rates = {}\n",
      "for dbh, data in rel_pts.groupby('dbh'):\n",
      "    # get survivals times\n",
      "    t_as = data.time_to_next[data.births_and_deaths == 0]\n",
      "    sum_t_a = t_as.sum()\n",
      "    \n",
      "    t_ds = data.time_to_next[data.births_and_deaths == -1].values\n",
      "    \n",
      "    if len(t_ds) == 0 or sum_t_a == 0:\n",
      "        print \"skipping dbh\", dbh\n",
      "        continue\n",
      "\n",
      "    def max_likely(s):\n",
      "        death_exp_term = np.exp(t_ds/s)\n",
      "\n",
      "        death_term = (t_ds/(death_exp_term - 1)).sum()\n",
      "\n",
      "        return sum_t_a - death_term\n",
      "\n",
      "    death_rates[dbh] = brentq(max_likely, 1e4, 1e-3, xtol = 1e-3) #NB not high tolerance\n"
     ],
     "language": "python",
     "metadata": {},
     "outputs": [
      {
       "output_type": "stream",
       "stream": "stdout",
       "text": [
        "skipping dbh 83.0\n",
        "skipping dbh 89.0\n",
        "skipping dbh 92.0\n",
        "skipping dbh 95.0\n",
        "skipping dbh 97.0\n",
        "skipping dbh 102.0\n",
        "skipping dbh 106.0\n",
        "skipping dbh 110.0\n"
       ]
      }
     ],
     "prompt_number": 23
    },
    {
     "cell_type": "code",
     "collapsed": false,
     "input": [
      "np.exp(1743/365.)"
     ],
     "language": "python",
     "metadata": {},
     "outputs": [
      {
       "output_type": "pyout",
       "prompt_number": 24,
       "text": [
        "118.55090729531216"
       ]
      }
     ],
     "prompt_number": 24
    },
    {
     "cell_type": "code",
     "collapsed": false,
     "input": [
      "death_series = pd.Series(death_rates)"
     ],
     "language": "python",
     "metadata": {},
     "outputs": [],
     "prompt_number": 25
    },
    {
     "cell_type": "code",
     "collapsed": false,
     "input": [
      "(1-np.exp(-365.25/death_series)).plot(marker='.', linestyle='')\n",
      "xlabel(\"dbh [mm]\")\n",
      "ylabel(\"death rate [/year]\")"
     ],
     "language": "python",
     "metadata": {},
     "outputs": [
      {
       "output_type": "pyout",
       "prompt_number": 27,
       "text": [
        "<matplotlib.text.Text at 0xeca1490>"
       ]
      }
     ],
     "prompt_number": 27
    },
    {
     "cell_type": "code",
     "collapsed": false,
     "input": [
      "np.exp(np.linspace(0,1,11)/3.)"
     ],
     "language": "python",
     "metadata": {},
     "outputs": [
      {
       "output_type": "pyout",
       "prompt_number": 28,
       "text": [
        "array([ 1.        ,  1.03389511,  1.06893911,  1.10517092,  1.14263081,\n",
        "        1.18136041,  1.22140276,  1.26280234,  1.30560517,  1.34985881,\n",
        "        1.39561243])"
       ]
      }
     ],
     "prompt_number": 28
    },
    {
     "cell_type": "code",
     "collapsed": false,
     "input": [
      "rel_pts.births_and_deaths.describe()"
     ],
     "language": "python",
     "metadata": {},
     "outputs": [
      {
       "output_type": "pyout",
       "prompt_number": 29,
       "text": [
        "count     167937\n",
        "unique         2\n",
        "top            0\n",
        "freq      122876\n",
        "dtype: int64"
       ]
      }
     ],
     "prompt_number": 29
    },
    {
     "cell_type": "code",
     "collapsed": false,
     "input": [
      "rel_pts.births_and_deaths == -1"
     ],
     "language": "python",
     "metadata": {},
     "outputs": [
      {
       "output_type": "pyout",
       "prompt_number": 30,
       "text": [
        "CensusID  treeID\n",
        "1         8412      False\n",
        "          8413      False\n",
        "          8414       True\n",
        "          8416       True\n",
        "          8426      False\n",
        "          8445      False\n",
        "          8446      False\n",
        "          8448      False\n",
        "          8449      False\n",
        "          8450      False\n",
        "          8452      False\n",
        "          8454      False\n",
        "          8455      False\n",
        "          8459       True\n",
        "          8471       True\n",
        "...\n",
        "7         481340    False\n",
        "          481342    False\n",
        "          481352    False\n",
        "          481367    False\n",
        "          481371    False\n",
        "          481382    False\n",
        "          481434    False\n",
        "          481447    False\n",
        "          481474    False\n",
        "          481503    False\n",
        "          481523    False\n",
        "          481555    False\n",
        "          481559    False\n",
        "          481566    False\n",
        "          481568    False\n",
        "Name: births_and_deaths, Length: 184274, dtype: bool"
       ]
      }
     ],
     "prompt_number": 30
    },
    {
     "cell_type": "code",
     "collapsed": false,
     "input": [],
     "language": "python",
     "metadata": {},
     "outputs": []
    }
   ],
   "metadata": {}
  }
 ]
}